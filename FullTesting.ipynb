{
 "cells": [
  {
   "cell_type": "code",
   "execution_count": 1,
   "metadata": {},
   "outputs": [],
   "source": [
    "from WebScraping import WebScraping\n",
    "from User import User\n",
    "from GPT import GPT\n",
    "ws = WebScraping()"
   ]
  },
  {
   "cell_type": "code",
   "execution_count": 2,
   "metadata": {},
   "outputs": [
    {
     "data": {
      "text/plain": [
       "['https://me.vt.edu/people/faculty/williams-christopher.html',\n",
       " 'https://dreams.mii.vt.edu/people/christopher-williams.html',\n",
       " 'https://vtx.vt.edu/articles/2022/02/eng-williams-nai-senior.html',\n",
       " 'https://www.researchgate.net/profile/Christopher-Williams-64']"
      ]
     },
     "execution_count": 2,
     "metadata": {},
     "output_type": "execute_result"
    }
   ],
   "source": [
    "chris = User(\"Chris Williams\", \"Virginia Tech\")\n",
    "ws.initial_search(chris)\n",
    "chris.initial_search_links = chris.initial_search_links[:4]\n",
    "chris.initial_search_links"
   ]
  },
  {
   "attachments": {},
   "cell_type": "markdown",
   "metadata": {},
   "source": [
    "## **.scrape_researcher()** scrapes all websites in the .initial_search_links"
   ]
  },
  {
   "cell_type": "code",
   "execution_count": 3,
   "metadata": {},
   "outputs": [
    {
     "name": "stdout",
     "output_type": "stream",
     "text": [
      "[New Scrape]\n",
      "Christopher Williams  | Department of Mechanical Engineering | Virginia TechSkip to main contentSkip to searchVirginia Tech®homeUniversal Access ToggleUniversal AccessClose Universal Access dialogUniversal Access OptionsReport a barrierAccessibility portalPause all background videosUnderline all links   ApplyVisitGiveShopHokie GearApparel, clothing, gear and merchandiseHokie ShopUniversity Bookstore, merchandise and giftsHokie License PlatesPart of every Virginia Tech plate purchase funds scholarshipsResources forFuture StudentsCurrent StudentsParents and FamiliesFaculty and StaffAlumniIndustry and Partners  Department of Mechanical EngineeringMenuCollege of Engineering  /Department of Mechanical EngineeringHomeAboutAbout Submenu ToggleMessage from the Department HeadJobsThrust AreasResearchResearch Submenu ToggleLaboratories and CentersPeoplePeople Submenu ToggleFacultyAdvisory BoardLeadershipEmeritus FacultyStaffSociety of Distinguished AlumniJohn Jones Faculty FellowshipsChaired professorships and fellowships within the departmentFor StudentsFor Students Submenu ToggleUndergraduate StudentsGraduate StudentsInternational Opportunities for StudentsMechanical Engineering ScholarshipsStudent TeamsSenior DesignNuclear Engineering MinorAccelerated UG/G ProgramOnline ProgramsDC Greater Metro AreaDC Greater Metro Area Submenu ToggleDC Area AcademicsDC Area ResearchDC Area PeopleNewsNews Submenu ToggleDistinguished Speaker SeriesMomentum: The Mechanical Engineering MagazineMechanical Engineering Annual ReportsGive to Mechanical EngineeringApplyVisitGiveShopHokie GearApparel, clothing, gear and merchandiseHokie ShopUniversity Bookstore, merchandise and giftsHokie License PlatesPart of every Virginia Tech plate purchase funds scholarshipsResources forFuture StudentsCurrent StudentsParents and FamiliesFaculty and StaffAlumniIndustry and PartnersSearchSearchSubmit                College of Engineering                             / Department of Mechanical Engineering / People / Faculty / Christopher Williams / Explore                                                        Faculty                        Current page:                                                                     Christopher Williams                                                                                                Advisory Board                                                                                Leadership                                                                                Emeritus Faculty                                                                                Staff                                                                                Society of Distinguished Alumni                                                                                John Jones Faculty Fellowships                                                                                Chaired professorships and fellowships within the department                                              Christopher Williams                                                                              L.S. Randolph Professor                                                                                                                                                    Thrust Area Specialty: Design Materials and Manufacturing                                        413D Goodwin Hall (0238)635 Prices Fork RoadBlacksburg, VA 24061cbwilliams@vt.edu(540) 231-3422   Research InterestsAdditive Manufacturing (3D Printing)Design for ManufacturingDesign MethodologyEngineering Design EducationDesign for Additive ManufacturingProcess-Property-Structure Relationships for Additive Manufacturing Materials (polymers, ceramics, and metals)Jetting-based Additive Manufacturing ProcessesInformal Learning Environments          Design, Research, and Education for Additive Manufacturing Systems (DREAMS) Lab        PublicationsSee Dr. Williams' publications and research on Google Scholar.Professional History2020-present, LS Randolph Professor, Department of Mechanical Engineering, Virginia Tech2014–2020, Associate Professor, Department of Mechanical Engineering, Virginia Tech2017-Present, J.R. Jones III Faculty Fellow, Department of Mechanical Engineering, Virginia Tech2015-Present, Electro Mechanical Corporation Senior Faculty Fellow, College of Engineering, Virginia Tech2014-2016, W.S. Pete White Chair for Innovation in Engineering Education, College of Engineering, Virginia Tech2012-Present, Affiliate faculty appointment, Department  of Materials Science and Engineering, Virginia Tech2014-Present, Affiliate faculty appointment, Department  of Engineering Education, Virginia Tech2008-2014, Assistant Professor, Department of Mechanical Engineering and Dept. of Engineering Education (Joint appointment), Virginia Tech Awards and Honors2022, Senior member, National Academy of Inventors2017-1st Place, Society of Manufacturing Engineers (SME) Digital Manufacturing Challenge, Faculty Advisor2017-2nd Place ASME Student Manufacturing Design Competition, Faculty Advisor2017-Best Paper Award, International Solid Freeform Fabrication Symposium2016-1st Place, America Makes Innovation Sprint: Smart Structures2016-SXSW Best Use of User Generated Content: VT DreamVendor, Juice Pharma Worldwide2015-Best Poster Award, International Solid Freeform Fabrication Symposium2015-Faculty Fellow, Virginia Tech College of Engineering2014-Outstanding Paper Award, Emerald Publishing Rapid Prototyping Journal2014-Best Paper Award, ASME IDETC 19th Design for Manufacturing and the Life Cycle Conference2014-Best Poster Award, International Solid Freeform Fabrication Symposium2013-Reviewers’ Favorite Award, International Conference on Engineering Design2013-John A. Curtis Lecture Award (Best Paper), ASEE Annual Conference & Exposition, Computers in Education Division2013-National Science Foundation CAREER Award2012-International Outstanding Young Researcher in Freeform and Additive Fabrication Award (FAME Jr. Award)2012-Best Paper Award, ASME IDETC Design Education Conference2011-Charles and Joan Nunnally Outstanding Engineering Education Faculty Member Award, Dept. of Engineering Education, Virginia Tech2010-Emerald Engineering Oustanding Doctoral Research Award, Additive Manufacturing Division2010-Best Paper Award Finalist, ASEE Annual Conference & Exposition – Design in Engineering Education Division2009-Best Poster Presentation Award, International Solid Freeform Fabrication Symposium2008-Best Paper Award, ASME IDETC Design for the Life Cycle and Management ConferenceEducationPh.D. - Mechanical Engineering, Georgia Tech, 2007M.S. - Mechanical Engineering, Georgia Tech, 2003B.S. - Mechanical Engineering, University of Florida, 2000TitleTitleFacultyTitleAdvisory BoardTitleLeadershipTitleEmeritus FacultyTitleStaffTitleSociety of Distinguished AlumniTitleJohn Jones Faculty FellowshipsTitleChaired professorships and fellowships within the department  Virginia Tech Department of Mechanical Engineering445 Goodwin Hall, 635 Prices Fork Road - MC 0238Blacksburg, VA 24061Phone: (540) 231-7183 (Goodwin) (540) 231-9349 (Randolph)Fax: (540) 231-9100LinkedIn | facebook | twitter | instagramGet Directions  See All Locations  Contact Virginia Tech  University StatusPrinciples of CommunityPrivacy StatementAcceptable UseWe RememberUniversity LibrariesAccessibilityConsumer InformationStop AbusePoliciesEqual OpportunityWVTFUniversity BookstoreJobs at Virginia TechStrategic Plan© 2023 Virginia Polytechnic Institute and State University. All rights reserved.FacebookTwitterInstagramLinked InPintrestYouTubeSnapchatTikTok\n",
      "C: True | V: True\n",
      "len:1\n",
      "{\n",
      "  \"choices\": [\n",
      "    {\n",
      "      \"finish_reason\": \"stop\",\n",
      "      \"index\": 0,\n",
      "      \"message\": {\n",
      "        \"content\": \"{\\n    \\\"research_fields\\\": \\\"Additive Manufacturing, Design Methodology, Engineering Design Education, Process-Property-Structure Relationships for Additive Manufacturing Materials\\\",\\n    \\\"research_focus\\\": \\\"Design for Manufacturing, Design for Additive Manufacturing, Jetting-based Additive Manufacturing Processes\\\",\\n    \\\"department\\\": \\\"Department of Mechanical Engineering\\\",\\n    \\\"expertise\\\": \\\"Mechanical Engineering\\\",\\n    \\\"emails\\\": \\\"cbwilliams@vt.edu\\\",\\n    \\\"appointments\\\": [\\n        {\\n            \\\"title\\\": \\\"LS Randolph Professor\\\",\\n            \\\"start_date\\\": \\\"2020\\\",\\n            \\\"end_date\\\": \\\"Present\\\",\\n            \\\"department\\\": \\\"Department of Mechanical Engineering\\\",\\n            \\\"institution\\\": \\\"Virginia Tech\\\"\\n        },\\n        {\\n            \\\"title\\\": \\\"Associate Professor\\\",\\n            \\\"start_date\\\": \\\"2014\\\",\\n            \\\"end_date\\\": \\\"2020\\\",\\n            \\\"department\\\": \\\"Department of Mechanical Engineering\\\",\\n            \\\"institution\\\": \\\"Virginia Tech\\\"\\n        }\\n    ],\\n    \\\"awards\\\": [\\n        {\\n            \\\"name\\\": \\\"Senior member, National Academy of Inventors\\\",\\n            \\\"year\\\": \\\"2022\\\"\\n        },\\n        {\\n            \\\"name\\\": \\\"1st Place, Society of Manufacturing Engineers (SME) Digital Manufacturing Challenge, Faculty Advisor\\\",\\n            \\\"year\\\": \\\"2017\\\"\\n        },\\n        {\\n            \\\"name\\\": \\\"2nd Place ASME Student Manufacturing Design Competition, Faculty Advisor\\\",\\n            \\\"year\\\": \\\"2017\\\"\\n        },\\n        {\\n            \\\"name\\\": \\\"Best Paper Award, International Solid Freeform Fabrication Symposium\\\",\\n            \\\"year\\\": \\\"2017\\\"\\n        },\\n        {\\n            \\\"name\\\": \\\"1st Place, America Makes Innovation Sprint: Smart Structures\\\",\\n            \\\"year\\\": \\\"2016\\\"\\n        },\\n        {\\n            \\\"name\\\": \\\"SXSW Best Use of User Generated Content: VT DreamVendor, Juice Pharma Worldwide\\\",\\n            \\\"year\\\": \\\"2016\\\"\\n        },\\n        {\\n            \\\"name\\\": \\\"Best Poster Award, International Solid Freeform Fabrication Symposium\\\",\\n            \\\"year\\\": \\\"2015\\\"\\n        },\\n        {\\n            \\\"name\\\": \\\"Faculty Fellow, Virginia Tech College of Engineering\\\",\\n            \\\"year\\\": \\\"2015\\\"\\n        },\\n        {\\n            \\\"name\\\": \\\"Outstanding Paper Award, Emerald Publishing Rapid Prototyping Journal\\\",\\n            \\\"year\\\": \\\"2014\\\"\\n        },\\n        {\\n            \\\"name\\\": \\\"Best Paper Award, ASME IDETC 19th Design for Manufacturing and the Life Cycle Conference\\\",\\n            \\\"year\\\": \\\"2014\\\"\\n        },\\n        {\\n            \\\"name\\\": \\\"Best Poster Award, International Solid Freeform Fabrication Symposium\\\",\\n            \\\"year\\\": \\\"2014\\\"\\n        },\\n        {\\n            \\\"name\\\": \\\"Reviewers\\u2019 Favorite Award, International Conference on Engineering Design\\\",\\n            \\\"year\\\": \\\"2013\\\"\\n        },\\n        {\\n            \\\"name\\\": \\\"John A. Curtis Lecture Award (Best Paper), ASEE Annual Conference & Exposition, Computers in Education Division\\\",\\n            \\\"year\\\": \\\"2013\\\"\\n        },\\n        {\\n            \\\"name\\\": \\\"National Science Foundation CAREER Award\\\",\\n            \\\"year\\\": \\\"2013\\\"\\n        },\\n        {\\n            \\\"name\\\": \\\"International Outstanding Young Researcher in Freeform and Additive Fabrication Award (FAME Jr. Award)\\\",\\n            \\\"year\\\": \\\"2012\\\"\\n        },\\n        {\\n            \\\"name\\\": \\\"Best Paper Award, ASME IDETC Design Education Conference\\\",\\n            \\\"year\\\": \\\"2012\\\"\\n        },\\n        {\\n            \\\"name\\\": \\\"Charles and Joan Nunnally Outstanding Engineering Education Faculty Member Award, Dept. of Engineering Education, Virginia Tech\\\",\\n            \\\"year\\\": \\\"2011\\\"\\n        },\\n        {\\n            \\\"name\\\": \\\"Emerald Engineering Oustanding Doctoral Research Award, Additive Manufacturing Division\\\",\\n            \\\"year\\\": \\\"2010\\\"\\n        },\\n        {\\n            \\\"name\\\": \\\"Best Paper Award Finalist, ASEE Annual Conference & Exposition \\u2013 Design in Engineering Education Division\\\",\\n            \\\"year\\\": \\\"2010\\\"\\n        },\\n        {\\n            \\\"name\\\": \\\"Best Poster Presentation Award, International Solid Freeform Fabrication Symposium\\\",\\n            \\\"year\\\": \\\"2009\\\"\\n        },\\n        {\\n            \\\"name\\\": \\\"Best Paper Award, ASME IDETC Design for the Life Cycle and Management Conference\\\",\\n            \\\"year\\\": \\\"2008\\\"\\n        }\\n    ],\\n    \\\"gender\\\": \\\"Male\\\",\\n    \\\"domain\\\": \\\"Academia\\\",\\n    \\\"additional_websites\\\": [\\n        {\\n            \\\"title\\\": \\\"Google Scholar\\\",\\n            \\\"url\\\": \\\"https://scholar.google.com/citations?user=JZJZJLwAAAAJ&hl=en\\\"\\n        }\\n    ]\\n}\",\n",
      "        \"role\": \"assistant\"\n",
      "      }\n",
      "    }\n",
      "  ],\n",
      "  \"created\": 1681271534,\n",
      "  \"id\": \"chatcmpl-74LokvjjnOT4aNdQcq7bDMTVyMThk\",\n",
      "  \"model\": \"gpt-3.5-turbo-0301\",\n",
      "  \"object\": \"chat.completion\",\n",
      "  \"usage\": {\n",
      "    \"completion_tokens\": 933,\n",
      "    \"prompt_tokens\": 1420,\n",
      "    \"total_tokens\": 2353\n",
      "  }\n",
      "}\n",
      "[New Scrape]\n",
      "Dr. Christopher Williams  | Design, Research, and Education for Additive Manufacturing Systems (DREAMS) Lab | Virginia TechSkip to main contentSkip to searchVirginia Tech®homeUniversal Access ToggleUniversal AccessClose Universal Access dialogUniversal Access OptionsReport a barrierAccessibility portalPause all background videosUnderline all links   ApplyVisitGiveShopHokie GearApparel, clothing, gear and merchandiseHokie ShopUniversity Bookstore, merchandise and giftsHokie License PlatesPart of every Virginia Tech plate purchase funds scholarshipsResources forFuture StudentsCurrent StudentsParents and FamiliesFaculty and StaffAlumniIndustry and Partners  DREAMS LabMenuDesign, Research, and Education for Additive Manufacturing Systems (DREAMS) LabhomeResearchResearch Submenu ToggleDesign for Additive ManufacturingMaterials for Additive ManufacturingNovel Additive Manufacturing ProcessesCyber-Physical Security and Quality AssurancePublicationsPublications Submenu ToggleBy TopicDr. Chris Williams on Google ScholarFacilityPeoplePeople Submenu ToggleDr. Christopher WilliamsPostdocsGraduate StudentsUndergraduate StudentsAlumniNewsRAV-FABRAV-FAB Submenu ToggleAbout UsMeet The TeamMediaGet InvolvedApplyVisitGiveShopHokie GearApparel, clothing, gear and merchandiseHokie ShopUniversity Bookstore, merchandise and giftsHokie License PlatesPart of every Virginia Tech plate purchase funds scholarshipsResources forFuture StudentsCurrent StudentsParents and FamiliesFaculty and StaffAlumniIndustry and PartnersSearchSearchSubmit    DREAMS Lab / People / Dr. Christopher Williams / Explore                                                        Research                                                                                Publications                                                                                Facility                                                                                People                        Current page:                                                                     Dr. Christopher Williams                                                                                                            Postdocs                                                                                                            Graduate Students                                                                                                            Undergraduate Students                                                                                                            Alumni                                                                                                News                                                                                RAV-FAB                                              Dr. Christopher Williams                                                                              Director, DREAMS Lab                                                                                                                                                    L.S. Randolph Professor, Mechanical Engineering                                        Goodwin Hall 413E635 Prices Fork RoadBlacksburg, VA 24061cbwill@vt.edu540-231-3422   Dr. Christopher Williams is the L.S. Randolph Professor and the Electro-Mechanical Corporation Senior Faculty Fellow in the Department of Mechanical Engineering at Virginia Tech. He is the Director of the Design, Research, and Education for Additive Manufacturing Systems (DREAMS) Laboratory. He is the former Director of the Macromolecules Innovation Institute and holds affiliate faculty appointments in the Department of Engineering Education and the Department of Material Science & Engineering and.His Additive Manufacturing (AM) expertise spans innovations in (i) AM processes and materials; (ii) design methodologies and tools to guide AM use (i.e., “Design for Additive Manufacturing”); and (iii) cyber-physical security for AM. He has co-authored over 185 peer-reviewed articles and has presented 85+ invited talks. He is a recipient of a National Science Foundation CAREER Award (2013). For his AM research contributions, he was awarded the 2012 International Outstanding Young Researcher in Freeform and Additive Manufacturing Award (FAME Jr. Award; presented by the International Solid Freeform Fabrication Symposium) and the 2010 Emerald Engineering Outstanding Doctoral Research Award in the area of Additive Manufacturing. His research contributions have been recognized by nine Best Paper awards at international design, manufacturing, and engineering education conferences. He currently serves as the Vice Chair of the Additive Manufacturing Community Advisors for SME.Dr. Williams has also received several recognitions for his contributions at Virginia Tech. He received the Alumni Award for Excellence in Graduate Advising and the College of Engineering’s Dean’s Award for Excellence in Research in 2019. He received the John R. Jones III Faculty Fellowship in Mechanical Engineering in 2017, and was named a College of Engineering Faculty Fellow in 2015. For his contributions in the classroom, he received the 2014 W. S. “Pete” White Chair for Innovation in Engineering Education, the 2012 XCaliber Team Award, the 2012 Excellence in Access and Inclusion Award, the 2011 W. S. “Pete” White Award for Innovation in Engineering Education, and the 2009 Dean’s Award for Outreach Excellence.Dr. Williams holds a Ph.D. and M.S. in Mechanical Engineering from the Georgia Institute of Technology (Atlanta, Georgia) and a B.S. with High Honors in Mechanical Engineering from the University of Florida (Gainesville, Florida).Curriculum VitaeLinkedInGoogle ScholarDr. Christopher WilliamsPostdocsGraduate StudentsUndergraduate StudentsAlumni  College of EngineeringDepartment of Mechanical EngineeringMacromolecules Innovation InstituteVirginia Tech Department of Mechanical Engineering410 and 424 Goodwin Hall635 Prices Fork Road - MC 0238Blacksburg, VA 24061Follow the DREAMS LabFacebookTwitterYouTubeGet Directions  See All Locations  Contact Virginia Tech  University StatusPrinciples of CommunityPrivacy StatementAcceptable UseWe RememberUniversity LibrariesAccessibilityConsumer InformationStop AbusePoliciesEqual OpportunityWVTFUniversity BookstoreJobs at Virginia TechStrategic Plan© 2023 Virginia Polytechnic Institute and State University. All rights reserved.FacebookTwitterInstagramLinked InPintrestYouTubeSnapchatTikTok\n",
      "C: True | V: True\n",
      "len:1\n",
      "{\n",
      "  \"choices\": [\n",
      "    {\n",
      "      \"finish_reason\": \"stop\",\n",
      "      \"index\": 0,\n",
      "      \"message\": {\n",
      "        \"content\": \"{\\n  \\\"research_fields\\\": [\\n    \\\"Additive Manufacturing\\\",\\n    \\\"Design\\\",\\n    \\\"Materials Science\\\",\\n    \\\"Engineering Education\\\"\\n  ],\\n  \\\"research_focus\\\": [\\n    \\\"Design for Additive Manufacturing\\\",\\n    \\\"Cyber-Physical Security for Additive Manufacturing\\\"\\n  ],\\n  \\\"department\\\": \\\"Department of Mechanical Engineering\\\",\\n  \\\"expertise\\\": \\\"Additive Manufacturing\\\",\\n  \\\"emails\\\": [\\n    \\\"cbwill@vt.edu\\\"\\n  ],\\n  \\\"appointments\\\": [\\n    \\\"L.S. Randolph Professor\\\",\\n    \\\"Electro-Mechanical Corporation Senior Faculty Fellow\\\"\\n  ],\\n  \\\"awards\\\": [\\n    \\\"National Science Foundation CAREER Award (2013)\\\",\\n    \\\"2012 International Outstanding Young Researcher in Freeform and Additive Manufacturing Award (FAME Jr. Award)\\\",\\n    \\\"2010 Emerald Engineering Outstanding Doctoral Research Award in the area of Additive Manufacturing\\\",\\n    \\\"Alumni Award for Excellence in Graduate Advising\\\",\\n    \\\"College of Engineering\\u2019s Dean\\u2019s Award for Excellence in Research (2019)\\\",\\n    \\\"John R. Jones III Faculty Fellowship in Mechanical Engineering (2017)\\\",\\n    \\\"College of Engineering Faculty Fellow (2015)\\\",\\n    \\\"W. S. \\u201cPete\\u201d White Chair for Innovation in Engineering Education (2014)\\\",\\n    \\\"XCaliber Team Award (2012)\\\",\\n    \\\"Excellence in Access and Inclusion Award (2012)\\\",\\n    \\\"W. S. \\u201cPete\\u201d White Award for Innovation in Engineering Education (2011)\\\",\\n    \\\"Dean\\u2019s Award for Outreach Excellence (2009)\\\"\\n  ],\\n  \\\"gender\\\": \\\"Male\\\",\\n  \\\"domain\\\": \\\"Academia\\\",\\n  \\\"additional_websites\\\": [\\n    \\\"https://scholar.google.com/citations?user=JZJjJLwAAAAJ&hl=en\\\",\\n    \\\"https://www.linkedin.com/in/christopher-williams-7a1a5a5/\\\",\\n    \\\"https://www.mae.vt.edu/people/faculty/williams.html\\\"\\n  ]\\n}\",\n",
      "        \"role\": \"assistant\"\n",
      "      }\n",
      "    }\n",
      "  ],\n",
      "  \"created\": 1681271574,\n",
      "  \"id\": \"chatcmpl-74LpOJiTa9y4u8b7BPCeRFDqocJR8\",\n",
      "  \"model\": \"gpt-3.5-turbo-0301\",\n",
      "  \"object\": \"chat.completion\",\n",
      "  \"usage\": {\n",
      "    \"completion_tokens\": 413,\n",
      "    \"prompt_tokens\": 1185,\n",
      "    \"total_tokens\": 1598\n",
      "  }\n",
      "}\n",
      "[New Scrape]\n",
      "Chris Williams named senior member of the National Academy of Inventors  | VTx | Virginia TechSkip to main contentSkip to searchVirginia Tech® homeUniversal Access ToggleUniversal AccessClose Universal Access dialogUniversal Access OptionsReport a barrierAccessibility portalPause all background videosUnderline all links   ApplyVisitGiveShopHokie GearApparel, clothing, gear and merchandiseHokie ShopUniversity Bookstore, merchandise and giftsHokie License PlatesPart of every Virginia Tech plate purchase funds scholarshipsResources forFuture StudentsCurrent StudentsParents and FamiliesFaculty and StaffAlumniIndustry and Partners  XVTx logo    ExponentiallymoreBrowseCategoriesAcademicsCampus ExperienceCultureImpactResearchVideosFeaturesNews & StoriesMagazinesNoticesDaily DoodleTagsSubscribe to daily emailFor the mediaApplyVisitGiveShopHokie GearApparel, clothing, gear and merchandiseHokie ShopUniversity Bookstore, merchandise and giftsHokie License PlatesPart of every Virginia Tech plate purchase funds scholarshipsResources forFuture StudentsCurrent StudentsParents and FamiliesFaculty and StaffAlumniIndustry and PartnersFacebookTwitterInstagramLinked InPintrestYouTubeSnapchatTikTokSearch toggle    Category: researchChris Williams named senior member of the National Academy of InventorsBy                                Alex Parrish                                        11 Feb 2022Share on FacebookShare on TwitterCopy address link to clipboardChris WilliamsChris Williams, L.S. Randolph Professor of Mechanical Engineering, has been named a senior member of the National Academy of Inventors (NAI). NAI senior members are active faculty, scientists, and administrators from NAI Member Institutions whose innovation-producing technologies have brought, or aspire to bring, real impact on the welfare of society. They also have growing success in patents, licensing, and commercialization, while educating and mentoring the next generation of inventors.The 2022 class of senior members represents 41 research universities and government and nonprofit research institutes. They are named inventors on over 1,093 issued U.S. patents. Williams is among 83 academic inventors named to the 2022 cohort, which also includes Virginia Tech's John Robertson, research professor in the Department of Biomedical Engineering and Mechanics. The senior member level is a step toward becoming a fellow, the group’s highest distinction, with 1,403 fellows worldwide.NAI senior memberships are nominated by an existing NAI Senior Member, after which individuals undergo a rigorous selection process by the NAI Senior Member Advisory Committee. New senior members are elected annually on National Inventors’ Day (Feb. 11). Williams has excelled in the field of additive manufacturing (also called 3D printing), establishing himself as a pioneer from the earliest days of the technology’s appearance on the Virginia Tech campus. He is the director of the Design, Research, and Education for Additive Manufacturing Systems (DREAMS) Lab, which maintains a steady stream of innovation and industry partnerships. He joined the faculty of the Department of Mechanical Engineering in 2008, was named a John R. Jones III Faculty Fellow in 2017,  and was named the L.S. Randolph Professor in 2020. He holds four patents and has several under review.He has authored more than 200 peer-reviewed publications and served as primary investigator or co-primary investigator on more than $25 million of externally funded research. The DREAMS Lab has grown rapidly since Williams arrived on campus, filling two large rooms in Goodwin Hall and adding the capacity for 3D printing materials such as copper, latex, and Kapton. Projects have been sponsored by the National Science Foundation, the Office of Naval Research, the Department of Energy, and industry partners, among others.DREAMS Lab Team. Photo by Alex Parrish for Virginia Tech.“As a kid dreaming of one day becoming an engineer, I set having a single patent as a 'bucket list' -level achievement,” said Williams. “Now, having the experience to work on multiple inventions and to receive this honor is honestly hard for me to believe. This recognition is not possible without the excellent student researchers and faculty collaborators that I have had the honor to work with here at Virginia Tech. I consider myself fortunate to have the opportunity to research the future of additive manufacturing while working alongside its future leaders.”Williams has served as a mentor to those future leaders, working with a host of graduate and undergraduate researchers. Undergraduate mentees include two senior design teams and an undergraduate group that came together in the DREAMS lab for a project that was awarded a $75,000 grant from NASA.Graduate student Lindsey Bezek has worked with Williams since 2014, and is now completing her Ph.D. under Williams' guidance.  The opportunity to do research in the DREAMS lab, from undergraduate research to my senior design project and now through my Ph.D. research, has been a one-of-a-kind opportunity to work in an internationally-recognized facility with an inspiring mentor, Bezek said. Dr. Williams genuinely cares about all of his students - their research, their career goals, their success - and he provides individualized advising to help each student's professional growth. Under his guidance, I have learned how to become a better researcher, while improving skills such as writing and presenting, that will prepare me for success in my future career path.  As additive manufacturing has evolved over the years, Dr. Williams has invested energy and enthusiasm to continue to learn, explore new ideas, and advance the state of the art for several additive manufacturing processes. He has built a lab culture that encourages experimentation, embraces innovation, and values outreach.  His curiosity and passion are what guarantees the sustainability of innovative research in his lab.Williams has used his lab to model the university motto of Ut Prosim (That I May Serve) by mobilizing his team to produce reusable respirators during the earliest days of the COVID-19 pandemic. The mask could be rapidly reproduced during a critical period of the coronavirus outbreak where the demand for personal protective gear far outpaced supplies, providing a backup that could be created on 3D printers.Williams also serves as chair of the Additive Manufacturing Community Leadership Committee within the Society of Manufacturing Engineers. He was the recipient of an NSF CAREER Award in 2013 and named a Faculty Fellow of the Virginia Tech College of Engineering in 2015.We are very proud of Dr. Williams for receiving this recognition,” said Corina Sandu, acting head of the Department of Mechanical Engineering. “His career has been exciting to watch, and many of his peers consider him one of the top experts in his field. He is more than deserving of this award.”Contact:                                            Emily Roediger                                                        540-231-2108TagsCollege of EngineeringFaculty ExcellenceGraduate EducationHonors and AwardsMechanical EngineeringResearchTop NewsShare this storyShare on FacebookShare on TwitterCopy address link to clipboard  Related ContentArticle Item            Critical observations of sinking coasts                        , articleArticle Item            Calling all canines: Help sniff out the dangerous spotted lanternfly                        , articleVideo Item            Undergraduates get hands-on experience in mine ventilation lab                        , videoRelated ContentArticle Item            Engineering students create a culture of support with new inclusive organization                        , articleArticle Item            Safety and reliability for planes: Researchers explore atmospheric hazards to aircraft engines                        , articleVideo Item            Undergraduates get hands-on experience in mine ventilation lab                        , videoGlobal Land Grant ImpactVirginia Tech demonstrates impact as a global land grant – progressing sustainability in our community, through the Commonwealth of Virginia, and around the world.          More Stories        Get Directions See All Locations Contact Virginia Tech University StatusPrivacy StatementAcceptable UseWe RememberUniversity LibrariesAccessibilityConsumer InformationStop AbusePoliciesEqual OpportunityWVTFUniversity BookstoreJobs at Virginia TechStrategic PlanFor the media © 2023 Virginia Polytechnic Institute and State University. All rights reserved.FacebookTwitterInstagramLinked InPintrestYouTubeSnapchatTikTok\n",
      "C: True | V: True\n",
      "len:1\n",
      "{\n",
      "  \"choices\": [\n",
      "    {\n",
      "      \"finish_reason\": \"stop\",\n",
      "      \"index\": 0,\n",
      "      \"message\": {\n",
      "        \"content\": \"{\\n  \\\"research_fields\\\": \\\"Mechanical Engineering, Additive Manufacturing\\\",\\n  \\\"research_focus\\\": \\\"Innovation and industry partnerships in 3D printing\\\",\\n  \\\"department\\\": \\\"Department of Mechanical Engineering\\\",\\n  \\\"expertise\\\": \\\"Additive Manufacturing\\\",\\n  \\\"emails\\\": \\\"N/A\\\",\\n  \\\"appointments\\\": \\\"L.S. Randolph Professor of Mechanical Engineering\\\",\\n  \\\"awards\\\": \\\"Senior Member of the National Academy of Inventors\\\",\\n  \\\"gender\\\": \\\"Male\\\",\\n  \\\"domain\\\": \\\"Academia\\\",\\n  \\\"additional_websites\\\": [\\n    {\\n      \\\"title\\\": \\\"DREAMS Lab\\\",\\n      \\\"url\\\": \\\"https://www.dreams.me.vt.edu/\\\"\\n    },\\n    {\\n      \\\"title\\\": \\\"Virginia Tech Mechanical Engineering Faculty Page\\\",\\n      \\\"url\\\": \\\"https://www.me.vt.edu/people/faculty/williams-chris.html\\\"\\n    }\\n  ]\\n}\",\n",
      "        \"role\": \"assistant\"\n",
      "      }\n",
      "    }\n",
      "  ],\n",
      "  \"created\": 1681271594,\n",
      "  \"id\": \"chatcmpl-74LpiTJUcA5PmGPWYpPAyfLgxVYKb\",\n",
      "  \"model\": \"gpt-3.5-turbo-0301\",\n",
      "  \"object\": \"chat.completion\",\n",
      "  \"usage\": {\n",
      "    \"completion_tokens\": 186,\n",
      "    \"prompt_tokens\": 1746,\n",
      "    \"total_tokens\": 1932\n",
      "  }\n",
      "}\n",
      "[New Scrape]\n",
      "Just a moment...                        Enable JavaScript and cookies to continue\n",
      "C: False | V: False\n"
     ]
    }
   ],
   "source": [
    "ws.scrape_researcher(chris, 2)"
   ]
  },
  {
   "attachments": {},
   "cell_type": "markdown",
   "metadata": {},
   "source": [
    "## **Dedictionaryify** example"
   ]
  },
  {
   "cell_type": "code",
   "execution_count": 4,
   "metadata": {},
   "outputs": [
    {
     "data": {
      "text/plain": [
       "['Google Scholar https://scholar.google.com/citations?user=JZJZJLwAAAAJ&hl=en',\n",
       " 'https://scholar.google.com/citations?user=JZJjJLwAAAAJ&hl=en',\n",
       " 'https://www.linkedin.com/in/christopher-williams-7a1a5a5/',\n",
       " 'https://www.mae.vt.edu/people/faculty/williams.html',\n",
       " 'DREAMS Lab https://www.dreams.me.vt.edu/',\n",
       " 'Virginia Tech Mechanical Engineering Faculty Page https://www.me.vt.edu/people/faculty/williams-chris.html']"
      ]
     },
     "execution_count": 4,
     "metadata": {},
     "output_type": "execute_result"
    }
   ],
   "source": [
    "chris.research_data['additional_websites']\n",
    "dedict_websites = chris.dedictionaryify(chris.research_data['additional_websites'])\n",
    "dedict_websites"
   ]
  },
  {
   "attachments": {},
   "cell_type": "markdown",
   "metadata": {},
   "source": [
    "## **.deduplicate** or make your own"
   ]
  },
  {
   "cell_type": "code",
   "execution_count": 13,
   "metadata": {},
   "outputs": [
    {
     "data": {
      "text/plain": [
       "['Google Scholar https://scholar.google.com/citations?user=JZJZJLwAAAAJ&hl=en',\n",
       " 'https://www.linkedin.com/in/christopher-williams-7a1a5a5/',\n",
       " 'https://www.mae.vt.edu/people/faculty/williams.html',\n",
       " 'DREAMS Lab https://www.dreams.me.vt.edu/']"
      ]
     },
     "execution_count": 13,
     "metadata": {},
     "output_type": "execute_result"
    }
   ],
   "source": [
    "chris.deduplicate(dedict_websites)"
   ]
  },
  {
   "cell_type": "code",
   "execution_count": 11,
   "metadata": {},
   "outputs": [
    {
     "data": {
      "text/plain": [
       "['Google Scholar https://scholar.google.com/citations?user=JZJZJLwAAAAJ&hl=en',\n",
       " 'https://www.linkedin.com/in/christopher-williams-7a1a5a5/',\n",
       " 'https://www.mae.vt.edu/people/faculty/williams.html',\n",
       " 'DREAMS Lab https://www.dreams.me.vt.edu/',\n",
       " 'Virginia Tech Mechanical Engineering Faculty Page https://www.me.vt.edu/people/faculty/williams-chris.html']"
      ]
     },
     "execution_count": 11,
     "metadata": {},
     "output_type": "execute_result"
    }
   ],
   "source": [
    "chris.deduplicate(dedict_websites,threshold=97)"
   ]
  },
  {
   "attachments": {},
   "cell_type": "markdown",
   "metadata": {},
   "source": [
    "## note the difference above"
   ]
  },
  {
   "cell_type": "code",
   "execution_count": 14,
   "metadata": {},
   "outputs": [
    {
     "data": {
      "text/plain": [
       "[{'name': 'Senior member, National Academy of Inventors', 'year': '2022'},\n",
       " {'name': '1st Place, Society of Manufacturing Engineers (SME) Digital Manufacturing Challenge, Faculty Advisor',\n",
       "  'year': '2017'},\n",
       " {'name': '2nd Place ASME Student Manufacturing Design Competition, Faculty Advisor',\n",
       "  'year': '2017'},\n",
       " {'name': 'Best Paper Award, International Solid Freeform Fabrication Symposium',\n",
       "  'year': '2017'},\n",
       " {'name': '1st Place, America Makes Innovation Sprint: Smart Structures',\n",
       "  'year': '2016'},\n",
       " {'name': 'SXSW Best Use of User Generated Content: VT DreamVendor, Juice Pharma Worldwide',\n",
       "  'year': '2016'},\n",
       " {'name': 'Best Poster Award, International Solid Freeform Fabrication Symposium',\n",
       "  'year': '2015'},\n",
       " {'name': 'Faculty Fellow, Virginia Tech College of Engineering',\n",
       "  'year': '2015'},\n",
       " {'name': 'Outstanding Paper Award, Emerald Publishing Rapid Prototyping Journal',\n",
       "  'year': '2014'},\n",
       " {'name': 'Best Paper Award, ASME IDETC 19th Design for Manufacturing and the Life Cycle Conference',\n",
       "  'year': '2014'},\n",
       " {'name': 'Best Poster Award, International Solid Freeform Fabrication Symposium',\n",
       "  'year': '2014'},\n",
       " {'name': 'Reviewers’ Favorite Award, International Conference on Engineering Design',\n",
       "  'year': '2013'},\n",
       " {'name': 'John A. Curtis Lecture Award (Best Paper), ASEE Annual Conference & Exposition, Computers in Education Division',\n",
       "  'year': '2013'},\n",
       " {'name': 'National Science Foundation CAREER Award', 'year': '2013'},\n",
       " {'name': 'International Outstanding Young Researcher in Freeform and Additive Fabrication Award (FAME Jr. Award)',\n",
       "  'year': '2012'},\n",
       " {'name': 'Best Paper Award, ASME IDETC Design Education Conference',\n",
       "  'year': '2012'},\n",
       " {'name': 'Charles and Joan Nunnally Outstanding Engineering Education Faculty Member Award, Dept. of Engineering Education, Virginia Tech',\n",
       "  'year': '2011'},\n",
       " {'name': 'Emerald Engineering Oustanding Doctoral Research Award, Additive Manufacturing Division',\n",
       "  'year': '2010'},\n",
       " {'name': 'Best Paper Award Finalist, ASEE Annual Conference & Exposition – Design in Engineering Education Division',\n",
       "  'year': '2010'},\n",
       " {'name': 'Best Poster Presentation Award, International Solid Freeform Fabrication Symposium',\n",
       "  'year': '2009'},\n",
       " {'name': 'Best Paper Award, ASME IDETC Design for the Life Cycle and Management Conference',\n",
       "  'year': '2008'},\n",
       " 'National Science Foundation CAREER Award (2013)',\n",
       " '2012 International Outstanding Young Researcher in Freeform and Additive Manufacturing Award (FAME Jr. Award)',\n",
       " '2010 Emerald Engineering Outstanding Doctoral Research Award in the area of Additive Manufacturing',\n",
       " 'Alumni Award for Excellence in Graduate Advising',\n",
       " 'College of Engineering’s Dean’s Award for Excellence in Research (2019)',\n",
       " 'John R. Jones III Faculty Fellowship in Mechanical Engineering (2017)',\n",
       " 'College of Engineering Faculty Fellow (2015)',\n",
       " 'W. S. “Pete” White Chair for Innovation in Engineering Education (2014)',\n",
       " 'XCaliber Team Award (2012)',\n",
       " 'Excellence in Access and Inclusion Award (2012)',\n",
       " 'W. S. “Pete” White Award for Innovation in Engineering Education (2011)',\n",
       " 'Dean’s Award for Outreach Excellence (2009)',\n",
       " 'Senior Member of the National Academy of Inventors']"
      ]
     },
     "execution_count": 14,
     "metadata": {},
     "output_type": "execute_result"
    }
   ],
   "source": [
    "chris.research_data['awards']"
   ]
  },
  {
   "cell_type": "code",
   "execution_count": null,
   "metadata": {},
   "outputs": [],
   "source": []
  }
 ],
 "metadata": {
  "kernelspec": {
   "display_name": "base",
   "language": "python",
   "name": "python3"
  },
  "language_info": {
   "codemirror_mode": {
    "name": "ipython",
    "version": 3
   },
   "file_extension": ".py",
   "mimetype": "text/x-python",
   "name": "python",
   "nbconvert_exporter": "python",
   "pygments_lexer": "ipython3",
   "version": "3.9.12"
  },
  "orig_nbformat": 4
 },
 "nbformat": 4,
 "nbformat_minor": 2
}
