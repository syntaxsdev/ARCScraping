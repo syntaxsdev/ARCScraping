{
 "cells": [
  {
   "cell_type": "code",
   "execution_count": 12,
   "metadata": {},
   "outputs": [],
   "source": [
    "from WebScraping import WebScraping\n",
    "from User import User\n",
    "from GPT import GPT\n",
    "ws = WebScraping()"
   ]
  },
  {
   "cell_type": "code",
   "execution_count": 13,
   "metadata": {},
   "outputs": [
    {
     "data": {
      "text/plain": [
       "['https://vtx.vt.edu/articles/2022/02/eng-williams-nai-senior.html',\n",
       " 'https://dreams.mii.vt.edu/people/christopher-williams.html',\n",
       " 'https://objexunlimited.com/portfolio-item/dr-chris-williams-ph-d-and-the-virginia-tech-dreamslab/',\n",
       " 'https://www.researchgate.net/profile/Christopher-Williams-64']"
      ]
     },
     "execution_count": 13,
     "metadata": {},
     "output_type": "execute_result"
    }
   ],
   "source": [
    "chris = User(\"Chris Williams\", \"Virginia Tech\")\n",
    "ws.initial_search(chris)\n",
    "chris.initial_search_links = chris.initial_search_links[:4]\n",
    "chris.initial_search_links"
   ]
  },
  {
   "attachments": {},
   "cell_type": "markdown",
   "metadata": {},
   "source": [
    "## **.scrape_researcher()** scrapes all websites in the .initial_search_links"
   ]
  },
  {
   "cell_type": "code",
   "execution_count": 15,
   "metadata": {},
   "outputs": [
    {
     "name": "stdout",
     "output_type": "stream",
     "text": [
      "Scraping researcher method\n",
      "PAGE SCRAPED:PAGE SCRAPED: https://dreams.mii.vt.edu/people/christopher-williams.html\n",
      " https://vtx.vt.edu/articles/2022/02/eng-williams-nai-senior.html\n",
      "PAGE SCRAPED: https://objexunlimited.com/portfolio-item/dr-chris-williams-ph-d-and-the-virginia-tech-dreamslab/\n",
      "PAGE SCRAPED: https://www.researchgate.net/profile/Christopher-Williams-64\n"
     ]
    }
   ],
   "source": [
    "await ws.scrape_researcher(chris, 2)"
   ]
  },
  {
   "attachments": {},
   "cell_type": "markdown",
   "metadata": {},
   "source": [
    "## **Dedictionaryify** example"
   ]
  },
  {
   "cell_type": "code",
   "execution_count": 4,
   "metadata": {},
   "outputs": [
    {
     "data": {
      "text/plain": [
       "['Google Scholar https://scholar.google.com/citations?user=JZJZJLwAAAAJ&hl=en',\n",
       " 'https://scholar.google.com/citations?user=JZJjJLwAAAAJ&hl=en',\n",
       " 'https://www.linkedin.com/in/christopher-williams-7a1a5a5/',\n",
       " 'https://www.mae.vt.edu/people/faculty/williams.html',\n",
       " 'DREAMS Lab https://www.dreams.me.vt.edu/',\n",
       " 'Virginia Tech Mechanical Engineering Faculty Page https://www.me.vt.edu/people/faculty/williams-chris.html']"
      ]
     },
     "execution_count": 4,
     "metadata": {},
     "output_type": "execute_result"
    }
   ],
   "source": [
    "chris.research_data['additional_websites']\n",
    "dedict_websites = chris.dedictionaryify(chris.research_data['additional_websites'])\n",
    "dedict_websites"
   ]
  },
  {
   "attachments": {},
   "cell_type": "markdown",
   "metadata": {},
   "source": [
    "## **.deduplicate** or make your own"
   ]
  },
  {
   "cell_type": "code",
   "execution_count": 13,
   "metadata": {},
   "outputs": [
    {
     "data": {
      "text/plain": [
       "['Google Scholar https://scholar.google.com/citations?user=JZJZJLwAAAAJ&hl=en',\n",
       " 'https://www.linkedin.com/in/christopher-williams-7a1a5a5/',\n",
       " 'https://www.mae.vt.edu/people/faculty/williams.html',\n",
       " 'DREAMS Lab https://www.dreams.me.vt.edu/']"
      ]
     },
     "execution_count": 13,
     "metadata": {},
     "output_type": "execute_result"
    }
   ],
   "source": [
    "chris.deduplicate(dedict_websites)"
   ]
  },
  {
   "cell_type": "code",
   "execution_count": 11,
   "metadata": {},
   "outputs": [
    {
     "data": {
      "text/plain": [
       "['Google Scholar https://scholar.google.com/citations?user=JZJZJLwAAAAJ&hl=en',\n",
       " 'https://www.linkedin.com/in/christopher-williams-7a1a5a5/',\n",
       " 'https://www.mae.vt.edu/people/faculty/williams.html',\n",
       " 'DREAMS Lab https://www.dreams.me.vt.edu/',\n",
       " 'Virginia Tech Mechanical Engineering Faculty Page https://www.me.vt.edu/people/faculty/williams-chris.html']"
      ]
     },
     "execution_count": 11,
     "metadata": {},
     "output_type": "execute_result"
    }
   ],
   "source": [
    "chris.deduplicate(dedict_websites,threshold=97)"
   ]
  },
  {
   "attachments": {},
   "cell_type": "markdown",
   "metadata": {},
   "source": [
    "## note the difference above"
   ]
  },
  {
   "cell_type": "code",
   "execution_count": 14,
   "metadata": {},
   "outputs": [
    {
     "data": {
      "text/plain": [
       "[{'name': 'Senior member, National Academy of Inventors', 'year': '2022'},\n",
       " {'name': '1st Place, Society of Manufacturing Engineers (SME) Digital Manufacturing Challenge, Faculty Advisor',\n",
       "  'year': '2017'},\n",
       " {'name': '2nd Place ASME Student Manufacturing Design Competition, Faculty Advisor',\n",
       "  'year': '2017'},\n",
       " {'name': 'Best Paper Award, International Solid Freeform Fabrication Symposium',\n",
       "  'year': '2017'},\n",
       " {'name': '1st Place, America Makes Innovation Sprint: Smart Structures',\n",
       "  'year': '2016'},\n",
       " {'name': 'SXSW Best Use of User Generated Content: VT DreamVendor, Juice Pharma Worldwide',\n",
       "  'year': '2016'},\n",
       " {'name': 'Best Poster Award, International Solid Freeform Fabrication Symposium',\n",
       "  'year': '2015'},\n",
       " {'name': 'Faculty Fellow, Virginia Tech College of Engineering',\n",
       "  'year': '2015'},\n",
       " {'name': 'Outstanding Paper Award, Emerald Publishing Rapid Prototyping Journal',\n",
       "  'year': '2014'},\n",
       " {'name': 'Best Paper Award, ASME IDETC 19th Design for Manufacturing and the Life Cycle Conference',\n",
       "  'year': '2014'},\n",
       " {'name': 'Best Poster Award, International Solid Freeform Fabrication Symposium',\n",
       "  'year': '2014'},\n",
       " {'name': 'Reviewers’ Favorite Award, International Conference on Engineering Design',\n",
       "  'year': '2013'},\n",
       " {'name': 'John A. Curtis Lecture Award (Best Paper), ASEE Annual Conference & Exposition, Computers in Education Division',\n",
       "  'year': '2013'},\n",
       " {'name': 'National Science Foundation CAREER Award', 'year': '2013'},\n",
       " {'name': 'International Outstanding Young Researcher in Freeform and Additive Fabrication Award (FAME Jr. Award)',\n",
       "  'year': '2012'},\n",
       " {'name': 'Best Paper Award, ASME IDETC Design Education Conference',\n",
       "  'year': '2012'},\n",
       " {'name': 'Charles and Joan Nunnally Outstanding Engineering Education Faculty Member Award, Dept. of Engineering Education, Virginia Tech',\n",
       "  'year': '2011'},\n",
       " {'name': 'Emerald Engineering Oustanding Doctoral Research Award, Additive Manufacturing Division',\n",
       "  'year': '2010'},\n",
       " {'name': 'Best Paper Award Finalist, ASEE Annual Conference & Exposition – Design in Engineering Education Division',\n",
       "  'year': '2010'},\n",
       " {'name': 'Best Poster Presentation Award, International Solid Freeform Fabrication Symposium',\n",
       "  'year': '2009'},\n",
       " {'name': 'Best Paper Award, ASME IDETC Design for the Life Cycle and Management Conference',\n",
       "  'year': '2008'},\n",
       " 'National Science Foundation CAREER Award (2013)',\n",
       " '2012 International Outstanding Young Researcher in Freeform and Additive Manufacturing Award (FAME Jr. Award)',\n",
       " '2010 Emerald Engineering Outstanding Doctoral Research Award in the area of Additive Manufacturing',\n",
       " 'Alumni Award for Excellence in Graduate Advising',\n",
       " 'College of Engineering’s Dean’s Award for Excellence in Research (2019)',\n",
       " 'John R. Jones III Faculty Fellowship in Mechanical Engineering (2017)',\n",
       " 'College of Engineering Faculty Fellow (2015)',\n",
       " 'W. S. “Pete” White Chair for Innovation in Engineering Education (2014)',\n",
       " 'XCaliber Team Award (2012)',\n",
       " 'Excellence in Access and Inclusion Award (2012)',\n",
       " 'W. S. “Pete” White Award for Innovation in Engineering Education (2011)',\n",
       " 'Dean’s Award for Outreach Excellence (2009)',\n",
       " 'Senior Member of the National Academy of Inventors']"
      ]
     },
     "execution_count": 14,
     "metadata": {},
     "output_type": "execute_result"
    }
   ],
   "source": [
    "chris.research_data['awards']"
   ]
  },
  {
   "cell_type": "code",
   "execution_count": 21,
   "metadata": {},
   "outputs": [
    {
     "data": {
      "text/plain": [
       "{'name': ['Chris', 'Williams'],\n",
       " 'institution': ['V', 'i', 'r', 'g', 'n', 'a', ' ', 'T', 'e', 'c', 'h'],\n",
       " 'gender': ['M', 'a', 'l', 'e'],\n",
       " 'domain': ['A', 'c', 'd', 'e', 'm', 'i'],\n",
       " 'emails': ['cbwill@vt.edu'],\n",
       " 'additional_websites': ['http://afinia.com/virginia-tech-dreamslab/',\n",
       "  {'title': 'DREAMS Lab', 'url': 'https://www.dreams.me.vt.edu/'},\n",
       "  {'title': 'Virginia Tech Mechanical Engineering Faculty',\n",
       "   'url': 'https://www.me.vt.edu/people/faculty/williams-chris.html'},\n",
       "  'https://www.linkedin.com/in/christopher-williams-7a5a3a5/',\n",
       "  'https://scholar.google.com/citations?user=JZJZJLcAAAAJ&hl=en'],\n",
       " 'department': ['Department of Engineering Education'],\n",
       " 'research_focus': ['STEM Education, K-12 Outreach, Design for Additive Manufacturing',\n",
       "  'Innovation and industry partnerships in 3D printing',\n",
       "  'Innovations in AM processes and materials',\n",
       "  'Design methodologies and tools to guide AM use',\n",
       "  'Cyber-physical security for AM'],\n",
       " 'research_fields': ['Engineering Education, Additive Manufacturing, 3D Printing',\n",
       "  'Cyber-Physical Security for Additive Manufacturing'],\n",
       " 'expertise': ['Assistant Professor', 'Additive Manufacturing'],\n",
       " 'awards': ['2012 International Outstanding Young Researcher in freeform and additive manufacturing by the International Solid Freeform Manufacturing Association',\n",
       "  'Senior Member of the National Academy of Inventors',\n",
       "  'National Science Foundation CAREER Award (2013)',\n",
       "  '2010 Emerald Engineering Outstanding Doctoral Research Award in the area of Additive Manufacturing',\n",
       "  'Alumni Award for Excellence in Graduate Advising',\n",
       "  'College of Engineering’s Dean’s Award for Excellence in Research (2019)',\n",
       "  'John R. Jones III Faculty Fellowship in Mechanical Engineering (2017)',\n",
       "  'College of Engineering Faculty Fellow (2015)',\n",
       "  '2014 W. S. “Pete” White Chair for Innovation in Engineering Education',\n",
       "  '2012 XCaliber Team Award',\n",
       "  '2012 Excellence in Access and Inclusion Award',\n",
       "  '2009 Dean’s Award for Outreach Excellence'],\n",
       " 'appointments': ['Director of DREAMSLab at Virginia Tech',\n",
       "  'L.S. Randolph Professor of Mechanical Engineering',\n",
       "  'Electro-Mechanical Corporation Senior Faculty Fellow']}"
      ]
     },
     "execution_count": 21,
     "metadata": {},
     "output_type": "execute_result"
    }
   ],
   "source": [
    "chris.research_data"
   ]
  },
  {
   "cell_type": "code",
   "execution_count": 19,
   "metadata": {},
   "outputs": [],
   "source": [
    "from fuzzywuzzy import fuzz\n",
    "def is_content_similar(name1, name2, threshold=80):\n",
    "        similarity = fuzz.token_set_ratio(name1, name2)\n",
    "        return similarity >= threshold\n",
    "\n",
    "def deduplicate(names, threshold=85):\n",
    "    unique_vals = []\n",
    "    for name in names:\n",
    "        if not any(is_content_similar(name, unique_val, threshold) for unique_val in unique_vals):\n",
    "            unique_vals.append(name)\n",
    "    return unique_vals\n",
    "\n",
    "for fields in chris.research_data:\n",
    "     chris.research_data[fields] = deduplicate(chris.research_data[fields])"
   ]
  },
  {
   "cell_type": "code",
   "execution_count": 20,
   "metadata": {},
   "outputs": [
    {
     "data": {
      "text/plain": [
       "{'name': ['Chris', 'Williams'],\n",
       " 'institution': ['V', 'i', 'r', 'g', 'n', 'a', ' ', 'T', 'e', 'c', 'h'],\n",
       " 'gender': ['M', 'a', 'l', 'e'],\n",
       " 'domain': ['A', 'c', 'd', 'e', 'm', 'i'],\n",
       " 'emails': ['cbwill@vt.edu'],\n",
       " 'additional_websites': ['http://afinia.com/virginia-tech-dreamslab/',\n",
       "  {'title': 'DREAMS Lab', 'url': 'https://www.dreams.me.vt.edu/'},\n",
       "  {'title': 'Virginia Tech Mechanical Engineering Faculty',\n",
       "   'url': 'https://www.me.vt.edu/people/faculty/williams-chris.html'},\n",
       "  'https://www.linkedin.com/in/christopher-williams-7a5a3a5/',\n",
       "  'https://scholar.google.com/citations?user=JZJZJLcAAAAJ&hl=en'],\n",
       " 'department': ['Department of Engineering Education'],\n",
       " 'research_focus': ['STEM Education, K-12 Outreach, Design for Additive Manufacturing',\n",
       "  'Innovation and industry partnerships in 3D printing',\n",
       "  'Innovations in AM processes and materials',\n",
       "  'Design methodologies and tools to guide AM use',\n",
       "  'Cyber-physical security for AM'],\n",
       " 'research_fields': ['Engineering Education, Additive Manufacturing, 3D Printing',\n",
       "  'Cyber-Physical Security for Additive Manufacturing'],\n",
       " 'expertise': ['Assistant Professor', 'Additive Manufacturing'],\n",
       " 'awards': ['2012 International Outstanding Young Researcher in freeform and additive manufacturing by the International Solid Freeform Manufacturing Association',\n",
       "  'Senior Member of the National Academy of Inventors',\n",
       "  'National Science Foundation CAREER Award (2013)',\n",
       "  '2010 Emerald Engineering Outstanding Doctoral Research Award in the area of Additive Manufacturing',\n",
       "  'Alumni Award for Excellence in Graduate Advising',\n",
       "  'College of Engineering’s Dean’s Award for Excellence in Research (2019)',\n",
       "  'John R. Jones III Faculty Fellowship in Mechanical Engineering (2017)',\n",
       "  'College of Engineering Faculty Fellow (2015)',\n",
       "  '2014 W. S. “Pete” White Chair for Innovation in Engineering Education',\n",
       "  '2012 XCaliber Team Award',\n",
       "  '2012 Excellence in Access and Inclusion Award',\n",
       "  '2009 Dean’s Award for Outreach Excellence'],\n",
       " 'appointments': ['Director of DREAMSLab at Virginia Tech',\n",
       "  'L.S. Randolph Professor of Mechanical Engineering',\n",
       "  'Electro-Mechanical Corporation Senior Faculty Fellow']}"
      ]
     },
     "execution_count": 20,
     "metadata": {},
     "output_type": "execute_result"
    }
   ],
   "source": [
    "chris.research_data"
   ]
  },
  {
   "cell_type": "code",
   "execution_count": null,
   "metadata": {},
   "outputs": [],
   "source": []
  }
 ],
 "metadata": {
  "kernelspec": {
   "display_name": "base",
   "language": "python",
   "name": "python3"
  },
  "language_info": {
   "codemirror_mode": {
    "name": "ipython",
    "version": 3
   },
   "file_extension": ".py",
   "mimetype": "text/x-python",
   "name": "python",
   "nbconvert_exporter": "python",
   "pygments_lexer": "ipython3",
   "version": "3.9.12"
  },
  "orig_nbformat": 4
 },
 "nbformat": 4,
 "nbformat_minor": 2
}
