{
 "cells": [
  {
   "cell_type": "code",
   "execution_count": 25,
   "metadata": {},
   "outputs": [],
   "source": [
    "import openai, json, os\n",
    "from dotenv import load_dotenv\n",
    "load_dotenv()\n",
    "openai.api_key = os.getenv(\"API_KEY\")\n",
    "\n"
   ]
  },
  {
   "cell_type": "code",
   "execution_count": 29,
   "metadata": {},
   "outputs": [
    {
     "data": {
      "text/plain": [
       "['Researcher: Sean R. Agnew',\n",
       " 'Research Fields: Materials Science and Engineering, Surface and Interface Science and Engineering, Metallurgy, Materials Characterization, Nanomaterials and nanomanufacturing, Advanced materials for transportation applications',\n",
       " 'Expertise: Metals analysis, magnesium alloy formability, intermetallic behaviors, and aluminum alloy fatigue',\n",
       " 'Email: sra4p@virginia.edu',\n",
       " 'Appointments: William G. Reynolds Professor of Materials Science, Professor of Materials Science and Engineering',\n",
       " 'Gender: Male',\n",
       " 'Domain: Academia',\n",
       " 'Personal Website: The Agnew Research Group (not provided in the text, but likely exists)']"
      ]
     },
     "execution_count": 29,
     "metadata": {},
     "output_type": "execute_result"
    }
   ],
   "source": [
    "response = openai.ChatCompletion.create(\n",
    "    model=\"gpt-3.5-turbo\",\n",
    "    messages=[{\"role\": \"system\", \"content\": \"Your job is to identify researchers research fields, research focus, expertise, emails, appointments, awards, gender (based off their name), domain (Academia, Industry or Government), and personal website only. This is for a web-scraping research project.\"},\n",
    "              {\"role\": \"user\", \"content\": \"Sean R. Agnew | University of Virginia School of Engineering and Applied Sciencedeadlineeventfeaturedlisttimelineopen-bookpencil-paperdummyarrowcheckboxchevronclosefetusfingerprinthamburgerheartbeatmagnifying-glassminusplaneplusribbonsearchshapeskinny-arrowtrophyuva-engineering-logouva-seas-logovenus-symbolmoleculeawardcalendarcontactemailhomeleft-arrowlightbulbnewspublicationsresearchyoutubelinkedininstagramtwitterfacebookJump to HeaderJump to Main ContentJump to FooterUniversity of Virginia School of Engineering and Applied Science | Homepage     SearchSubmit  Future GradsGraduate AdmissionGraduate ProgramsDiversity, Equity, EngagementProfessional DevelopmentFuture UndergradsExplore EngineeringAdmissionAcademicsStudent LifeUndergrad ResearchDiversity, Equity, EngagementResearchEngineering for HealthEngineering for the Cyber FutureEngineering Technologies for a Sustainable and Connected WorldOffice of ResearchFaculty Labs & GroupsMultidisciplinary Team Labs and GroupsCenters & InstitutesResearch FacilitiesUndergraduate ResearchDepartmentsBiomedical EngineeringChemical EngineeringComputer ScienceElectrical and Computer EngineeringEngineering and SocietyEngineering Systems and EnvironmentMaterials Science and EngineeringMechanical and Aerospace EngineeringDegree ProgramsAerospace Engineering Biomedical EngineeringChemical Engineering Civil EngineeringComputer Engineering Computer ScienceElectrical Engineering Engineering Science Materials Science and Engineering Mechanical Engineering Systems EngineeringApplied Math MinorAboutMission and VisionApproach to EducationMeet the DeanLeadership TeamBoard of TrusteesFacts and StatsDiversity, Equity, EngagementHistoryFacilitiesVisit UsCorporate PartnershipsOffices and Programs Find FacultyCurrent Faculty & StaffCurrent StudentsNewsEventsEngageGive Jump to Footer Sean R. AgnewWilliam G. Reynolds Professor of Materials ScienceProfessor of Materials Science and EngineeringHomeFind FacultySean R. AgnewBio​Ph.D. Northwestern University, 1998​B.S. Cornell University, 1994Looking at the microstructure of crystalline materials through experimentation, their properties impact performance in every modern industry.Sean R. Agnew, Professor of Materials Science and EngineeringOur research is focused primarily on metals analysis, including magnesium alloy formability, intermetallic behaviors, and aluminum alloy fatigue. Our methods of analysis typically include uses of SEM, TEM, XRD, and Neutron diffraction. Also included in our army of techniques is mechanical testing.Research InterestsSurface and Interface Science and EngineeringMetallurgyMaterials CharacterizationNanomaterials and nanomanufacturingAdvanced materials for transportation applicationsIn the NewsNew Fellowship Program Helps Fill U.S. Gap in Nuclear ExpertiseNew Fellowship Program Helps Fill U.S. Gap in Nuclear ExpertiseThe nuclear power industry is facing a shortage of trained engineers. The new fellowship program will help fill that need and support graduate student research at UVA Engineering.\t\t\t\tRead More\t\t\tUVA Engineering Helps Society Prepare for Net-Zero Carbon FutureUVA Engineering Helps Society Prepare for Net-Zero Carbon FutureCorrosion Science Keeps Nuclear Power in the Nation’s Energy MixCorrosion science meets challenges of storing and containing nuclear waste, and preserving materials in generation-IV reactors’ anticipated extreme environments.\t\t\t\tRead More\t\t\tSelected PublicationsPlastic Anistotropy and the Role of Non-Basal Slip in Magnesium Alloy AZ31B, Int. J. Plasticity, accepted S.R. Agnew and O. Duygulu“Enhanced Ductility in Strongly Textured Magnesium Produced by Equal Channel Angular (ECA) Processing”, Scripta Mater, 50 (2004) 377-381. S.R. Agnew, J.A. Horton, T.M. Lillo and D.W. Brown,“Ultrasonic Velocity and Texture of High RRR Niobium” Materiaux et Techniques, No. 7-8-9 (2003) 38-44. S.R. Agnew, F. Zeng, and G.R. Myneni“Study of Slip Mechanisms in a Magnesium Alloy by Neutron Diffraction and Modeling”, Scripta Mater, 48 (2003) 1003-1008. S.R. Agnew, C.N. Tomé, D.W. Brown, T.M. Holden, and S.C. Vogel“TEM Invesitgation of <c+a> Dislocation Structures in Mg and Mg-Li α -Solid Solution Alloys”, Metall. Mater. Trans. A, 23A, 813-822 (2002). S. R. Agnew, J. A. Horton, and M. H. Yoo“Overview of fatigue performance of Cu processed by severe plastic deformation,” J. Electron. Mater., 28, 1038-1044 (1999). S. R. Agnew, A. Y. Vinogradov, S. Hashimoto, and J. R. Weertman“Low-Cycle Fatigue Behavior of Ultrafine Grain Copper”, Mat. Sci. Eng.,A244, 145 (1998). S. R. Agnew and J. R. Weertman“The Influence of Texture on the Elastic Properties of Ultrafine-Grain Copper,” Mat. Sci. Eng., A242, 174 (1998) S. R. Agnew and J. R. WeertmanContact InformationSean R. AgnewMaterials Science & Engineering Office: Wilsdorf Hall, Room 224 \t\t\t\t\t\t\t\t\t\t\t\t\t\t\t\t\t\t\t\t\t395 McCormick Road\t\t\t\t\t\t\t\t\t\t\t\t\t\tCharlottesville, Virginia 22904\t\t\t\t\t\tPhone: ​434-924-0605 sra4p@virginia.eduMy LinksThe Agnew Research GroupGoogle Scholar Apply Now  Visit Grounds  Give to Engineering Jump to HeaderUniversity of Virginia School of Engineering and Applied Science | Homepage Find FacultyNewsEventsJobs@UVADirectoryvirginia.edu Thornton Hall, 351 McCormick Road, Charlottesville, VA 22904Phone: 434-924-3072MediaPrivacy PolicyNon-discrimination PolicyAccessibility Like Us on FacebookFollow Us on TwitterFollow Us on InstagramFollow Us on LinkedInSubscribe to our channel on YouTube © 2023 University of Virginia School of Engineering and Applied Science\"}],\n",
    "    temperature=0\n",
    ")\n",
    "response.choices[0].message.content.split(\"\\n\")"
   ]
  },
  {
   "cell_type": "code",
   "execution_count": null,
   "metadata": {},
   "outputs": [],
   "source": []
  }
 ],
 "metadata": {
  "kernelspec": {
   "display_name": "base",
   "language": "python",
   "name": "python3"
  },
  "language_info": {
   "codemirror_mode": {
    "name": "ipython",
    "version": 3
   },
   "file_extension": ".py",
   "mimetype": "text/x-python",
   "name": "python",
   "nbconvert_exporter": "python",
   "pygments_lexer": "ipython3",
   "version": "3.9.12"
  },
  "orig_nbformat": 4
 },
 "nbformat": 4,
 "nbformat_minor": 2
}
