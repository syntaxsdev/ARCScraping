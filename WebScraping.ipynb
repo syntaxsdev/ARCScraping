{
 "cells": [
  {
   "attachments": {},
   "cell_type": "markdown",
   "metadata": {},
   "source": [
    "## This is for testing the WebScraping class"
   ]
  },
  {
   "cell_type": "code",
   "execution_count": 4,
   "metadata": {},
   "outputs": [],
   "source": [
    "import requests, random, Universities\n",
    "from urllib.parse import urlparse\n",
    "from UserAgents import UserAgents\n",
    "from User import User\n",
    "from bs4 import BeautifulSoup\n",
    "\n",
    "class WebScraping:\n",
    "    bs4 = None\n",
    "    def __init__(self):\n",
    "        self.linkFilterPrefixes = [\"/search\", \"q=\", \"/?\", \"/advanced_search\"]\n",
    "        bs4 = BeautifulSoup()\n",
    "\n",
    "    def initial_search(self, user: User):\n",
    "        user_name = \"+\".join(user.name)\n",
    "        search_url = f\"https://www.google.com/search?q=%22{user_name}%22\"\n",
    "        req = self.request(search_url)\n",
    "        bs = BeautifulSoup(req.content, 'html.parser')\n",
    "\n",
    "        # Select every single <a> element\n",
    "        raw_links = bs.select(\"a\")\n",
    "        # Filter links that do not contain \"google.com\" or start with the prefixes defined.\n",
    "        links = [link['href'] for link in raw_links if not any(link['href'].startswith(prefix) \n",
    "                    or link['href'].find('google.com') > 0 for prefix in self.linkFilterPrefixes)] \n",
    "        \n",
    "        # Only grab the relevent part of the link if it includes more in it\n",
    "        links = [link.split(\"/url?q=\")[-1] for link in links]\n",
    "        user.initial_search_links = links\n",
    "        return links\n",
    "    \n",
    "    '''\n",
    "    Verify if the link is relevent to the researcher. 2/3 is required to be used.\n",
    "    1. First checks if the institution can be found on the page text.\n",
    "    2. Checks if the researchers name can be found on the page check.\n",
    "    3. Check if the URL is from their institution.\n",
    "    '''\n",
    "    def verify_link_relevancy(self, link: str, page_data: str, user: User):\n",
    "        page_data = page_data.lower()\n",
    "        user_name = \"+\".join(user.name).lower()\n",
    "        checks = 0\n",
    "        reason = \"\"\n",
    "\n",
    "        # Check 1\n",
    "        if page_data.find(user.institution.lower()):\n",
    "            checks += 1\n",
    "            reason += \"Instituion found | \"\n",
    "\n",
    "        # Check 2\n",
    "        if page_data.find(user_name):\n",
    "            checks += 1\n",
    "            reason += \"Researcher name found | \"\n",
    "        \n",
    "        # Check 3\n",
    "        if Universities.findUniversityLink(user.institution).find(link) > -1:\n",
    "            checks += 1\n",
    "            reason += \"University website verified\"\n",
    "        return (checks >= 2, checks, reason)\n",
    "        \n",
    "    ''' \n",
    "    Scrape the webpage and get the webtext without HTML tags\n",
    "    then check verify the source is reputable by a 3 part check method\n",
    "    '''\n",
    "    def scrape_webpage(self, link: str, user: User):\n",
    "        # Request the page and convert to BS4\n",
    "        req = self.request(link)\n",
    "        bs = BeautifulSoup(req.content, 'html.parser')\n",
    "        \n",
    "        # Grab only the webtext (text without HTML tags)\n",
    "        webtext = bs.get_text()\n",
    "        \n",
    "        # Parse the URL so that we can only get the base domain\n",
    "        parsed_url = urlparse(link)\n",
    "        domain_parts = parsed_url.netloc.split('.')\n",
    "        domain = '.'.join(domain_parts[-2:])\n",
    "\n",
    "        # Do a 3 part check on the domain, webtext, and the user to verify it pertains to the user\n",
    "        verified, check, reason = self.verify_link_relevancy(domain, webtext, user)\n",
    "\n",
    "        print(verified, check, reason)\n",
    "        \n",
    "    \n",
    "    '''\n",
    "    Internal request method that faciliates parameters and headers\n",
    "    :return: `Response`\n",
    "    '''\n",
    "    def request(self, link) -> requests.Response:\n",
    "        return requests.get(link, self.genHeaders())\n",
    "\n",
    "    '''\n",
    "    Generate new headers\n",
    "    '''\n",
    "    def genHeaders(self) -> dict:\n",
    "        return {\n",
    "        'User-agent': self.getRandAgent()\n",
    "        }\n",
    "\n",
    "    ''' \n",
    "    Returns a random UserAgent for the headers\n",
    "    '''\n",
    "    def getRandAgent(self) -> str:\n",
    "        return UserAgents[random.randrange(len(UserAgents))]\n"
   ]
  },
  {
   "attachments": {},
   "cell_type": "markdown",
   "metadata": {},
   "source": [
    "<center><b>Test with researcher Zheng Xiang from VT</b></center>"
   ]
  },
  {
   "cell_type": "code",
   "execution_count": 5,
   "metadata": {},
   "outputs": [
    {
     "name": "stdout",
     "output_type": "stream",
     "text": [
      "True 3 Instituion found | Researcher name found | University website verified\n"
     ]
    }
   ],
   "source": [
    "ws = WebScraping()\n",
    "zheng = User(\"Zheng Xiang\", \"Virginia Tech\")\n",
    "ws.initial_search(zheng)\n",
    "zheng.initial_search_links\n",
    "\n",
    "ws.scrape_webpage(zheng.initial_search_links[0], zheng)\n",
    "\n"
   ]
  },
  {
   "cell_type": "code",
   "execution_count": 137,
   "metadata": {},
   "outputs": [
    {
     "data": {
      "text/plain": [
       "['https://htm.pamplin.vt.edu/directory/xiang.html&sa=U&ved=2ahUKEwiXrYSP4Nf9AhUhFFkFHe90CkYQFnoECAAQAg&usg=AOvVaw0Lz9onYd8Yi73KZNoBU9rG',\n",
       " 'https://www.researchgate.net/profile/Zheng-Xiang-6&sa=U&ved=2ahUKEwiXrYSP4Nf9AhUhFFkFHe90CkYQFnoECAkQAg&usg=AOvVaw3Pl-LDkyxmws9kkKHwW1w8',\n",
       " 'https://www.journals.elsevier.com/tourism-management/editorial-board/zheng-xiang&sa=U&ved=2ahUKEwiXrYSP4Nf9AhUhFFkFHe90CkYQFnoECAYQAg&usg=AOvVaw3_99UIBvWoLFAoVm_SyS3R',\n",
       " 'https://ischool.wisc.edu/blog/staff/zheng-xiang/&sa=U&ved=2ahUKEwiXrYSP4Nf9AhUhFFkFHe90CkYQFnoECAcQAg&usg=AOvVaw2v9r81jX-cWTy-flpZ0b3V',\n",
       " 'https://msuspartans.com/staff-directory/zheng-xiang/856&sa=U&ved=2ahUKEwiXrYSP4Nf9AhUhFFkFHe90CkYQFnoECAMQAg&usg=AOvVaw3MVZM9M_4xBNIlqOGNlf6E',\n",
       " 'https://goutsa.com/staff-directory/zheng-xiang/91&sa=U&ved=2ahUKEwiXrYSP4Nf9AhUhFFkFHe90CkYQFnoECAIQAg&usg=AOvVaw2uk9-AhvHQuqMIm-fE33wZ',\n",
       " 'https://riceowls.com/sports/womens-volleyball/roster/coaches/zheng-xiang/473&sa=U&ved=2ahUKEwiXrYSP4Nf9AhUhFFkFHe90CkYQFnoECAEQAg&usg=AOvVaw08BzLxNWuRKpBmCiGR12eo']"
      ]
     },
     "execution_count": 137,
     "metadata": {},
     "output_type": "execute_result"
    }
   ],
   "source": [
    "links = bs.select(\"a\")\n",
    "prefixes = [\"/search\", \"q=\", \"/?\", \"/advanced_search\"]\n",
    "links = [link['href'] for link in links if not any(link['href'].startswith(prefix) or link['href'].find('google.com') > 0 for prefix in prefixes)] \n",
    "links = [link.split(\"/url?q=\")[-1] for link in links]\n",
    "links"
   ]
  },
  {
   "cell_type": "code",
   "execution_count": 26,
   "metadata": {},
   "outputs": [
    {
     "name": "stdout",
     "output_type": "stream",
     "text": [
      "ParseResult(scheme='https', netloc='htm.pamplin.vt.edu', path='/directory/xiang.html&sa=U&ved=2ahUKEwj7sYqd_Nf9AhUkFVkFHXX6Bw8QFnoECAkQAg&usg=AOvVaw2sC1rEKB_bDYW5IiSR_gu4', params='', query='', fragment='')\n"
     ]
    }
   ],
   "source": [
    "from urllib.parse import urlparse\n",
    "\n",
    "url = 'https://htm.pamplin.vt.edu/directory/xiang.html&sa=U&ved=2ahUKEwj7sYqd_Nf9AhUkFVkFHXX6Bw8QFnoECAkQAg&usg=AOvVaw2sC1rEKB_bDYW5IiSR_gu4'\n",
    "parsed_url = urlparse(url)\n",
    "print(parsed_url)\n",
    "domain_parts = parsed_url.netloc.split('.')\n",
    "domain = '.'.join(domain_parts[-2:])\n",
    "domain"
   ]
  },
  {
   "cell_type": "code",
   "execution_count": null,
   "metadata": {},
   "outputs": [],
   "source": []
  }
 ],
 "metadata": {
  "kernelspec": {
   "display_name": "base",
   "language": "python",
   "name": "python3"
  },
  "language_info": {
   "codemirror_mode": {
    "name": "ipython",
    "version": 3
   },
   "file_extension": ".py",
   "mimetype": "text/x-python",
   "name": "python",
   "nbconvert_exporter": "python",
   "pygments_lexer": "ipython3",
   "version": "3.9.12"
  },
  "orig_nbformat": 4,
  "vscode": {
   "interpreter": {
    "hash": "0afb4cd576355fff8ce021c87ea1746aa4b89951b59e2653bef89f9056735253"
   }
  }
 },
 "nbformat": 4,
 "nbformat_minor": 2
}
