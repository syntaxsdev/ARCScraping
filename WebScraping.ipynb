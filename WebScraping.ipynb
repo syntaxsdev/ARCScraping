{
 "cells": [
  {
   "attachments": {},
   "cell_type": "markdown",
   "metadata": {},
   "source": [
    "## This is for testing the WebScraping class"
   ]
  },
  {
   "cell_type": "code",
   "execution_count": 1,
   "metadata": {},
   "outputs": [],
   "source": [
    "import requests, random, Universities\n",
    "from urllib.parse import urlparse\n",
    "from UserAgents import UserAgents\n",
    "from User import User\n",
    "from bs4 import BeautifulSoup\n",
    "\n",
    "class WebScraping:\n",
    "    bs4 = None\n",
    "    def __init__(self):\n",
    "        self.linkFilterPrefixes = [\"/search\", \"q=\", \"/?\", \"/advanced_search\"]\n",
    "        self.linkFilterSearches = [\"google\", \"facebook\", \"instagram\", \"linkedin\", \"twitter\", \"ratemyprofessors\",\n",
    "                                   \"coursicle\"]\n",
    "        bs4 = BeautifulSoup()\n",
    "\n",
    "    '''\n",
    "    The initial search perform a google search on the user using the query \"{FIRST LAST} {INSTITUTION}\"\n",
    "    and returns all the links\n",
    "    '''\n",
    "    def initial_search(self, user: User):\n",
    "        # user_name = \"+\".join(user.research_data['name']) + f\" {user.research_data['institution']}\"\n",
    "\n",
    "        # # Tweaks should be done here, maybe make a link scraper by itself\n",
    "\n",
    "        # #search_url = f\"https://www.google.com/search?q=%22{user_name}%22\"\n",
    "        # search_url = f\"https://www.google.com/search?q={user_name}\"\n",
    "\n",
    "        # # End of tweaks\n",
    "        # req = self.request(search_url)\n",
    "        # bs = BeautifulSoup(req.content, 'html.parser')\n",
    "\n",
    "        # # Select every single <a> element\n",
    "        # raw_links = bs.select(\"a\")\n",
    "        # # Filter links that do not contain \"google.com\" or start with the prefixes defined.\n",
    "        # links = [link['href'] for link in raw_links if not any(link['href'].startswith(prefix) \n",
    "        #             or link['href'].find('google.com') > 0 for prefix in self.linkFilterPrefixes)] \n",
    "        \n",
    "        # # Filter links that don't contain searches\n",
    "        # links = [link for link in links if not any(link.find(search) > -1 for search in self.linkFilterSearches)]\n",
    "\n",
    "        # # Only grab the relevent part of the link if it includes more in it\n",
    "        # links = [link.split(\"/url?q=\")[-1].split(\"&sa\")[0] for link in links]\n",
    "        # user.initial_search_links = links\n",
    "        # return links\n",
    "\n",
    "\n",
    "        user_name = \"+\".join(user.research_data['name']) + f\" {user.research_data['institution']}\"\n",
    "        links = []\n",
    "\n",
    "        for page_number in range(3):\n",
    "            start_index = page_number * 10\n",
    "            search_url = f\"https://www.google.com/search?q={user_name}&start={start_index}\"\n",
    "\n",
    "            req = self.request(search_url)\n",
    "            bs = BeautifulSoup(req.content, 'html.parser')\n",
    "\n",
    "            # Select every single <a> element\n",
    "            raw_links = bs.select(\"a\")\n",
    "            # Filter links that do not contain \"google.com\" or start with the prefixes defined.\n",
    "            filtered_links = [link['href'] for link in raw_links if not any(link['href'].startswith(prefix) \n",
    "                        or link['href'].find('google.com') > 0 for prefix in self.linkFilterPrefixes)] \n",
    "        \n",
    "            # Filter links that don't contain searches\n",
    "            filtered_links = [link for link in filtered_links if not any(link.find(search) > -1 for search in self.linkFilterSearches)]\n",
    "\n",
    "            # Only grab the relevent part of the link if it includes more in it\n",
    "            links += [link.split(\"/url?q=\")[-1].split(\"&sa\")[0] for link in filtered_links]\n",
    "\n",
    "        user.initial_search_links = links\n",
    "        # links = list(set(links))\n",
    "        return links\n",
    "    \n",
    "    '''\n",
    "    Verify if the link is relevent to the researcher. 2/3 is required to be used.\n",
    "    1. First checks if the institution can be found on the page text.\n",
    "    2. Checks if the researchers name can be found on the page check.\n",
    "    3. Check if the URL is from their institution.\n",
    "    '''\n",
    "    def verify_link_relevancy(self, link: str, page_data: str, user: User):\n",
    "        page_data = page_data.lower()\n",
    "        user_name = \"+\".join(user.research_data['name']).lower()\n",
    "        checks = 0\n",
    "        reason = \"\"\n",
    "\n",
    "        # Check 1\n",
    "        if page_data.find(user.research_data['institution'].lower()):\n",
    "            checks += 1\n",
    "            reason += \"Institution found | \"\n",
    "\n",
    "        # Check 2\n",
    "        if page_data.find(user_name):\n",
    "            checks += 1\n",
    "            reason += \"Researcher name found | \"\n",
    "        \n",
    "        # Check 3\n",
    "        if Universities.findUniversityLink(user.research_data['institution']).find(link) > -1:\n",
    "            checks += 1\n",
    "            reason += \"University website verified\"\n",
    "        return (checks >= 2, checks, reason)\n",
    "        \n",
    "    ''' \n",
    "    Scrape the webpage and get the webtext without HTML tags\n",
    "    then check verify the source is reputable by a 3 part check method\n",
    "    '''\n",
    "    def scrape_webpage(self, link: str, user: User):\n",
    "        # Request the page and convert to BS4\n",
    "        req = self.request(link)\n",
    "        bs = BeautifulSoup(req.content, 'html.parser')\n",
    "        \n",
    "        # Grab only the webtext (text without HTML tags)\n",
    "        webtext = bs.get_text().replace('\\n', '').replace('\"', '').strip()\n",
    "        \n",
    "        # Parse the URL so that we can only get the base domain\n",
    "        parsed_url = urlparse(link)\n",
    "        domain_parts = parsed_url.netloc.split('.')\n",
    "        domain = '.'.join(domain_parts[-2:])\n",
    "\n",
    "        # Do a 3 part check on the domain, webtext, and the user to verify it pertains to the user\n",
    "        verified, check, reason = self.verify_link_relevancy(domain, webtext, user)\n",
    "\n",
    "        # <TODO>\n",
    "        #NOT DONE\n",
    "        print(verified, check, reason)\n",
    "        return webtext\n",
    "        \n",
    "    \n",
    "    '''\n",
    "    Internal request method that faciliates parameters and headers\n",
    "    :return: `Response`\n",
    "    '''\n",
    "    def request(self, link) -> requests.Response:\n",
    "        return requests.get(link, self.genHeaders())\n",
    "\n",
    "    '''\n",
    "    Generate new headers\n",
    "    '''\n",
    "    def genHeaders(self) -> dict:\n",
    "        return {\n",
    "        'User-agent': self.getRandAgent()\n",
    "        }\n",
    "\n",
    "    ''' \n",
    "    Returns a random UserAgent for the headers\n",
    "    '''\n",
    "    def getRandAgent(self) -> str:\n",
    "        return UserAgents[random.randrange(len(UserAgents))]\n"
   ]
  },
  {
   "attachments": {},
   "cell_type": "markdown",
   "metadata": {},
   "source": [
    "<center><b>Test with researcher Zheng Xiang from VT</b></center>"
   ]
  },
  {
   "cell_type": "code",
   "execution_count": 4,
   "metadata": {},
   "outputs": [
    {
     "name": "stdout",
     "output_type": "stream",
     "text": [
      "True 3 Institution found | Researcher name found | University website verified\n"
     ]
    },
    {
     "data": {
      "text/plain": [
       "'Zheng (Phil) Xiang  | Howard Feiertag Department of Hospitality & Tourism Management | Virginia TechSkip to main contentSkip to searchVirginia Tech®homeUniversal Access ToggleUniversal AccessClose Universal Access dialogUniversal Access OptionsReport a barrierAccessibility portalPause all background videosUnderline all links   ApplyVisitGiveShopHokie GearApparel, clothing, gear and merchandiseHokie ShopUniversity Bookstore, merchandise and giftsHokie License PlatesPart of every Virginia Tech plate purchase funds scholarshipsResources forFuture StudentsCurrent StudentsParents and FamiliesFaculty and StaffAlumniIndustry and Partners  Howard Feiertag Department of Hospitality & Tourism ManagementMenuPamplin College of Business\\xa0\\xa0/Howard Feiertag Department of Hospitality & Tourism ManagementAbout DirectoryUndergraduateUndergraduate Submenu ToggleRequirementsCoursesField StudyStudy AbroadStudent OrganizationsScholarshipsReal Estate Double MajorFrequently Asked QuestionsEvent and Experience Management MinorGraduateGraduate Submenu ToggleHospitality and Tourism Management Ph.D. in BusinessMSBA: Hospitality & Tourism ManagementGraduate Certificate ProgramsFeiertag Library Collection  CareersIndustry RelationsIndustry Relations Submenu ToggleAdvisory BoardAlumniContact UsApplyVisitGiveShopHokie GearApparel, clothing, gear and merchandiseHokie ShopUniversity Bookstore, merchandise and giftsHokie License PlatesPart of every Virginia Tech plate purchase funds scholarshipsResources forFuture StudentsCurrent StudentsParents and FamiliesFaculty and StaffAlumniIndustry and PartnersSearchSearchSubmit                Pamplin College of Business                             / Howard Feiertag Department of Hospitality & Tourism Management / Directory / Zheng (Phil) Xiang / Explore                                                        About                                                                                Directory                        Current page:                                                                     Zheng (Phil) Xiang                                                                                                Undergraduate                                                                                Graduate                                                                                Feiertag Library Collection                                                                                 Careers                                                                                Industry Relations                                                                                Contact Us                                              Zheng (Phil) Xiang                                                                              Department Head                                                                                                                                                    Associate Professor                                        353 Wallace Hall, Virginia Tech295 West Campus DriveBlacksburg, VA 24061philxz@vt.edu(540) 231-3262             Google Scholar                  LinkedIn                  Twitter        Zheng Xiang - CV.pdfDownload FileBioResearchTeachingPhD SupervisionProfessional EngagementBackgroundRecommendationsZheng Xiang, PhD is an Associate Professor in the Department of Hospitality and Tourism Management at Virginia Polytechnic Institute and State University (aka Virginia Tech) in the US. His research interests include travel information search, social media marketing, and business analytics for the tourism and hospitality industries. He is a recipient of Emerging Scholar of Distinction award by the International Academy for the Study of Tourism. He served as a board member for the International Federation for IT and Travel & Tourism (IFITT) from 2014-2018. He is currently editor-in-chief of the Journal of Information Technology & Tourism and serves as editorial board member of several international journals including Journal of Business Research, Journal of Travel Research, and Journal of Hospitality and Tourism Research.\\xa0\\xa0Research area\\xa0Travel behavior\\xa0e-Tourism\\xa0Information technology\\xa0Tourism analytics\\xa0Research methodsText analyticsMachine learningPublications that best represent my researchMa, Y., Xiang, Z., Du, Q., & Fan, W. (2018). Effects of User-Provided Photos on Hotel Review Helpfulness: An Analytical Approach with Deep Leaning. International Journal of Hospitality Management, 71:120-131. [Publisher] [Google Scholar] *Xiang, Z., Du, Q., Ma, Y., & Fan, W. (2017). A comparative analysis of major online review platforms: Implications for social media analytics in hospitality and tourism. Tourism Management, 58: 51-65. [Publisher] [Google Scholar] *Gretzel, U., Sigala, M., Xiang, Z., & Koo, C. (2015). Smart Tourism: Foundations and Developments. Electronic Markets: The International Journal on Networked Business. 25:179-188. (Received Best Paper of the Year Award) [Publisher] [Google Scholar]Xiang, Z., Schwartz, Z., Gerdes, J., & Uysal, M. (2015). What can big data and text analytics tell us about hotel guest experience and satisfaction? International Journal of Hospitality Management, 44: 120-130. (Received the W. Bradford Wiley Memorial Best Research Paper of the Year Award at the ICHRIE Conference in Orlando, FL in July 2015). [Publisher] [Google Scholar] *Xiang, Z. & Gretzel, U. (2010). Role of Social Media in Online Travel Information Search. Tourism Management, 31(2): 179-188. (No. 2 among a list of the 50 Social Sciences articles written by US-based authors most frequently downloaded from ScienceDirect since January 2005. See http://about.elsevier.com/top50/us/socialsciences.html; most cited article in Tourism Management since 2010) [Publisher] [Google Scholar] ** Pamplin elite list journalUndergraduateHTM 4354 Information Technology & Social MediaGraduateHTM 5464 Information Technology & Business Analytics in Hospitality and Tourism Management (online)Huihui ZhangYutong HanConferencesENTER e-Tourism annual conferenceInvited TalksKeynote speaker at the Global Research Colloquium Series by Kyung Hee University, S. Korea on April 22, 2021.Panelist at “Innovation at a time of crisis” webinar organized by TTRA APac Chapter on August 18, 2020.University of Queensland; travel information search: development and future directions; February, 2018.Professional ExperiencesPresident, International Federation for IT and Travel & Tourism (IFITT), 2020-2021Editor-in-Chief, Journal of Information Technology & Tourism, since 2017EducationPhD, Fox School of Business, Temple University, Philadelphia, PA, 2008MS, University of Illinois at Champaign-Urbana, IL 2003BS, Xi’An Jiaotong University, China 1988Honors and AwardsWeb of Science 2019 top 1% cited researchersBest Research Paper of the Year Award at the ICHRIE Conference in New Orleans, LA in July 2019.\\xa0Certificate of Teaching Award for the department by Pamplin College of Business, 2017-2018.Best Paper Award (1st Place) at ENTER 2017 eTourism Conference in Rome, Italy.\\xa0Best Paper of the Year Award (2016) in Electronic Markets.\\xa0Pamplin College of Business’ Junior Faculty Research Excellence Award of 2015.\\xa0“Emerging Scholar of Distinction” award by International Academy for the Study of Tourism.\\xa0W. Bradford Wiley Memorial Best Research Paper of the Year Award at the ICHRIE Conference in Orlando, FL in July 2015.\\xa0Best Paper Award (2nd Place) at the IFITT ENTER 2012 Conference in Helsingborg, Sweden.Paper entitled “Representation of the Online Tourism Domain in Search Engines” was awarded the Charles R. Goeldner Article of Excellence Award in Journal of Travel Research in 2008.\\xa0Previous UniversitiesAssistant Professor, University of North Texas, Texas, USA, 2007-2013Industry ExperiencesDepartment Director,\\xa0 Yibin Municipal Tourism Bureau, China, 1993-2000DestinationThe WorldFood & DrinkA good hamburger with fries  362 Wallace Hall, Virginia Tech295 West Campus DriveBlacksburg, VA 24061Phone: (540) 231-5515Email:\\xa0htmdpt@vt.eduConnect with HTM\\xa0\\xa0\\xa0Connect with Pamplin\\xa0\\xa0\\xa0Get Directions\\xa0\\xa0See All Locations\\xa0\\xa0Contact Virginia Tech\\xa0\\xa0University StatusPrinciples of CommunityPrivacy StatementAcceptable UseWe RememberUniversity LibrariesAccessibilityConsumer InformationStop AbusePoliciesEqual OpportunityWVTFUniversity BookstoreJobs at Virginia TechStrategic Plan©\\xa02023 Virginia Polytechnic Institute and State University. All rights reserved.FacebookTwitterInstagramLinked InPintrestYouTubeSnapchatTikTok'"
      ]
     },
     "execution_count": 4,
     "metadata": {},
     "output_type": "execute_result"
    }
   ],
   "source": [
    "ws = WebScraping()\n",
    "zheng = User(\"Zheng Xiang\", \"Virginia Tech\")\n",
    "ws.initial_search(zheng)\n",
    "zheng.initial_search_links\n",
    "\n",
    "ws.scrape_webpage(zheng.initial_search_links[0], zheng)\n",
    "\n"
   ]
  },
  {
   "cell_type": "code",
   "execution_count": 7,
   "metadata": {},
   "outputs": [
    {
     "data": {
      "text/plain": [
       "['https://engineering.virginia.edu/faculty/sean-r-agnew',\n",
       " 'https://publicsearch.people.virginia.edu/person/sra4p',\n",
       " 'https://3c.virginia.edu/people/sra4p',\n",
       " 'https://www.sciencedirect.com/author/57203775288/sean-r-agnew',\n",
       " 'https://www.researchgate.net/profile/Sr-Agnew',\n",
       " 'https://www.apollo.io/people/Sean/Agnew/54fb77c87468692f6b40cc0c',\n",
       " 'https://www.apollo.io/people/Sean/Agnew/54fb77c87468692f6b40cc0c',\n",
       " 'https://www.jobs.virginia.gov/jobs/research-associate-in-materials-science-and-engineering-charlottesville-virginia-united-states-7f542dfc-3cac-4596-b156-0fd277748371',\n",
       " 'https://link.springer.com/article/10.1007/s11837-006-0026-8',\n",
       " 'https://research.com/u/bjorn-clausen',\n",
       " 'https://www.tms.org/communities/ftattachments/jom-0405-20.pdf',\n",
       " 'https://virginianuclear.org/about-vnec/leadership/',\n",
       " 'https://lansce.lanl.gov/users/rosen-scholar/past-scholars.php',\n",
       " 'http://hxdata.chisa.edu.cn/professor/detail/id/5210',\n",
       " 'https://www.journals.elsevier.com/international-journal-of-plasticity/editorial-board',\n",
       " 'https://schwartzgroup.mse.ncsu.edu/2015/10/30/department-head-justin-schwartz-named-asm-international-fellow/',\n",
       " 'https://www.cavalierdaily.com/page/faculty-salary-2021',\n",
       " 'https://www.keaipublishing.com/en/journals/journal-of-magnesium-and-alloys/editorial-board/',\n",
       " 'http://www.lpso2020.jp/invited_speakers.html',\n",
       " 'https://www.osti.gov/servlets/purl/1822746',\n",
       " 'https://health.usnews.com/doctors/sean-moore-96885',\n",
       " 'https://www.nsf.gov/awardsearch/showAward%3FAWD_ID%3D1921926',\n",
       " 'https://www.nsf.gov/awardsearch/showAward%3FAWD_ID%3D1235259',\n",
       " 'https://www.virginiadot.org/vtrc/main/online_reports/pdf/20-r1.pdf',\n",
       " 'https://www.mgi.gov/sites/default/files/documents/MGI_PI_20220628.pdf']"
      ]
     },
     "execution_count": 7,
     "metadata": {},
     "output_type": "execute_result"
    }
   ],
   "source": [
    "ws.initial_search(zheng)\n"
   ]
  },
  {
   "cell_type": "code",
   "execution_count": 6,
   "metadata": {},
   "outputs": [
    {
     "data": {
      "text/plain": [
       "['https://engineering.virginia.edu/faculty/sean-r-agnew',\n",
       " 'https://publicsearch.people.virginia.edu/person/sra4p',\n",
       " 'https://3c.virginia.edu/people/sra4p',\n",
       " 'https://www.sciencedirect.com/author/57203775288/sean-r-agnew',\n",
       " 'https://www.researchgate.net/profile/Sr-Agnew',\n",
       " 'https://www.apollo.io/people/Sean/Agnew/54fb77c87468692f6b40cc0c',\n",
       " 'https://www.apollo.io/people/Sean/Agnew/54fb77c87468692f6b40cc0c',\n",
       " 'https://www.tms.org/communities/ftattachments/jom-0405-20.pdf',\n",
       " 'https://virginianuclear.org/about-vnec/leadership/',\n",
       " 'https://research.com/u/bjorn-clausen',\n",
       " 'https://lansce.lanl.gov/users/rosen-scholar/past-scholars.php',\n",
       " 'http://hxdata.chisa.edu.cn/professor/detail/id/5210',\n",
       " 'https://www.journals.elsevier.com/international-journal-of-plasticity/editorial-board',\n",
       " 'https://link.springer.com/chapter/10.1007/978-3-319-48114-2_38',\n",
       " 'https://www.cambridge.org/core/services/aop-cambridge-core/content/view/984A4D95655F12058458A249DCC076CC/S1431927610093992a.pdf/simple_algorithm_to_eliminate_ambiguities_in_ebsd_orientation_map_visualization_and_analyses_application_to_fatigue_cracktipswakes_in_aluminum_alloys.pdf',\n",
       " 'https://www.cavalierdaily.com/page/faculty-salary-2021',\n",
       " 'https://www.cavalierdaily.com/page/faculty-salary-2021',\n",
       " 'https://www.keaipublishing.com/en/journals/journal-of-magnesium-and-alloys/editorial-board/',\n",
       " 'http://www.lpso2020.jp/invited_speakers.html',\n",
       " 'https://orcid.org/0000-0003-1560-4950',\n",
       " 'https://health.usnews.com/doctors/sean-moore-96885',\n",
       " 'https://www.nsf.gov/awardsearch/showAward%3FAWD_ID%3D1921926',\n",
       " 'https://www.virginiadot.org/vtrc/main/online_reports/pdf/20-r1.pdf',\n",
       " 'https://www.osti.gov/servlets/purl/1822746']"
      ]
     },
     "execution_count": 6,
     "metadata": {},
     "output_type": "execute_result"
    }
   ],
   "source": [
    "sean = User(\"Sean R. Agnew\", \"University of Virginia\")\n",
    "\n",
    "ws.initial_search(sean)\n",
    "sean.initial_search_links\n"
   ]
  },
  {
   "cell_type": "code",
   "execution_count": 58,
   "metadata": {},
   "outputs": [
    {
     "name": "stdout",
     "output_type": "stream",
     "text": [
      "True 2 Institution found | Researcher name found | \n"
     ]
    },
    {
     "data": {
      "text/plain": [
       "''"
      ]
     },
     "execution_count": 58,
     "metadata": {},
     "output_type": "execute_result"
    }
   ],
   "source": [
    "ws.scrape_webpage(zheng.initial_search_links[15], zheng)"
   ]
  },
  {
   "cell_type": "code",
   "execution_count": 59,
   "metadata": {},
   "outputs": [
    {
     "data": {
      "text/plain": [
       "'https://xiangcheng.link/'"
      ]
     },
     "execution_count": 59,
     "metadata": {},
     "output_type": "execute_result"
    }
   ],
   "source": [
    "zheng.initial_search_links[15]"
   ]
  },
  {
   "cell_type": "code",
   "execution_count": 14,
   "metadata": {},
   "outputs": [
    {
     "name": "stdout",
     "output_type": "stream",
     "text": [
      "ParseResult(scheme='https', netloc='htm.pamplin.vt.edu', path='/directory/xiang.html&sa=U&ved=2ahUKEwj7sYqd_Nf9AhUkFVkFHXX6Bw8QFnoECAkQAg&usg=AOvVaw2sC1rEKB_bDYW5IiSR_gu4', params='', query='', fragment='')\n"
     ]
    },
    {
     "data": {
      "text/plain": [
       "'vt.edu'"
      ]
     },
     "execution_count": 14,
     "metadata": {},
     "output_type": "execute_result"
    }
   ],
   "source": [
    "from urllib.parse import urlparse\n",
    "\n",
    "url = 'https://htm.pamplin.vt.edu/directory/xiang.html&sa=U&ved=2ahUKEwj7sYqd_Nf9AhUkFVkFHXX6Bw8QFnoECAkQAg&usg=AOvVaw2sC1rEKB_bDYW5IiSR_gu4'\n",
    "parsed_url = urlparse(url)\n",
    "print(parsed_url)\n",
    "domain_parts = parsed_url.netloc.split('.')\n",
    "domain = '.'.join(domain_parts[-2:])\n",
    "domain"
   ]
  }
 ],
 "metadata": {
  "kernelspec": {
   "display_name": "base",
   "language": "python",
   "name": "python3"
  },
  "language_info": {
   "codemirror_mode": {
    "name": "ipython",
    "version": 3
   },
   "file_extension": ".py",
   "mimetype": "text/x-python",
   "name": "python",
   "nbconvert_exporter": "python",
   "pygments_lexer": "ipython3",
   "version": "3.9.13"
  },
  "orig_nbformat": 4,
  "vscode": {
   "interpreter": {
    "hash": "0afb4cd576355fff8ce021c87ea1746aa4b89951b59e2653bef89f9056735253"
   }
  }
 },
 "nbformat": 4,
 "nbformat_minor": 2
}
