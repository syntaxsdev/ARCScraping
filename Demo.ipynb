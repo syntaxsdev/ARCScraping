{
 "cells": [
  {
   "attachments": {},
   "cell_type": "markdown",
   "metadata": {},
   "source": [
    "<h1>Demonstration of the Researcher WebScraping Project</h1>\n",
    "\n",
    "<b>Demo created on March 12</b>"
   ]
  },
  {
   "cell_type": "code",
   "execution_count": 1,
   "metadata": {},
   "outputs": [],
   "source": [
    "from WebScraping import WebScraping\n",
    "from User import User\n",
    "\n",
    "#Create the WebScraping class\n",
    "ws = WebScraping()\n",
    "\n",
    "#Create the Test Researchers\n",
    "zheng = User(\"Zheng Xiang\", \"Virginia Tech\")\n",
    "sean = User(\"Sean Agnew\", \"University of Virginia\")"
   ]
  },
  {
   "attachments": {},
   "cell_type": "markdown",
   "metadata": {},
   "source": [
    "<p>Notice how I used <b>Virginia Tech</b> instead of <b>Virginia Polytechnic Instititute....</b>. This webscraper allows for common school names.</p>"
   ]
  },
  {
   "cell_type": "code",
   "execution_count": 2,
   "metadata": {},
   "outputs": [
    {
     "data": {
      "text/plain": [
       "['https://htm.pamplin.vt.edu/directory/xiang.html',\n",
       " 'https://www.researchgate.net/profile/Zheng-Xiang-6',\n",
       " 'https://www.researchgate.net/scientific-contributions/Zheng-Xiang-2164885495',\n",
       " 'https://www.journals.elsevier.com/tourism-management/editorial-board/zheng-xiang',\n",
       " 'https://www.youtube.com/watch%3Fv%3DFtoSQPBzjao',\n",
       " 'https://www.youtube.com/watch%3Fv%3DFtoSQPBzjao',\n",
       " 'https://us.sagepub.com/en-us/nam/author/zheng-xiang']"
      ]
     },
     "execution_count": 2,
     "metadata": {},
     "output_type": "execute_result"
    }
   ],
   "source": [
    "ws.initial_search(zheng)"
   ]
  },
  {
   "attachments": {},
   "cell_type": "markdown",
   "metadata": {},
   "source": [
    "### The `initial_search` returns all of the relevent links from Google about the user from the first page.\n",
    "#### It also stores this into the internal user object.\n",
    "\n",
    "#### Now let's search Sean."
   ]
  },
  {
   "cell_type": "code",
   "execution_count": 2,
   "metadata": {},
   "outputs": [
    {
     "data": {
      "text/plain": [
       "['https://engineering.virginia.edu/faculty/sean-r-agnew',\n",
       " 'https://publicsearch.people.virginia.edu/person/sra4p',\n",
       " 'https://engineering.virginia.edu/agnew-research-group',\n",
       " 'https://thecourseforum.com/instructor/1126/',\n",
       " 'https://www.sciencedirect.com/author/57203775288/sean-r-agnew']"
      ]
     },
     "execution_count": 2,
     "metadata": {},
     "output_type": "execute_result"
    }
   ],
   "source": [
    "ws.initial_search(sean)"
   ]
  },
  {
   "attachments": {},
   "cell_type": "markdown",
   "metadata": {},
   "source": [
    "### Now lets do a scrape on some of their found links..."
   ]
  },
  {
   "cell_type": "code",
   "execution_count": 3,
   "metadata": {},
   "outputs": [
    {
     "name": "stdout",
     "output_type": "stream",
     "text": [
      "True 3 Instituion found | Researcher name found | University website verified\n",
      "Sean R. Agnew | University of Virginia School of Engineering and Applied Sciencedeadlineeventfeaturedlisttimelineopen-bookpencil-paperdummyarrowcheckboxchevronclosefetusfingerprinthamburgerheartbeatmagnifying-glassminusplaneplusribbonsearchshapeskinny-arrowtrophyuva-engineering-logouva-seas-logovenus-symbolmoleculeawardcalendarcontactemailhomeleft-arrowlightbulbnewspublicationsresearchyoutubelinkedininstagramtwitterfacebookJump to HeaderJump to Main ContentJump to FooterUniversity of Virginia School of Engineering and Applied Science | Homepage     SearchSubmit  Future GradsGraduate AdmissionGraduate ProgramsDiversity, Equity, EngagementProfessional DevelopmentFuture UndergradsExplore EngineeringAdmissionAcademicsStudent LifeUndergrad ResearchDiversity, Equity, EngagementResearchEngineering for HealthEngineering for the Cyber FutureEngineering Technologies for a Sustainable and Connected WorldOffice of ResearchFaculty Labs & GroupsMultidisciplinary Team Labs and GroupsCenters & InstitutesResearch FacilitiesUndergraduate ResearchDepartmentsBiomedical EngineeringChemical EngineeringComputer ScienceElectrical and Computer EngineeringEngineering and SocietyEngineering Systems and EnvironmentMaterials Science and EngineeringMechanical and Aerospace EngineeringDegree ProgramsAerospace Engineering Biomedical EngineeringChemical Engineering Civil EngineeringComputer Engineering Computer ScienceElectrical Engineering Engineering Science Materials Science and Engineering Mechanical Engineering Systems EngineeringApplied Math MinorAboutMission and VisionApproach to EducationMeet the DeanLeadership TeamBoard of TrusteesFacts and StatsDiversity, Equity, EngagementHistoryFacilitiesVisit UsCorporate PartnershipsOffices and Programs Find FacultyCurrent Faculty & StaffCurrent StudentsNewsEventsEngageGive Jump to Footer Sean R. AgnewWilliam G. Reynolds Professor of Materials ScienceProfessor of Materials Science and EngineeringHomeFind FacultySean R. AgnewBio​Ph.D. Northwestern University, 1998​B.S. Cornell University, 1994Looking at the microstructure of crystalline materials through experimentation, their properties impact performance in every modern industry.Sean R. Agnew, Professor of Materials Science and EngineeringOur research is focused primarily on metals analysis, including magnesium alloy formability, intermetallic behaviors, and aluminum alloy fatigue. Our methods of analysis typically include uses of SEM, TEM, XRD, and Neutron diffraction. Also included in our army of techniques is mechanical testing.Research InterestsSurface and Interface Science and EngineeringMetallurgyMaterials CharacterizationNanomaterials and nanomanufacturingAdvanced materials for transportation applicationsIn the NewsNew Fellowship Program Helps Fill U.S. Gap in Nuclear ExpertiseNew Fellowship Program Helps Fill U.S. Gap in Nuclear ExpertiseThe nuclear power industry is facing a shortage of trained engineers. The new fellowship program will help fill that need and support graduate student research at UVA Engineering.\t\t\t\tRead More\t\t\tUVA Engineering Helps Society Prepare for Net-Zero Carbon FutureUVA Engineering Helps Society Prepare for Net-Zero Carbon FutureCorrosion Science Keeps Nuclear Power in the Nation’s Energy MixCorrosion science meets challenges of storing and containing nuclear waste, and preserving materials in generation-IV reactors’ anticipated extreme environments.\t\t\t\tRead More\t\t\tSelected PublicationsPlastic Anistotropy and the Role of Non-Basal Slip in Magnesium Alloy AZ31B, Int. J. Plasticity, accepted S.R. Agnew and O. Duygulu“Enhanced Ductility in Strongly Textured Magnesium Produced by Equal Channel Angular (ECA) Processing”, Scripta Mater, 50 (2004) 377-381. S.R. Agnew, J.A. Horton, T.M. Lillo and D.W. Brown,“Ultrasonic Velocity and Texture of High RRR Niobium” Materiaux et Techniques, No. 7-8-9 (2003) 38-44. S.R. Agnew, F. Zeng, and G.R. Myneni“Study of Slip Mechanisms in a Magnesium Alloy by Neutron Diffraction and Modeling”, Scripta Mater, 48 (2003) 1003-1008. S.R. Agnew, C.N. Tomé, D.W. Brown, T.M. Holden, and S.C. Vogel“TEM Invesitgation of <c+a> Dislocation Structures in Mg and Mg-Li α -Solid Solution Alloys”, Metall. Mater. Trans. A, 23A, 813-822 (2002). S. R. Agnew, J. A. Horton, and M. H. Yoo“Overview of fatigue performance of Cu processed by severe plastic deformation,” J. Electron. Mater., 28, 1038-1044 (1999). S. R. Agnew, A. Y. Vinogradov, S. Hashimoto, and J. R. Weertman“Low-Cycle Fatigue Behavior of Ultrafine Grain Copper”, Mat. Sci. Eng.,A244, 145 (1998). S. R. Agnew and J. R. Weertman“The Influence of Texture on the Elastic Properties of Ultrafine-Grain Copper,” Mat. Sci. Eng., A242, 174 (1998) S. R. Agnew and J. R. WeertmanContact InformationSean R. AgnewMaterials Science & Engineering Office: Wilsdorf Hall, Room 224 \t\t\t\t\t\t\t\t\t\t\t\t\t\t\t\t\t\t\t\t\t395 McCormick Road\t\t\t\t\t\t\t\t\t\t\t\t\t\tCharlottesville, Virginia 22904\t\t\t\t\t\tPhone: ​434-924-0605 sra4p@virginia.eduMy LinksThe Agnew Research GroupGoogle Scholar Apply Now  Visit Grounds  Give to Engineering Jump to HeaderUniversity of Virginia School of Engineering and Applied Science | Homepage Find FacultyNewsEventsJobs@UVADirectoryvirginia.edu Thornton Hall, 351 McCormick Road, Charlottesville, VA 22904Phone: 434-924-3072MediaPrivacy PolicyNon-discrimination PolicyAccessibility Like Us on FacebookFollow Us on TwitterFollow Us on InstagramFollow Us on LinkedInSubscribe to our channel on YouTube © 2023 University of Virginia School of Engineering and Applied Science\n"
     ]
    }
   ],
   "source": [
    "#ws.scrape_webpage(zheng.initial_search_links[0], zheng)\n",
    "ws.scrape_webpage(sean.initial_search_links[0], sean)"
   ]
  },
  {
   "cell_type": "code",
   "execution_count": 3,
   "metadata": {},
   "outputs": [
    {
     "ename": "IndexError",
     "evalue": "list index out of range",
     "output_type": "error",
     "traceback": [
      "\u001b[0;31m---------------------------------------------------------------------------\u001b[0m",
      "\u001b[0;31mIndexError\u001b[0m                                Traceback (most recent call last)",
      "\u001b[1;32m/Users/cordero/Documents/Capstone/WebScrape/ARCScraping/Demo.ipynb Cell 9\u001b[0m in \u001b[0;36m<cell line: 2>\u001b[0;34m()\u001b[0m\n\u001b[1;32m      <a href='vscode-notebook-cell:/Users/cordero/Documents/Capstone/WebScrape/ARCScraping/Demo.ipynb#X10sZmlsZQ%3D%3D?line=0'>1</a>\u001b[0m \u001b[39m#ws.scrape_webpage(zheng.initial_search_links[0], zheng)\u001b[39;00m\n\u001b[0;32m----> <a href='vscode-notebook-cell:/Users/cordero/Documents/Capstone/WebScrape/ARCScraping/Demo.ipynb#X10sZmlsZQ%3D%3D?line=1'>2</a>\u001b[0m ws\u001b[39m.\u001b[39mscrape_webpage(zheng\u001b[39m.\u001b[39;49minitial_search_links[\u001b[39m1\u001b[39;49m], zheng)\n",
      "\u001b[0;31mIndexError\u001b[0m: list index out of range"
     ]
    }
   ],
   "source": [
    "#ws.scrape_webpage(zheng.initial_search_links[0], zheng)\n",
    "ws.scrape_webpage(zheng.initial_search_links[1], zheng)"
   ]
  },
  {
   "cell_type": "code",
   "execution_count": 2,
   "metadata": {},
   "outputs": [],
   "source": [
    "import csv\n",
    "links = []\n",
    "ws = WebScraping()\n",
    "with open('data/sample_researchers.csv', 'r') as file:\n",
    "            reader = csv.reader(file)\n",
    "            next(reader)\n",
    "            for researcher in reader:\n",
    "                user: User = User(researcher[0], researcher[1])\n",
    "                ws.initial_search(user)\n",
    "                for link in user.initial_search_links:\n",
    "                        links.append(link)\n",
    "                \n",
    "                "
   ]
  },
  {
   "cell_type": "code",
   "execution_count": 3,
   "metadata": {},
   "outputs": [
    {
     "data": {
      "text/plain": [
       "['https://carleton.ca/mae/profile/alex-ellery/',\n",
       " 'https://carleton.ca/auto/people/alex-ellery/',\n",
       " 'https://carleton.ca/mae/profile/alex-ellery/',\n",
       " 'https://www.researchgate.net/profile/Alex-Ellery',\n",
       " 'https://www.ratemyprofessors.com/professor%3Ftid%3D2011858',\n",
       " 'https://ieeexplore.ieee.org/author/37944917800',\n",
       " 'https://carleton-ca.academia.edu/AEllery',\n",
       " 'https://5minofscience.com/members/alex-ellery/',\n",
       " 'https://theconversation.com/profiles/alex-ellery-700515',\n",
       " 'https://www.clemson.edu/cecas/departments/ece/faculty_staff/faculty/zzhang.html',\n",
       " 'https://news.clemson.edu/clemson-university-electrical-engineer-takes-on-moons-extreme-cold/',\n",
       " 'https://ieeexplore.ieee.org/author/38510935500',\n",
       " 'https://www.researchgate.net/scientific-contributions/Zheyu-Zhang-2044778438',\n",
       " 'https://ecse.rpi.edu/lectures/2022/wide-bandgap-based-power-electronics-future-energy-and-power-systems',\n",
       " 'https://www.nasa.gov/directorates/spacetech/strg/ecf22',\n",
       " 'https://ground.news/article/clemson-university-electrical-engineer-takes-on-moons-extreme-cold',\n",
       " 'https://www.eventscribe.net/2023/apec2023/fsPopup.asp%3FMode%3DpresenterInfo%26PresenterID%3D1483272',\n",
       " 'https://drexel.edu/engineering/about/faculty-staff/G/gogotsi-yury/',\n",
       " 'https://drexel.edu/news/experts/gogotsi-yury',\n",
       " 'https://nano.materials.drexel.edu/',\n",
       " 'https://nano.materials.drexel.edu/team/',\n",
       " 'https://nano.materials.drexel.edu/publications/',\n",
       " 'https://nano.materials.drexel.edu/research/',\n",
       " 'https://nano.materials.drexel.edu/mxene-course/',\n",
       " '/imgres?imgurl=https://upload.wikimedia.org/wikipedia/commons/7/7c/Yury_gogotsi.jpg&imgrefurl=https://en.wikipedia.org/wiki/Yury_Gogotsi&h=1756&w=2133&tbnid=U4jC0dRgjLbIjM&q=Yury+Gogotsi+Drexel+University&tbnh=204&tbnw=247&usg=AI4_-kTPUy0kE1rxRXasgiUdP_LJYApYjA&vet=1&docid=2QcRXGz8NxWSsM&itg=1',\n",
       " '/imgres?imgurl=https://drexel.edu/~/media/Images/engineering/people/faculty/gogotsi-yury.ashx?h%3D300%26w%3D230%26hash%3D061C4B7FAE9CB5C5231C301DD357A53A8EDC5F96&imgrefurl=https://drexel.edu/engineering/about/faculty-staff/G/gogotsi-yury/&h=300&w=230&tbnid=Ih2xoBhv6YRjVM&q=Yury+Gogotsi+Drexel+University&tbnh=116&tbnw=89&usg=AI4_-kQwfcd_534H9Sop5V7JB1v0vhyRZw&vet=1&docid=l0ubNg7KsASzsM',\n",
       " '/imgres?imgurl=http://www.drexel.edu/~/media/Images/materials/faculty-headshots/yurygototsijpg.ashx?h%3D2197%26la%3Den%26w%3D1763%26hash%3D41847F2582D8A3516F9B3AE0746023D36E5C5345&imgrefurl=https://mrc.org.ua/news-from-mrc/378-prof-yury-gogotsi-drexel-university-usa-a-candidate-for-the-mrs-board-of-directors&h=2197&w=1763&tbnid=MTKTe7FMDoUcgM&q=Yury+Gogotsi+Drexel+University&tbnh=150&tbnw=120&usg=AI4_-kRaOav_0v_rydm5Qef2Ow5wVbypTQ&vet=1&docid=09zORQFGt9mqBM',\n",
       " '/imgres?imgurl=http://nano.materials.drexel.edu/wp-content/uploads/2016/01/Yury-ACS-Nano.jpg&imgrefurl=https://nano.materials.drexel.edu/home-page/&h=736&w=537&tbnid=6Ku0_KtHXnSoZM&q=Yury+Gogotsi+Drexel+University&tbnh=141&tbnw=103&usg=AI4_-kQmKjhKAKFPO1VhHYdl7_tmD_CKzg&vet=1&docid=1-GQAeviSzDmMM',\n",
       " 'https://en.wikipedia.org/wiki/Yury_Gogotsi',\n",
       " 'https://en.wikipedia.org/wiki/Yury_Gogotsi',\n",
       " 'https://www.researchgate.net/profile/Yury-Gogotsi',\n",
       " 'https://mesc-plus.eu/team/yury-gogotsi',\n",
       " 'https://www.materialstoday.com/lab-profile-yury-gogotsi-drexel-university/',\n",
       " 'http://www.dmsmsmeeting.com/2016/img/COLVIN.pdf',\n",
       " 'https://www.researchgate.net/profile/Greg-Colvin',\n",
       " 'https://www.investmentcasting.org/uploads/8/1/9/8/81988734/customer_spotlight_2__-_honeywell_gregory_colvin.docx.pdf',\n",
       " 'https://www.youtube.com/watch%3Fv%3DLBK_Oeikwh8',\n",
       " 'https://www.youtube.com/watch%3Fv%3DLBK_Oeikwh8',\n",
       " 'https://radaris.com/p/Greg/Colvin/',\n",
       " 'https://radaris.com/p/Gregory/Colvin/',\n",
       " 'https://www.dau.edu/library/defense-atl/DATLFiles/Nov-Dec2016/Miller%2520et%2520al.pdf',\n",
       " 'https://people.mst.edu/faculty/dbristow/index.html',\n",
       " 'https://web.mst.edu/dbristow/',\n",
       " 'https://scholars.umsystem.edu/scholar/14322/DOUGLAS-BRISTOW',\n",
       " 'https://www.ratemyprofessors.com/professor%3Ftid%3D1307366',\n",
       " 'https://ieeexplore.ieee.org/author/37303114800',\n",
       " 'https://www.researchgate.net/scientific-contributions/Douglas-A-Bristow-10702374',\n",
       " 'https://www.researchgate.net/profile/Douglas_Bristow/2',\n",
       " 'https://www.zoominfo.com/p/Douglas-Bristow/1710459870',\n",
       " 'http://www2.ece.ohio-state.edu/~rajan/',\n",
       " 'https://ece.osu.edu/people/rajan.21',\n",
       " 'https://u.osu.edu/rajangroup/',\n",
       " 'https://people.ohioinnovationexchange.org/10718-siddharth-rajan',\n",
       " 'https://ieeexplore.ieee.org/author/37270271500',\n",
       " 'https://www.ratemyprofessors.com/professor%3Ftid%3D1255645',\n",
       " 'https://forward.darpa.mil/presenters/Dr_Siddharth_Rajan',\n",
       " 'https://www.depts.ttu.edu/ece/faculty/stephen_bayne/index.php',\n",
       " 'https://www.depts.ttu.edu/ece/faculty/stephen_bayne/index.php',\n",
       " 'https://today.ttu.edu/posts/2022/08/Stories/Stephen-Bayne-Named-Acting-Dean-of-Texas-Tech-College-of-Engineering',\n",
       " 'https://www.depts.ttu.edu/ece/faculty/stephen_bayne/Bayne_C.V._June_2022.pdf',\n",
       " 'https://www.researchgate.net/profile/Stephen-Bayne',\n",
       " 'https://ieeexplore.ieee.org/author/37284081600',\n",
       " 'https://ieee-npss.org/distinguished-lecturers/dr-stephen-bayne/',\n",
       " 'https://www.energy.gov/sites/prod/files/2014/07/f17/6AIC-InfoExhange-TTU-Bayne.pdf',\n",
       " 'https://www.researchgate.net/profile/Nicole-Zander',\n",
       " 'https://orcid.org/0000-0002-6286-0335',\n",
       " 'https://www.alamy.com/stock-photo-research-chemist-dr-nicole-e-zander-speaks-about-studying-traumatic-174476536.html',\n",
       " 'https://onlinelibrary.wiley.com/doi/abs/10.1002/jnr.23594',\n",
       " 'https://www.aiche.org/resources/publications/cep/2018/december/cep-news-update/army-research-lab-uses-discarded-plastic-3d-print-supplies',\n",
       " 'https://pubmed.ncbi.nlm.nih.gov/28773380/',\n",
       " 'https://pubmed.ncbi.nlm.nih.gov/28878187/',\n",
       " 'https://pubs.acs.org/doi/abs/10.1021/acsmacrolett.8b00395',\n",
       " 'https://sites.ualberta.ca/~hzeng2/index.html',\n",
       " 'https://apps.ualberta.ca/directory/person/hzeng2',\n",
       " 'https://www.ualberta.ca/engineering/research/groups/clean-carbon/faculty-and-staff/faculty/dr-hongbo-zeng.html',\n",
       " 'https://www.researchgate.net/profile/Hongbo-Zeng',\n",
       " 'https://www.ratemyprofessors.com/professor%3Ftid%3D1421353',\n",
       " 'https://www.futureenergysystems.ca/research/researcher-directory/524',\n",
       " 'https://www.journals.elsevier.com/advances-in-colloid-and-interface-science/editorial-board/h-zeng-phd',\n",
       " 'https://engineering.uci.edu/users/julie-m-schoenung',\n",
       " 'https://ccam.uci.edu/people/julie-schoenung/',\n",
       " 'https://www.sciencedirect.com/author/7003495518/j-m-schoenung',\n",
       " 'https://www.researchgate.net/scientific-contributions/JM-Schoenung-78564015',\n",
       " 'https://www.researchgate.net/scientific-contributions/Julie-M-Schoenung-16262794/publications/3',\n",
       " 'https://research.com/u/julie-m-schoenung',\n",
       " 'https://www.wikidata.org/wiki/Q93000554',\n",
       " 'https://en.wikipedia.org/wiki/Julie_Schoenung',\n",
       " 'http://schen.ucsd.edu/',\n",
       " 'http://schen.ucsd.edu/lab/',\n",
       " 'https://jacobsschool.ucsd.edu/node/3248',\n",
       " 'https://iem.ucsd.edu/researchers/people/profiles/shaochen-chen.html',\n",
       " 'https://www.aiche.org/community/bio/shaochen-chen',\n",
       " 'https://fun2025.eng.uci.edu/chen',\n",
       " 'https://www.cmu.edu/nanotechnology-forum/Forum_16/CV/Shaochen%2520Chen_Bio.pdf',\n",
       " 'https://mse.vt.edu/faculty-staff/Faculty/yu.html',\n",
       " 'https://yu.mse.vt.edu/People/hangyu.html',\n",
       " 'https://www.researchgate.net/profile/Hang-Yu-16',\n",
       " 'https://www.researchgate.net/lab/Hang-Yu-Lab',\n",
       " 'https://www.journals.elsevier.com/materialia/editorial-board/professor-hang-z-yu',\n",
       " 'https://vt.edu/',\n",
       " 'https://www.adscientificindex.com/scientist/hang-z-yu/1324826',\n",
       " 'https://glose.com/author/hang-yu',\n",
       " 'https://me.vt.edu/people/faculty/williams-christopher.html',\n",
       " 'https://dreams.mii.vt.edu/people/christopher-williams.html',\n",
       " 'https://vtx.vt.edu/articles/2022/02/eng-williams-nai-senior.html',\n",
       " 'https://www.researchgate.net/profile/Christopher-Williams-64',\n",
       " 'https://www.sme.org/technologies/articles/2022/january/dreams-catcher-for-virginia-tech-professor-3d-printing-was-love-at-first-sight/',\n",
       " 'https://objexunlimited.com/portfolio-item/dr-chris-williams-ph-d-and-the-virginia-tech-dreamslab/',\n",
       " 'https://www.ratemyprofessors.com/professor%3Ftid%3D2276645',\n",
       " 'https://www.youtube.com/watch%3Fv%3DIbIdztMOomI',\n",
       " 'https://www.youtube.com/watch%3Fv%3DIbIdztMOomI',\n",
       " 'https://mme.wsu.edu/amit-bandyopadhyay/',\n",
       " 'https://labs.wsu.edu/bmrl/amit-bandyopadhyay/',\n",
       " 'https://materials.wsu.edu/person/amit-bandyopadhyay/',\n",
       " 'https://orcid.org/0000-0003-0992-5387',\n",
       " 'https://www.researchgate.net/profile/Amit-Bandyopadhyay-2',\n",
       " 'https://loop.frontiersin.org/people/47157',\n",
       " 'https://www.ratemyprofessors.com/professor%3Ftid%3D1303347',\n",
       " 'https://www.esm.psu.edu/department/directory-detail-g.aspx%3Fq%3DEWR101',\n",
       " 'https://directory.smeal.psu.edu/etr',\n",
       " 'https://www.mri.psu.edu/mri/personnel-directory/ewr101',\n",
       " 'https://www.me.psu.edu/department/directory-detail-g.aspx%3Fq%3DEWR101',\n",
       " 'https://pennstate.pure.elsevier.com/en/persons/edward-william-reutzel',\n",
       " 'https://ieeexplore.ieee.org/author/37085851983',\n",
       " 'https://icaleo.org/node/7350',\n",
       " 'https://www.matse.psu.edu/directory/clive-randall',\n",
       " 'https://www.mri.psu.edu/mri/personnel-directory/car4',\n",
       " 'https://www.ems.psu.edu/directory/clive-randall',\n",
       " 'https://www.cdp.ncsu.edu/clive-randall-named-distinguished-professor-at-psu/',\n",
       " 'https://en.wikipedia.org/wiki/Clive_Randall',\n",
       " 'https://www.research.psu.edu/node/3278',\n",
       " 'https://en.wikipedia.org/wiki/Clive_Randall',\n",
       " 'https://pennstate.pure.elsevier.com/en/persons/clive-a-randall',\n",
       " 'https://www.cdp.ncsu.edu/clive-randall-named-distinguished-professor-at-psu/',\n",
       " 'https://ontariotechu.ca/experts/feas/sheldon-williamson.php',\n",
       " 'https://ontariotechu.ca/experts/feas/sheldon-williamson.php',\n",
       " 'https://engineering.ontariotechu.ca/people/ecse/sheldon.williamson.php',\n",
       " 'https://ieeexplore.ieee.org/author/37267519200',\n",
       " 'https://www.researchgate.net/scientific-contributions/Sheldon-S-Williamson-74583338',\n",
       " 'https://www.spec-ieee.org/team/professor-sheldon-s-williamson/',\n",
       " 'https://www.ratemyprofessors.com/professor%3Ftid%3D1016369',\n",
       " 'https://theconversation.com/profiles/sheldon-williamson-972042',\n",
       " 'https://scholars.uow.edu.au/shujun-zhang',\n",
       " 'https://www.uow.edu.au/media/2020/professor-shujun-zhang-and-professor-willy-susilo-named-as-ieee-fellows.php',\n",
       " 'https://ieeexplore.ieee.org/author/37291013500',\n",
       " 'https://www.mdpi.com/about/announcements/5212',\n",
       " 'https://www.researchgate.net/scientific-contributions/Shujun-Zhang-2212422401',\n",
       " 'https://ieee-uffc.org/contact/shujun-zhang',\n",
       " 'https://ceramics.org/award-winners/shujun-zhang',\n",
       " 'https://dmtc.com.au/wp-content/uploads/2022/11/PhD-Opportunity-_-UoW-1.pdf',\n",
       " 'https://www.adscientificindex.com/scientist/shujun-zhang/131127',\n",
       " 'https://shrikezhang.com/',\n",
       " 'https://shrikezhang.com/team/members',\n",
       " 'https://shrikezhang.com/team/positions',\n",
       " 'https://shrikezhang.com/xiang-zhang.html',\n",
       " 'https://shrikezhang.com/team/alumni',\n",
       " 'https://shrikezhang.com/team/members',\n",
       " 'https://connects.catalyst.harvard.edu/Profiles/profile/27125749',\n",
       " 'https://www.researchgate.net/profile/Y-Shrike-Zhang',\n",
       " 'https://pubs.acs.org/doi/10.1021/cen-09633-cover13',\n",
       " 'https://www.sme.org/technologies/articles/2022/may/executives-urge-greater-3d-printing-efforts/',\n",
       " 'https://rocketreach.co/brian-baughman-email_7056013',\n",
       " 'https://aviationweek.com/knowledge-center/webinar-aerospace-leaders-discuss-industrialization-metal-am',\n",
       " 'https://event.on24.com/wcc/r/3167516/1208CE08B7F1EE90E9E678A9DA0465B6%3Fpartnerref%3DINTAWWebsite',\n",
       " 'https://www.yahoo.com/now/more-200-industry-experts-deliver-134500967.html',\n",
       " 'https://www.apollo.io/people/Brian/Baughman/54a410997468692cf0307729',\n",
       " 'https://rivendellbookstore.indielite.org/book/9783319551272']"
      ]
     },
     "execution_count": 3,
     "metadata": {},
     "output_type": "execute_result"
    }
   ],
   "source": [
    "links"
   ]
  },
  {
   "cell_type": "code",
   "execution_count": 3,
   "metadata": {},
   "outputs": [
    {
     "name": "stdout",
     "output_type": "stream",
     "text": [
      "55 32 17\n"
     ]
    }
   ],
   "source": [
    "eduCount = sum([1 for link in links if link.find(\".edu\") > -1 ])\n",
    "orgCount = sum([1 for link in links if link.find(\".org\") > -1])\n",
    "netCount = sum([1 for link in links if link.find(\".net\") > -1])\n",
    "comCount = sum([1 for link in links if link.find(\".com\") > -1])\n",
    "other = len(links) - eduCount - orgCount - netCount - comCount\n",
    "\n",
    "\n",
    "print(eduCount, orgCount, other)"
   ]
  },
  {
   "cell_type": "code",
   "execution_count": 5,
   "metadata": {},
   "outputs": [
    {
     "data": {
      "image/png": "[encoded data removed]",
      "text/plain": [
       "<Figure size 720x720 with 1 Axes>"
      ]
     },
     "metadata": {
      "needs_background": "light"
     },
     "output_type": "display_data"
    }
   ],
   "source": [
    "import pandas as pd\n",
    "import matplotlib.pyplot as plt\n",
    "\n",
    "data = {\".edu\": eduCount, \".org\": orgCount, \".net\":netCount, \".com\":comCount,  \"others\": other}\n",
    "df = pd.Series(data).sort_values(ascending=False)\n",
    "ax = df.plot.bar(legend=False, rot=0, color='#445d73', figsize=(10, 10))\n",
    "\n",
    "ax.set_ylabel(\"Frequency\", fontsize=20)\n",
    "ax.set_xlabel('Type of Top Level Domain (TLDs)', fontsize=20)\n",
    "ax.set_xticklabels(ax.get_xticklabels(), fontsize=18)\n",
    "ax.yaxis.set_tick_params(labelsize=18)\n",
    "\n",
    "plt.savefig('link_count.png', dpi=300)"
   ]
  }
 ],
 "metadata": {
  "kernelspec": {
   "display_name": "base",
   "language": "python",
   "name": "python3"
  },
  "language_info": {
   "codemirror_mode": {
    "name": "ipython",
    "version": 3
   },
   "file_extension": ".py",
   "mimetype": "text/x-python",
   "name": "python",
   "nbconvert_exporter": "python",
   "pygments_lexer": "ipython3",
   "version": "3.9.12"
  },
  "orig_nbformat": 4
 },
 "nbformat": 4,
 "nbformat_minor": 2
}
