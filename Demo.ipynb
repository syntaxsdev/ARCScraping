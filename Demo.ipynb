{
 "cells": [
  {
   "attachments": {},
   "cell_type": "markdown",
   "metadata": {},
   "source": [
    "<h1>Demonstration of the Researcher WebScraping Project</h1>\n",
    "\n",
    "<b>Demo created on March 12</b>"
   ]
  },
  {
   "cell_type": "code",
   "execution_count": 1,
   "metadata": {},
   "outputs": [],
   "source": [
    "from WebScraping import WebScraping\n",
    "from User import User\n",
    "\n",
    "#Create the WebScraping class\n",
    "ws = WebScraping()\n",
    "\n",
    "#Create the Test Researchers\n",
    "zheng = User(\"Zheng Xiang\", \"Virginia Tech\")\n",
    "sean = User(\"Sean Angew\", \"Universirty of Virginia\")"
   ]
  },
  {
   "attachments": {},
   "cell_type": "markdown",
   "metadata": {},
   "source": [
    "<p>Notice how I used <b>Virginia Tech</b> instead of <b>Virginia Polytechnic Instititute....</b>. This webscraper allows for common school names.</p>"
   ]
  },
  {
   "cell_type": "code",
   "execution_count": 2,
   "metadata": {},
   "outputs": [
    {
     "data": {
      "text/plain": [
       "['https://htm.pamplin.vt.edu/directory/xiang.html',\n",
       " 'https://www.linkedin.com/in/philxz',\n",
       " 'https://www.researchgate.net/profile/Zheng-Xiang-6',\n",
       " 'https://www.researchgate.net/scientific-contributions/Zheng-Xiang-2164885495',\n",
       " 'https://www.journals.elsevier.com/tourism-management/editorial-board/zheng-xiang',\n",
       " 'https://m.facebook.com/2731574876864716/',\n",
       " 'https://www.instagram.com/p/B58DMnPnmJ9/',\n",
       " 'https://www.youtube.com/watch%3Fv%3DFtoSQPBzjao',\n",
       " 'https://www.youtube.com/watch%3Fv%3DFtoSQPBzjao']"
      ]
     },
     "execution_count": 2,
     "metadata": {},
     "output_type": "execute_result"
    }
   ],
   "source": [
    "ws.initial_search(zheng)"
   ]
  },
  {
   "attachments": {},
   "cell_type": "markdown",
   "metadata": {},
   "source": [
    "### The `initial_search` returns all of the relevent links from Google about the user from the first page.\n",
    "#### It also stores this into the internal user object.\n",
    "\n",
    "#### Now let's search Sean."
   ]
  },
  {
   "cell_type": "code",
   "execution_count": 3,
   "metadata": {},
   "outputs": [
    {
     "data": {
      "text/plain": [
       "['https://engineering.virginia.edu/faculty/sean-r-agnew',\n",
       " 'https://publicsearch.people.virginia.edu/person/sra4p',\n",
       " 'https://engineering.virginia.edu/agnew-research-group',\n",
       " 'https://www.linkedin.com/in/sean-agnew-3373275',\n",
       " 'https://www.linkedin.com/in/sean-agnew-a24842b',\n",
       " 'https://www.sciencedirect.com/author/57203775288/sean-r-agnew',\n",
       " 'https://0-scholar-google-com.brum.beds.ac.uk/citations%3Fuser%3DoyJwW5sAAAAJ%26hl%3Des',\n",
       " 'https://thecourseforum.com/instructor/1126/']"
      ]
     },
     "execution_count": 3,
     "metadata": {},
     "output_type": "execute_result"
    }
   ],
   "source": [
    "ws.initial_search(sean)"
   ]
  },
  {
   "attachments": {},
   "cell_type": "markdown",
   "metadata": {},
   "source": [
    "### Now lets do a scrape on some of their found links..."
   ]
  },
  {
   "cell_type": "code",
   "execution_count": 6,
   "metadata": {},
   "outputs": [
    {
     "name": "stdout",
     "output_type": "stream",
     "text": [
      "True 3 Instituion found | Researcher name found | University website verified\n",
      "True 2 Instituion found | Researcher name found | \n"
     ]
    }
   ],
   "source": [
    "ws.scrape_webpage(zheng.initial_search_links[0], zheng)\n",
    "ws.scrape_webpage(zheng.initial_search_links[1], zheng)"
   ]
  },
  {
   "cell_type": "code",
   "execution_count": null,
   "metadata": {},
   "outputs": [],
   "source": []
  }
 ],
 "metadata": {
  "kernelspec": {
   "display_name": "base",
   "language": "python",
   "name": "python3"
  },
  "language_info": {
   "codemirror_mode": {
    "name": "ipython",
    "version": 3
   },
   "file_extension": ".py",
   "mimetype": "text/x-python",
   "name": "python",
   "nbconvert_exporter": "python",
   "pygments_lexer": "ipython3",
   "version": "3.9.12"
  },
  "orig_nbformat": 4
 },
 "nbformat": 4,
 "nbformat_minor": 2
}
