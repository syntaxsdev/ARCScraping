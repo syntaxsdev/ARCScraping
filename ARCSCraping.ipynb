{
 "cells": [
  {
   "cell_type": "code",
   "execution_count": 1,
   "metadata": {},
   "outputs": [
    {
     "name": "stdout",
     "output_type": "stream",
     "text": [
      "Time: 0.0012538433074951172\n"
     ]
    }
   ],
   "source": [
    "from ARCScraping import ARCScraping\n",
    "import time\n",
    "s = time.time()\n",
    "arc = ARCScraping('data/sample.csv')\n",
    "print(\"Time:\",time.time() - s)"
   ]
  },
  {
   "cell_type": "code",
   "execution_count": 2,
   "metadata": {},
   "outputs": [
    {
     "name": "stdout",
     "output_type": "stream",
     "text": [
      "Begin full scrape\n",
      "Researcher [['Alex', 'Ellery']] done with initial search.\n",
      "Scraping researcher method\n",
      "PAGE SCRAPED: https://carleton.ca/mae/profile/alex-ellery/\n",
      "PAGE SCRAPED: https://carleton.ca/mae/profile/alex-ellery/\n",
      "PAGE SCRAPED: https://carleton.ca/auto/people/alex-ellery/\n",
      "PAGE SCRAPED:PAGE SCRAPED: https://ieeexplore.ieee.org/author/37944917800\n",
      " https://www.researchgate.net/profile/Alex-Ellery\n",
      "PAGE SCRAPED: https://carleton-ca.academia.edu/AEllery\n",
      "PAGE SCRAPED: https://dl.acm.org/profile/81100540706\n",
      "PAGE SCRAPED: https://theconversation.com/profiles/alex-ellery-700515\n",
      "PAGE SCRAPED: https://smartwatermagazine.com/blogs/alex-ellery\n",
      "PAGE SCRAPED:PAGE SCRAPED: https://us.sagepub.com/en-us/nam/author/alex-ellery\n",
      " https://www.audacy.com/podcast/stories-from-space-a52c0/episodes/von-neumann-probes-with-professor-alex-ellery-stories-from-space-podcast-with-matthew-s-williams-494f6\n",
      "PAGE SCRAPED: https://climatechange.insightconferences.com/speaker/2017/alex-ellery-carleton-university-canada\n",
      "PAGE SCRAPED: https://spaceq.ca/the-nasa-artemis-ecosystem-with-alex-ellery/\n",
      "PAGE SCRAPED: https://everipedia.org/wiki/lang_en/alex-ellery\n",
      "PAGE SCRAPED: https://loop.frontiersin.org/people/454739/overview\n",
      "PAGE SCRAPED: https://loop.frontiersin.org/people/454739/publications\n",
      "PAGE SCRAPED: http://images.spaceref.com/docs/2013/CSCA2013/Alex-Elery-presentation.pdf\n",
      "PAGE SCRAPED: http://iafastro.directory/iac/paper/id/2109/abstract-pdf/IAC-08,A3,2.B,11,x2109.brief.pdf%3F2016-08-23.13:42:17\n"
     ]
    },
    {
     "name": "stderr",
     "output_type": "stream",
     "text": [
      "Some characters could not be decoded, and were replaced with REPLACEMENT CHARACTER.\n"
     ]
    },
    {
     "name": "stdout",
     "output_type": "stream",
     "text": [
      "PAGE SCRAPED: https://uk.sagepub.com/en-gb/eur/author/alex-ellery\n",
      "PAGE SCRAPED: https://storiesfromspace.simplecast.com/episodes/von-neumann-probes-with-professor-alex-ellery-stories-from-space-podcast-with-matthew-s-williams\n",
      "PAGE SCRAPED: https://link.springer.com/book/10.1007/978-3-642-03259-2\n",
      "PAGE SCRAPED: https://open.spotify.com/episode/0QkDBPucokXHlSUCpyyX9Y\n",
      "PAGE SCRAPED: https://storiesbywilliams.com/2023/01/06/episode-twenty-three-of-stories-from-space-is-now-live/\n",
      "PAGE SCRAPED: https://www.mitacs.ca/en/impact/intern-has-his-sights-set-space\n"
     ]
    },
    {
     "name": "stderr",
     "output_type": "stream",
     "text": [
      "Some characters could not be decoded, and were replaced with REPLACEMENT CHARACTER.\n"
     ]
    },
    {
     "name": "stdout",
     "output_type": "stream",
     "text": [
      "Researcher [['Alex', 'Ellery']] done with scraping..\n",
      "Done running all researchers\n"
     ]
    }
   ],
   "source": [
    "await arc.run()"
   ]
  },
  {
   "cell_type": "code",
   "execution_count": 4,
   "metadata": {},
   "outputs": [],
   "source": [
    "import datetime, pandas as pd\n",
    "def export():\n",
    "        #temp_researchers = self.researchers_scraped.copy()\n",
    "        researchers_list: list = []\n",
    "        for researcher in arc.researchers_scraped:\n",
    "            researcher_export_data:dict = {}\n",
    "            for key, val in researcher.research_data.items():\n",
    "                dedict: list = researcher.dedictionaryify(val)\n",
    "                print(dedict)\n",
    "                dedict_to_str: str = (dedict)\n",
    "                if (type(dedict) != str):\n",
    "                    dedict_to_str: str = '\\n'.join(dedict)\n",
    "                    \n",
    "                researcher_export_data[key] = dedict_to_str\n",
    "            researchers_list.append(researcher_export_data)\n",
    "\n",
    "\n",
    "        df = pd.DataFrame(researchers_list)\n",
    "         # create a unique filename with timestamp\n",
    "        export_time = datetime.datetime.now().strftime('%Y-%m-%d %H-%M-%S')\n",
    "        export_filename = f\"output_{export_time}.xlsx\"\n",
    "\n",
    "        # export dataframe as .csv file\n",
    "        df.to_excel(export_filename, index=False, engine='openpyxl')"
   ]
  },
  {
   "cell_type": "code",
   "execution_count": 5,
   "metadata": {},
   "outputs": [
    {
     "name": "stdout",
     "output_type": "stream",
     "text": [
      "['Alex', 'Ellery']\n",
      "['C', 'a', 'r', 'l', 'e', 't', 'o', 'n', ' ', 'U', 'n', 'i', 'v', 'e', 'r', 's', 'i', 't', 'y']\n",
      "['M', 'a', 'l', 'e']\n",
      "['A', 'c', 'a', 'd', 'e', 'm', 'i', 'a']\n",
      "['alex_ellery@carleton.ca', 'alex.ellery@carleton.ca']\n",
      "['Blog https://www.smartwatermagazine.com/blogs/alex-ellery', 'https://carleton.ca/astro/people/alex-ellery/', 'Personal Website https://carleton.ca/astro/people/ellery-alex/', 'https://scholar.google.ca/citations?user=JZJZJLwAAAAJ&hl=en', 'https://www.linkedin.com/in/alex-ellery-b3649816/', 'https://www.researchgate.net/profile/Alex_Ellery ResearchGate', 'Google Scholar https://scholar.google.com/citations?user=JZJZJLwAAAAJ&hl=en']\n",
      "['Carleton University', 'Department of Mechanical and Aerospace Engineering', 'Faculty Member']\n",
      "['Spacecraft Design, Planetary Exploration, Robotics, Space Mining, Space Policy', 'Autonomous systems, Extraterrestrial drilling, Mars exploration', 'Application of robotics and artificial intelligence to space exploration including the exploitation of planetary in-situ resources and the application of 3D printing technology to extraterrestrial material', 'Autonomous Systems, Extraterrestrial Robotics, In-Situ Resource Utilization', 'Muscle-like behaviours for robotic manipulators, Forward model augmentation to feedback control of manipulators, Micro-penetrator development, Micro-rover development, Optic flow and potential field-based navigation', 'Design of Serviceable Satellites', 'On-Orbit Satellite Servicing', 'Design and Analysis of Planetary Rovers', 'Design of Entry, Descent and Landing Systems for Planetary Exploration', 'Robotic Drills & Instrumentation for Astrobiological Surveys', 'Biomimetic Design for Space Applications', 'Von Neumann Probes', 'Building electric motor for extraterrestrial use', 'In-Situ Artificial Intelligence Applications, Transfer Learning of Neural Network Controllers, Autonomous Geological Target Selection', 'Mars exploration, Lunar exploration, In-situ resource utilization, Autonomous systems', 'Design and development of spacecraft, space propulsion, robotics, autonomous systems, space mining, and space colonization', 'Planetary Rovers: Robotic Exploration of the Solar System', 'Self-replicating machines, In-situ resource utilization, Space exploration', 'Self-replicating robots on the Moon', '3D printed electric motors', 'Biomimetic control of spaceborne manipulator', 'Leveraging in situ resources for lunar base construction', 'Robotic sample acquisition', 'Dynamic control of space robotic on-orbit servicers', 'Application of Robotics to Space Development and Exploration', 'Developing self-replicating machines for space exploration and in-situ resource utilization, leveraging 3D printing and robotics technologies', 'Robotic sample acquisition, Dynamic control of space robotic on-orbit servicers, Space Robotics, Terrain Response Estimation, Elastic Loop Mobility System, Closed Loop Ecological Life Support Systems']\n",
      "['Space Robotics and Space Technology', 'Spacecraft Design, Planetary Exploration, Robotics, Space Mining, Space Policy', 'Space exploration, Robotics, Planetary science', 'Space Robotics', 'Space Mining', '3D Printing', 'Design of Serviceable Satellites', 'On-orbit Satellite Servicing', 'In-situ resource utilisation', 'Design & Analysis of Planetary Rovers', 'Design of Entry, Descent and Landing Systems for Planetary Exploration', 'Robotic Drills & Instrumentation for Astrobiological Surveys', 'Biomimetic Design for Space Applications', 'Satellite Technology', 'Entry/Descent/Landing Systems', 'Astrobiological Survey Instrumentation', 'Biomimetic Design', 'Mechanical and Aerospace Engineering', 'Space Robotics, Artificial Intelligence, Lunar Resources', 'Spacecraft Design, Space Propulsion, Robotics, Autonomous Systems, Space Mining, Space Colonization', 'Additive Manufacturing', 'Industrial Ecology', 'Genetic Regulatory Networks', 'Space Engineering, Robotics', 'Space exploration, Self-replicating machines, In-situ resource utilization, Robotics, 3D printing', 'Robotics, Space Engineering, Synthetic Biology']\n",
      "['Spacecraft Design, Planetary Exploration, Robotics, Space Mining, Space Policy', 'Professor of Mechanical and Aerospace Engineering', 'Space Robotics & Space Technology', 'Robotics, Space Systems Engineering, Planetary Science', 'Autonomous Systems', 'Space Robotics, Artificial Intelligence, Lunar Resources', 'Spacecraft Design, Space Propulsion, Robotics, Autonomous Systems, Space Mining, Space Colonization', 'Spacecraft Engineering, Robotics', 'Space exploration, Robotics, 3D printing', 'Robotics, Space Engineering, Synthetic Biology']\n",
      "['George Stephenson medal by the IMechE in 2005', 'George Stephenson medal by the Institution of Mechanical Engineers (2005)']\n",
      "['Professor, Canada Research Chair', 'Carleton University', 'Full Professor (Canada Research Professor)', 'Full Professor', 'Professor', 'Professor at Carleton University', 'Carleton University Professor']\n"
     ]
    }
   ],
   "source": [
    "export()"
   ]
  },
  {
   "cell_type": "code",
   "execution_count": 17,
   "metadata": {},
   "outputs": [
    {
     "name": "stdout",
     "output_type": "stream",
     "text": [
      "Carleton University\n"
     ]
    },
    {
     "data": {
      "text/plain": [
       "'Carleton University'"
      ]
     },
     "execution_count": 17,
     "metadata": {},
     "output_type": "execute_result"
    }
   ],
   "source": [
    "def dedictionaryify(field_data):\n",
    "    newlist = []\n",
    "    if (type(field_data) == str):\n",
    "        newlist.append(field_data)\n",
    "        return newlist\n",
    "    \n",
    "    for aw in field_data:\n",
    "        if (type(aw)==dict):\n",
    "            newlist.append(' '.join(str(value) for value in aw.values()))\n",
    "        elif (type(aw)==list):\n",
    "            # Recursion here\n",
    "            newlist.extend(dedictionaryify(aw)) \n",
    "        else:\n",
    "            if aw != \"N/A\": \n",
    "                newlist.append(aw)\n",
    "    return newlist\n",
    "\n",
    "ae = arc.researchers_scraped[0].research_data['institution']\n",
    "print(ae)\n",
    "dedictionaryify(ae)\n"
   ]
  },
  {
   "cell_type": "code",
   "execution_count": null,
   "metadata": {},
   "outputs": [],
   "source": []
  }
 ],
 "metadata": {
  "kernelspec": {
   "display_name": "base",
   "language": "python",
   "name": "python3"
  },
  "language_info": {
   "codemirror_mode": {
    "name": "ipython",
    "version": 3
   },
   "file_extension": ".py",
   "mimetype": "text/x-python",
   "name": "python",
   "nbconvert_exporter": "python",
   "pygments_lexer": "ipython3",
   "version": "3.9.12"
  },
  "orig_nbformat": 4
 },
 "nbformat": 4,
 "nbformat_minor": 2
}
