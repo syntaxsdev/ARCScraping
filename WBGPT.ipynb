{
 "cells": [
  {
   "cell_type": "code",
   "execution_count": 1,
   "metadata": {},
   "outputs": [],
   "source": [
    "import openai, json, os, pandas as pd\n",
    "from WebScraping import WebScraping\n",
    "from User import User\n",
    "from pprint import pprint\n",
    "from dotenv import load_dotenv\n",
    "import Universities\n",
    "\n",
    "def connectOpenAI():\n",
    "    load_dotenv()\n",
    "    openai.api_key = os.getenv(\"API_KEY\")\n",
    "connectOpenAI()\n"
   ]
  },
  {
   "cell_type": "code",
   "execution_count": 2,
   "metadata": {},
   "outputs": [],
   "source": [
    "def GetDataFromGPT(page):\n",
    "    connectOpenAI()\n",
    "    response = openai.ChatCompletion.create(\n",
    "        model=\"gpt-3.5-turbo\",\n",
    "        messages=[{\"role\": \"system\", \"content\": os.getenv(\"prompt\")},\n",
    "                  {\"role\": \"user\", \"content\": page}],\n",
    "        temperature=0\n",
    "    )\n",
    "\n",
    "    data = response.choices[0].message.content\n",
    "    return data\n",
    "\n"
   ]
  },
  {
   "cell_type": "code",
   "execution_count": 3,
   "metadata": {},
   "outputs": [],
   "source": [
    "#Create the WebScraping class\n",
    "ws = WebScraping()"
   ]
  },
  {
   "cell_type": "code",
   "execution_count": 3,
   "metadata": {},
   "outputs": [
    {
     "name": "stdout",
     "output_type": "stream",
     "text": [
      "True 3 Instituion found | Researcher name found | University website verified\n",
      "True 3 Instituion found | Researcher name found | University website verified\n"
     ]
    }
   ],
   "source": [
    "#Create the Test Researchers\n",
    "zheng = User(\"Zheng Xiang\", \"Virginia Tech\")\n",
    "sean = User(\"Sean Agnew\", \"University of Virginia\")\n",
    "\n",
    "ws.initial_search(zheng)\n",
    "ws.initial_search(sean)\n",
    "\n",
    "#Scrape links\n",
    "w1 = ws.scrape_webpage(zheng.initial_search_links[0], zheng)\n",
    "w2 = ws.scrape_webpage(sean.initial_search_links[0], sean)\n"
   ]
  },
  {
   "cell_type": "code",
   "execution_count": 4,
   "metadata": {},
   "outputs": [
    {
     "data": {
      "text/plain": [
       "'{\\n  \"name\": \"Zheng (Phil) Xiang\",\\n  \"institution\": \"Virginia Polytechnic Institute and State University\",\\n  \"research_fields\": [\\n    \"Travel behavior\",\\n    \"e-Tourism\",\\n    \"Information technology\",\\n    \"Tourism analytics\"\\n  ],\\n  \"research_focus\": \"Travel information search, social media marketing, and business analytics for the tourism and hospitality industries\",\\n  \"expertise\": \"N/A\",\\n  \"emails\": [\\n    \"philxz@vt.edu\"\\n  ],\\n  \"appointments\": [\\n    {\\n      \"position\": \"Department Head\",\\n      \"department\": \"Hospitality and Tourism Management\",\\n      \"institution\": \"Virginia Tech\"\\n    },\\n    {\\n      \"position\": \"Associate Professor\",\\n      \"department\": \"Hospitality and Tourism Management\",\\n      \"institution\": \"Virginia Tech\"\\n    }\\n  ],\\n  \"awards\": [\\n    \"Emerging Scholar of Distinction award by the International Academy for the Study of Tourism\",\\n    \"Best Research Paper of the Year Award at the ICHRIE Conference in New Orleans, LA in July 2019\",\\n    \"Certificate of Teaching Award for the department by Pamplin College of Business, 2017-2018\",\\n    \"Best Paper Award (1st Place) at ENTER 2017 eTourism Conference in Rome, Italy\",\\n    \"Best Paper of the Year Award (2016) in Electronic Markets\",\\n    \"Pamplin College of Business’ Junior Faculty Research Excellence Award of 2015\",\\n    \"W. Bradford Wiley Memorial Best Research Paper of the Year Award at the ICHRIE Conference in Orlando, FL in July 2015\",\\n    \"Best Paper Award (2nd Place) at the IFITT ENTER 2012 Conference in Helsingborg, Sweden\",\\n    \"Charles R. Goeldner Article of Excellence Award in Journal of Travel Research in 2008\"\\n  ],\\n  \"gender\": \"Male\",\\n  \"domain\": \"Academia\",\\n  \"personal_website\": \"N/A\"\\n}'"
      ]
     },
     "execution_count": 4,
     "metadata": {},
     "output_type": "execute_result"
    }
   ],
   "source": [
    "GetDataFromGPT(w1)"
   ]
  },
  {
   "cell_type": "code",
   "execution_count": 5,
   "metadata": {},
   "outputs": [],
   "source": [
    "results1 = json.loads(GetDataFromGPT(w1))\n",
    "results2 = json.loads(GetDataFromGPT(w2))"
   ]
  },
  {
   "cell_type": "code",
   "execution_count": 6,
   "metadata": {},
   "outputs": [
    {
     "data": {
      "text/plain": [
       "{'name': 'Zheng (Phil) Xiang',\n",
       " 'institution': 'Virginia Polytechnic Institute and State University',\n",
       " 'research_fields': ['Travel behavior',\n",
       "  'e-Tourism',\n",
       "  'Information technology',\n",
       "  'Tourism analytics'],\n",
       " 'research_focus': 'Travel information search, social media marketing, and business analytics for the tourism and hospitality industries',\n",
       " 'expertise': 'N/A',\n",
       " 'emails': ['philxz@vt.edu'],\n",
       " 'appointments': [{'position': 'Department Head',\n",
       "   'department': 'Hospitality and Tourism Management',\n",
       "   'institution': 'Virginia Tech'},\n",
       "  {'position': 'Associate Professor',\n",
       "   'department': 'Hospitality and Tourism Management',\n",
       "   'institution': 'Virginia Tech'}],\n",
       " 'awards': ['Emerging Scholar of Distinction award by the International Academy for the Study of Tourism',\n",
       "  'Best Research Paper of the Year Award at the ICHRIE Conference in New Orleans, LA in July 2019',\n",
       "  'Certificate of Teaching Award for the department by Pamplin College of Business, 2017-2018',\n",
       "  'Best Paper Award (1st Place) at ENTER 2017 eTourism Conference in Rome, Italy',\n",
       "  'Best Paper of the Year Award (2016) in Electronic Markets',\n",
       "  'Pamplin College of Business’ Junior Faculty Research Excellence Award of 2015',\n",
       "  'W. Bradford Wiley Memorial Best Research Paper of the Year Award at the ICHRIE Conference in Orlando, FL in July 2015',\n",
       "  'Best Paper Award (2nd Place) at the IFITT ENTER 2012 Conference in Helsingborg, Sweden',\n",
       "  'Charles R. Goeldner Article of Excellence Award in Journal of Travel Research in 2008'],\n",
       " 'gender': 'Male',\n",
       " 'domain': 'Academia',\n",
       " 'personal_website': 'N/A'}"
      ]
     },
     "execution_count": 6,
     "metadata": {},
     "output_type": "execute_result"
    }
   ],
   "source": [
    "results1"
   ]
  },
  {
   "cell_type": "code",
   "execution_count": 8,
   "metadata": {},
   "outputs": [
    {
     "data": {
      "text/plain": [
       "{'name': 'Sean R. Agnew',\n",
       " 'institution': 'University of Virginia School of Engineering and Applied Science',\n",
       " 'research_fields': 'Materials Science and Engineering',\n",
       " 'research_focus': 'Metals analysis, including magnesium alloy formability, intermetallic behaviors, and aluminum alloy fatigue',\n",
       " 'expertise': 'Surface and Interface Science and Engineering, Metallurgy, Materials Characterization, Nanomaterials and nanomanufacturing, Advanced materials for transportation applications',\n",
       " 'emails': 'sra4p@virginia.edu',\n",
       " 'appointments': 'William G. Reynolds Professor of Materials Science, Professor of Materials Science and Engineering',\n",
       " 'awards': 'N/A',\n",
       " 'gender': 'Male',\n",
       " 'domain': 'Academia',\n",
       " 'personal_website': 'N/A'}"
      ]
     },
     "execution_count": 8,
     "metadata": {},
     "output_type": "execute_result"
    }
   ],
   "source": [
    "results2"
   ]
  },
  {
   "cell_type": "code",
   "execution_count": 9,
   "metadata": {},
   "outputs": [
    {
     "data": {
      "text/html": [
       "<div>\n",
       "<style scoped>\n",
       "    .dataframe tbody tr th:only-of-type {\n",
       "        vertical-align: middle;\n",
       "    }\n",
       "\n",
       "    .dataframe tbody tr th {\n",
       "        vertical-align: top;\n",
       "    }\n",
       "\n",
       "    .dataframe thead th {\n",
       "        text-align: right;\n",
       "    }\n",
       "</style>\n",
       "<table border=\"1\" class=\"dataframe\">\n",
       "  <thead>\n",
       "    <tr style=\"text-align: right;\">\n",
       "      <th></th>\n",
       "      <th>name</th>\n",
       "      <th>institution</th>\n",
       "      <th>research_fields</th>\n",
       "      <th>research_focus</th>\n",
       "      <th>expertise</th>\n",
       "      <th>emails</th>\n",
       "      <th>appointments</th>\n",
       "      <th>awards</th>\n",
       "      <th>gender</th>\n",
       "      <th>domain</th>\n",
       "      <th>personal_website</th>\n",
       "    </tr>\n",
       "  </thead>\n",
       "  <tbody>\n",
       "    <tr>\n",
       "      <th>0</th>\n",
       "      <td>Zheng (Phil) Xiang</td>\n",
       "      <td>Virginia Polytechnic Institute and State Unive...</td>\n",
       "      <td>[Travel behavior, e-Tourism, Information techn...</td>\n",
       "      <td>Travel information search, social media market...</td>\n",
       "      <td>N/A</td>\n",
       "      <td>[philxz@vt.edu]</td>\n",
       "      <td>[{'position': 'Department Head', 'department':...</td>\n",
       "      <td>[Emerging Scholar of Distinction award by the ...</td>\n",
       "      <td>Male</td>\n",
       "      <td>Academia</td>\n",
       "      <td>N/A</td>\n",
       "    </tr>\n",
       "    <tr>\n",
       "      <th>1</th>\n",
       "      <td>Sean R. Agnew</td>\n",
       "      <td>University of Virginia School of Engineering a...</td>\n",
       "      <td>Materials Science and Engineering</td>\n",
       "      <td>Metals analysis, including magnesium alloy for...</td>\n",
       "      <td>Surface and Interface Science and Engineering,...</td>\n",
       "      <td>sra4p@virginia.edu</td>\n",
       "      <td>William G. Reynolds Professor of Materials Sci...</td>\n",
       "      <td>N/A</td>\n",
       "      <td>Male</td>\n",
       "      <td>Academia</td>\n",
       "      <td>N/A</td>\n",
       "    </tr>\n",
       "  </tbody>\n",
       "</table>\n",
       "</div>"
      ],
      "text/plain": [
       "                 name                                        institution  \\\n",
       "0  Zheng (Phil) Xiang  Virginia Polytechnic Institute and State Unive...   \n",
       "1       Sean R. Agnew  University of Virginia School of Engineering a...   \n",
       "\n",
       "                                     research_fields  \\\n",
       "0  [Travel behavior, e-Tourism, Information techn...   \n",
       "1                  Materials Science and Engineering   \n",
       "\n",
       "                                      research_focus  \\\n",
       "0  Travel information search, social media market...   \n",
       "1  Metals analysis, including magnesium alloy for...   \n",
       "\n",
       "                                           expertise              emails  \\\n",
       "0                                                N/A     [philxz@vt.edu]   \n",
       "1  Surface and Interface Science and Engineering,...  sra4p@virginia.edu   \n",
       "\n",
       "                                        appointments  \\\n",
       "0  [{'position': 'Department Head', 'department':...   \n",
       "1  William G. Reynolds Professor of Materials Sci...   \n",
       "\n",
       "                                              awards gender    domain  \\\n",
       "0  [Emerging Scholar of Distinction award by the ...   Male  Academia   \n",
       "1                                                N/A   Male  Academia   \n",
       "\n",
       "  personal_website  \n",
       "0              N/A  \n",
       "1              N/A  "
      ]
     },
     "execution_count": 9,
     "metadata": {},
     "output_type": "execute_result"
    }
   ],
   "source": [
    "df = pd.DataFrame([results1, results2])\n",
    "df\n",
    "# df.to_csv('test.csv', index=False)\n"
   ]
  },
  {
   "cell_type": "code",
   "execution_count": 4,
   "metadata": {},
   "outputs": [
    {
     "name": "stdout",
     "output_type": "stream",
     "text": [
      "True 3 Instituion found | Researcher name found | University website verified\n",
      "True 3 Instituion found | Researcher name found | University website verified\n",
      "True 3 Instituion found | Researcher name found | University website verified\n"
     ]
    }
   ],
   "source": [
    "# Testing accuracy on web scrape data given to us on 3/13\n",
    "#alexellery = User(\"Alex Ellery\", \"Carleton College\")\n",
    "zheyuz = User(\"Zheyu Zhang\", \"Clemson University\")\n",
    "yurygogotsi = User(\"Yury Gogotsi\", \"Drexel University\")\n",
    "douglasb = User(\"Douglas A. Bristow\", \"Missouri University of Science and Technology\")\n",
    "\n",
    "#ws.initial_search(alexellery)\n",
    "ws.initial_search(zheyuz)\n",
    "ws.initial_search(yurygogotsi)\n",
    "ws.initial_search(douglasb)\n",
    "\n",
    "#w1 = ws.scrape_webpage(alexellery.initial_search_links[0], alexellery)\n",
    "w2 = ws.scrape_webpage(zheyuz.initial_search_links[0], zheyuz)\n",
    "w3 = ws.scrape_webpage(yurygogotsi.initial_search_links[0], yurygogotsi)\n",
    "w4 = ws.scrape_webpage(douglasb.initial_search_links[0], douglasb)\n"
   ]
  },
  {
   "cell_type": "code",
   "execution_count": 6,
   "metadata": {},
   "outputs": [
    {
     "data": {
      "text/plain": [
       "'{\\n    \"name\": \"Yury Gogotsi\",\\n    \"institution\": \"Drexel Engineering\",\\n    \"research fields\": \"Materials Science and Engineering, Nanomaterials\",\\n    \"research focus\": \"Synthesis and surface modification of inorganic nanomaterials, energy-related and other applications of materials\",\\n    \"expertise\": \"N/A\",\\n    \"emails\": \"gogotsi@drexel.edu\",\\n    \"appointments\": \"Distinguished University and Charles T. and Ruth M. Bach Professor, Director of A.J. Drexel Nanomaterials Institute\",\\n    \"awards\": [\\n        \"2021 MRS Medal, Materials Research Society\",\\n        \"2021 Materials Today Innovation Award, Elsevier\",\\n        \"2021 Horizon Prize, Royal Society of Chemistry (RSC)\",\\n        \"2021 Honorary Doctorate, Sumy State University, Ukraine\",\\n        \"2021 American Chemical Society (ACS) Award in the Chemistry of Materials\",\\n        \"2020 World Academy of Ceramics International Ceramics Prize\",\\n        \"'"
      ]
     },
     "execution_count": 6,
     "metadata": {},
     "output_type": "execute_result"
    }
   ],
   "source": [
    "GetDataFromGPT(w2)\n",
    "#GetDataFromGPT(w3)\n",
    "GetDataFromGPT(w4)"
   ]
  },
  {
   "cell_type": "code",
   "execution_count": 7,
   "metadata": {},
   "outputs": [],
   "source": [
    "# results1 = json.loads(GetDataFromGPT(w1))\n",
    "results2 = json.loads(GetDataFromGPT(w2))\n",
    "#results3 = json.loads(GetDataFromGPT(w3))\n",
    "results4 = json.loads(GetDataFromGPT(w4))"
   ]
  },
  {
   "cell_type": "code",
   "execution_count": 9,
   "metadata": {},
   "outputs": [
    {
     "data": {
      "text/html": [
       "<div>\n",
       "<style scoped>\n",
       "    .dataframe tbody tr th:only-of-type {\n",
       "        vertical-align: middle;\n",
       "    }\n",
       "\n",
       "    .dataframe tbody tr th {\n",
       "        vertical-align: top;\n",
       "    }\n",
       "\n",
       "    .dataframe thead th {\n",
       "        text-align: right;\n",
       "    }\n",
       "</style>\n",
       "<table border=\"1\" class=\"dataframe\">\n",
       "  <thead>\n",
       "    <tr style=\"text-align: right;\">\n",
       "      <th></th>\n",
       "      <th>name</th>\n",
       "      <th>institution</th>\n",
       "      <th>research fields</th>\n",
       "      <th>research focus</th>\n",
       "      <th>expertise</th>\n",
       "      <th>emails</th>\n",
       "      <th>appointments</th>\n",
       "      <th>awards</th>\n",
       "      <th>gender</th>\n",
       "      <th>domain</th>\n",
       "      <th>personal website</th>\n",
       "      <th>research_fields</th>\n",
       "      <th>research_focus</th>\n",
       "      <th>personal_website</th>\n",
       "    </tr>\n",
       "  </thead>\n",
       "  <tbody>\n",
       "    <tr>\n",
       "      <th>0</th>\n",
       "      <td>Zheyu Zhang</td>\n",
       "      <td>Clemson University, South Carolina</td>\n",
       "      <td>Electrical and Computer Engineering</td>\n",
       "      <td>Power Electronics for electric propulsion, ele...</td>\n",
       "      <td>Wide band-gap based power electronics, modular...</td>\n",
       "      <td>zheyuz@clemson.edu</td>\n",
       "      <td>Warren H. Owen - Duke Energy Assistant Profess...</td>\n",
       "      <td>Two prize paper awards from the IEEE Industry ...</td>\n",
       "      <td>Unknown</td>\n",
       "      <td>Academia</td>\n",
       "      <td>N/A</td>\n",
       "      <td>NaN</td>\n",
       "      <td>NaN</td>\n",
       "      <td>NaN</td>\n",
       "    </tr>\n",
       "    <tr>\n",
       "      <th>1</th>\n",
       "      <td>Douglas Bristow</td>\n",
       "      <td>Missouri S&amp;T</td>\n",
       "      <td>NaN</td>\n",
       "      <td>NaN</td>\n",
       "      <td>N/A</td>\n",
       "      <td>dbristow@mst.edu</td>\n",
       "      <td>[{'position': 'Associate Professor of Mechanic...</td>\n",
       "      <td>[{'award': 'Teachers Ranked as Excellent by St...</td>\n",
       "      <td>male</td>\n",
       "      <td>Academia</td>\n",
       "      <td>NaN</td>\n",
       "      <td>Mechanical and Aerospace Engineering</td>\n",
       "      <td>Dynamic modeling and control of micro- and nan...</td>\n",
       "      <td>N/A</td>\n",
       "    </tr>\n",
       "  </tbody>\n",
       "</table>\n",
       "</div>"
      ],
      "text/plain": [
       "              name                         institution  \\\n",
       "0      Zheyu Zhang  Clemson University, South Carolina   \n",
       "1  Douglas Bristow                        Missouri S&T   \n",
       "\n",
       "                       research fields  \\\n",
       "0  Electrical and Computer Engineering   \n",
       "1                                  NaN   \n",
       "\n",
       "                                      research focus  \\\n",
       "0  Power Electronics for electric propulsion, ele...   \n",
       "1                                                NaN   \n",
       "\n",
       "                                           expertise              emails  \\\n",
       "0  Wide band-gap based power electronics, modular...  zheyuz@clemson.edu   \n",
       "1                                                N/A    dbristow@mst.edu   \n",
       "\n",
       "                                        appointments  \\\n",
       "0  Warren H. Owen - Duke Energy Assistant Profess...   \n",
       "1  [{'position': 'Associate Professor of Mechanic...   \n",
       "\n",
       "                                              awards   gender    domain  \\\n",
       "0  Two prize paper awards from the IEEE Industry ...  Unknown  Academia   \n",
       "1  [{'award': 'Teachers Ranked as Excellent by St...     male  Academia   \n",
       "\n",
       "  personal website                       research_fields  \\\n",
       "0              N/A                                   NaN   \n",
       "1              NaN  Mechanical and Aerospace Engineering   \n",
       "\n",
       "                                      research_focus personal_website  \n",
       "0                                                NaN              NaN  \n",
       "1  Dynamic modeling and control of micro- and nan...              N/A  "
      ]
     },
     "execution_count": 9,
     "metadata": {},
     "output_type": "execute_result"
    }
   ],
   "source": [
    "df = pd.DataFrame([results2, results4])\n",
    "df"
   ]
  },
  {
   "cell_type": "code",
   "execution_count": null,
   "metadata": {},
   "outputs": [],
   "source": []
  }
 ],
 "metadata": {
  "kernelspec": {
   "display_name": "env",
   "language": "python",
   "name": "python3"
  },
  "language_info": {
   "codemirror_mode": {
    "name": "ipython",
    "version": 3
   },
   "file_extension": ".py",
   "mimetype": "text/x-python",
   "name": "python",
   "nbconvert_exporter": "python",
   "pygments_lexer": "ipython3",
   "version": "3.9.13"
  },
  "orig_nbformat": 4
 },
 "nbformat": 4,
 "nbformat_minor": 2
}
