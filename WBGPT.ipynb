{
 "cells": [
  {
   "cell_type": "code",
   "execution_count": 1,
   "metadata": {},
   "outputs": [],
   "source": [
    "import openai, json, os, json, pandas as pd\n",
    "from WebScraping import WebScraping\n",
    "from User import User\n",
    "from pprint import pprint\n",
    "from dotenv import load_dotenv\n",
    "\n",
    "def connectOpenAI():\n",
    "    load_dotenv()\n",
    "    openai.api_key = os.getenv(\"API_KEY\")\n",
    "connectOpenAI()"
   ]
  },
  {
   "cell_type": "code",
   "execution_count": 2,
   "metadata": {},
   "outputs": [],
   "source": [
    "def GetDataFromGPT(page):\n",
    "    connectOpenAI()\n",
    "    response = openai.ChatCompletion.create(\n",
    "        model=\"gpt-3.5-turbo\",\n",
    "        messages=[{\"role\": \"system\", \"content\": os.getenv(\"prompt\")},\n",
    "                {\"role\": \"user\", \"content\": page}],\n",
    "        temperature=0\n",
    "    )\n",
    "    data = response.choices[0].message.content\n",
    "    return data\n",
    "\n"
   ]
  },
  {
   "cell_type": "code",
   "execution_count": 3,
   "metadata": {},
   "outputs": [
    {
     "ename": "AttributeError",
     "evalue": "'User' object has no attribute 'institution'",
     "output_type": "error",
     "traceback": [
      "\u001b[0;31m---------------------------------------------------------------------------\u001b[0m",
      "\u001b[0;31mAttributeError\u001b[0m                            Traceback (most recent call last)",
      "Cell \u001b[0;32mIn[3], line 12\u001b[0m\n\u001b[1;32m      9\u001b[0m ws\u001b[39m.\u001b[39minitial_search(sean)\n\u001b[1;32m     11\u001b[0m \u001b[39m#Scrape links\u001b[39;00m\n\u001b[0;32m---> 12\u001b[0m w1 \u001b[39m=\u001b[39m ws\u001b[39m.\u001b[39;49mscrape_webpage(zheng\u001b[39m.\u001b[39;49minitial_search_links[\u001b[39m0\u001b[39;49m], zheng)\n\u001b[1;32m     13\u001b[0m w2 \u001b[39m=\u001b[39m ws\u001b[39m.\u001b[39mscrape_webpage(sean\u001b[39m.\u001b[39minitial_search_links[\u001b[39m0\u001b[39m], sean)\n",
      "File \u001b[0;32m~/Documents/Capstone/WebScrape/ARCScraping/WebScraping.py:90\u001b[0m, in \u001b[0;36mWebScraping.scrape_webpage\u001b[0;34m(self, link, user)\u001b[0m\n\u001b[1;32m     87\u001b[0m domain \u001b[39m=\u001b[39m \u001b[39m'\u001b[39m\u001b[39m.\u001b[39m\u001b[39m'\u001b[39m\u001b[39m.\u001b[39mjoin(domain_parts[\u001b[39m-\u001b[39m\u001b[39m2\u001b[39m:])\n\u001b[1;32m     89\u001b[0m \u001b[39m# Do a 3 part check on the domain, webtext, and the user to verify it pertains to the user\u001b[39;00m\n\u001b[0;32m---> 90\u001b[0m verified, check, reason \u001b[39m=\u001b[39m \u001b[39mself\u001b[39;49m\u001b[39m.\u001b[39;49mverify_link_relevancy(domain, webtext, user)\n\u001b[1;32m     92\u001b[0m \u001b[39m# <TODO>\u001b[39;00m\n\u001b[1;32m     93\u001b[0m \u001b[39m#NOT DONE\u001b[39;00m\n\u001b[1;32m     94\u001b[0m \u001b[39mprint\u001b[39m(verified, check, reason)\n",
      "File \u001b[0;32m~/Documents/Capstone/WebScrape/ARCScraping/WebScraping.py:57\u001b[0m, in \u001b[0;36mWebScraping.verify_link_relevancy\u001b[0;34m(self, link, page_data, user)\u001b[0m\n\u001b[1;32m     54\u001b[0m reason \u001b[39m=\u001b[39m \u001b[39m\"\u001b[39m\u001b[39m\"\u001b[39m\n\u001b[1;32m     56\u001b[0m \u001b[39m# Check 1\u001b[39;00m\n\u001b[0;32m---> 57\u001b[0m \u001b[39mif\u001b[39;00m page_data\u001b[39m.\u001b[39mfind(user\u001b[39m.\u001b[39;49minstitution\u001b[39m.\u001b[39mlower()):\n\u001b[1;32m     58\u001b[0m     checks \u001b[39m+\u001b[39m\u001b[39m=\u001b[39m \u001b[39m1\u001b[39m\n\u001b[1;32m     59\u001b[0m     reason \u001b[39m+\u001b[39m\u001b[39m=\u001b[39m \u001b[39m\"\u001b[39m\u001b[39mInstituion found | \u001b[39m\u001b[39m\"\u001b[39m\n",
      "\u001b[0;31mAttributeError\u001b[0m: 'User' object has no attribute 'institution'"
     ]
    }
   ],
   "source": [
    "#Create the WebScraping class\n",
    "ws = WebScraping()\n",
    "\n",
    "#Create the Test Researchers\n",
    "zheng = User(\"Zheng Xiang\", \"Virginia Tech\")\n",
    "sean = User(\"Sean Agnew\", \"University of Virginia\")\n",
    "\n",
    "ws.initial_search(zheng)\n",
    "ws.initial_search(sean)\n",
    "\n",
    "#Scrape links\n",
    "w1 = ws.scrape_webpage(zheng.initial_search_links[0], zheng)\n",
    "w2 = ws.scrape_webpage(sean.initial_search_links[0], sean)\n"
   ]
  },
  {
   "cell_type": "code",
   "execution_count": 28,
   "metadata": {},
   "outputs": [
    {
     "data": {
      "text/plain": [
       "['https://htm.pamplin.vt.edu/directory/xiang.html',\n",
       " 'https://www.researchgate.net/profile/Zheng-Xiang-6',\n",
       " 'https://www.researchgate.net/scientific-contributions/Zheng-Xiang-2164885495',\n",
       " 'https://www.journals.elsevier.com/tourism-management/editorial-board/zheng-xiang',\n",
       " 'https://www.youtube.com/watch%3Fv%3DFtoSQPBzjao',\n",
       " 'https://www.youtube.com/watch%3Fv%3DFtoSQPBzjao',\n",
       " 'https://styluspub.presswarehouse.com/browse/author/d9675507-60f1-41c5-9e09-4d03f3fbee04/Zheng-Xiang']"
      ]
     },
     "execution_count": 28,
     "metadata": {},
     "output_type": "execute_result"
    }
   ],
   "source": [
    "zheng.initial_search_links"
   ]
  },
  {
   "cell_type": "code",
   "execution_count": 3,
   "metadata": {},
   "outputs": [
    {
     "ename": "NameError",
     "evalue": "name 'w1' is not defined",
     "output_type": "error",
     "traceback": [
      "\u001b[0;31m---------------------------------------------------------------------------\u001b[0m",
      "\u001b[0;31mNameError\u001b[0m                                 Traceback (most recent call last)",
      "Cell \u001b[0;32mIn[3], line 1\u001b[0m\n\u001b[0;32m----> 1\u001b[0m results1 \u001b[39m=\u001b[39m json\u001b[39m.\u001b[39mloads(GetDataFromGPT(w1))\n\u001b[1;32m      2\u001b[0m results2 \u001b[39m=\u001b[39m json\u001b[39m.\u001b[39mloads(GetDataFromGPT(w2))\n",
      "\u001b[0;31mNameError\u001b[0m: name 'w1' is not defined"
     ]
    }
   ],
   "source": [
    "results1 = json.loads(GetDataFromGPT(w1))\n",
    "results2 = json.loads(GetDataFromGPT(w2))"
   ]
  },
  {
   "cell_type": "code",
   "execution_count": 24,
   "metadata": {},
   "outputs": [
    {
     "data": {
      "text/plain": [
       "{'name': 'Zheng (Phil) Xiang',\n",
       " 'department': 'Howard Feiertag Department of Hospitality & Tourism Management',\n",
       " 'university': 'Virginia Tech',\n",
       " 'email': 'philxz@vt.edu',\n",
       " 'appointments': [{'title': 'Department Head'},\n",
       "  {'title': 'Associate Professor'}],\n",
       " 'awards': [{'name': 'Emerging Scholar of Distinction',\n",
       "   'organization': 'International Academy for the Study of Tourism'},\n",
       "  {'name': 'Best Research Paper of the Year Award',\n",
       "   'organization': 'ICHRIE Conference'},\n",
       "  {'name': 'Certificate of Teaching Award',\n",
       "   'organization': 'Pamplin College of Business'},\n",
       "  {'name': 'Best Paper Award',\n",
       "   'organization': 'ENTER 2017 eTourism Conference'},\n",
       "  {'name': 'Best Paper of the Year Award',\n",
       "   'organization': 'Electronic Markets'},\n",
       "  {'name': 'Junior Faculty Research Excellence Award',\n",
       "   'organization': 'Pamplin College of Business'},\n",
       "  {'name': 'W. Bradford Wiley Memorial Best Research Paper of the Year Award',\n",
       "   'organization': 'ICHRIE Conference'},\n",
       "  {'name': 'Best Paper Award', 'organization': 'IFITT ENTER 2012 Conference'},\n",
       "  {'name': 'Charles R. Goeldner Article of Excellence Award',\n",
       "   'organization': 'Journal of Travel Research'}],\n",
       " 'gender': 'male',\n",
       " 'domain': 'Academia',\n",
       " 'personal_website': 'N/A',\n",
       " 'research_fields': ['Travel behavior',\n",
       "  'e-Tourism',\n",
       "  'Information technology',\n",
       "  'Tourism analytics'],\n",
       " 'research_focus': ['Travel information search',\n",
       "  'Social media marketing',\n",
       "  'Business analytics for the tourism and hospitality industries'],\n",
       " 'expertise': ['Text analytics', 'Machine learning']}"
      ]
     },
     "execution_count": 24,
     "metadata": {},
     "output_type": "execute_result"
    }
   ],
   "source": [
    "results1"
   ]
  },
  {
   "cell_type": "code",
   "execution_count": 23,
   "metadata": {},
   "outputs": [
    {
     "ename": "TypeError",
     "evalue": "list.append() argument after ** must be a mapping, not list",
     "output_type": "error",
     "traceback": [
      "\u001b[0;31m---------------------------------------------------------------------------\u001b[0m",
      "\u001b[0;31mTypeError\u001b[0m                                 Traceback (most recent call last)",
      "Cell \u001b[0;32mIn[23], line 2\u001b[0m\n\u001b[1;32m      1\u001b[0m x \u001b[39m=\u001b[39m []\n\u001b[0;32m----> 2\u001b[0m x\u001b[39m.\u001b[39mappend(\u001b[39m*\u001b[39m\u001b[39m*\u001b[39mresults1[\u001b[39m'\u001b[39m\u001b[39mawards\u001b[39m\u001b[39m'\u001b[39m])\n\u001b[1;32m      3\u001b[0m x\n",
      "\u001b[0;31mTypeError\u001b[0m: list.append() argument after ** must be a mapping, not list"
     ]
    }
   ],
   "source": [
    "x = []\n",
    "x.append(**results1['awards'])\n",
    "x"
   ]
  },
  {
   "cell_type": "code",
   "execution_count": 15,
   "metadata": {},
   "outputs": [
    {
     "data": {
      "text/html": [
       "<div>\n",
       "<style scoped>\n",
       "    .dataframe tbody tr th:only-of-type {\n",
       "        vertical-align: middle;\n",
       "    }\n",
       "\n",
       "    .dataframe tbody tr th {\n",
       "        vertical-align: top;\n",
       "    }\n",
       "\n",
       "    .dataframe thead th {\n",
       "        text-align: right;\n",
       "    }\n",
       "</style>\n",
       "<table border=\"1\" class=\"dataframe\">\n",
       "  <thead>\n",
       "    <tr style=\"text-align: right;\">\n",
       "      <th></th>\n",
       "      <th>name</th>\n",
       "      <th>organization</th>\n",
       "    </tr>\n",
       "  </thead>\n",
       "  <tbody>\n",
       "    <tr>\n",
       "      <th>0</th>\n",
       "      <td>Emerging Scholar of Distinction</td>\n",
       "      <td>International Academy for the Study of Tourism</td>\n",
       "    </tr>\n",
       "    <tr>\n",
       "      <th>1</th>\n",
       "      <td>Best Research Paper of the Year Award</td>\n",
       "      <td>ICHRIE Conference</td>\n",
       "    </tr>\n",
       "    <tr>\n",
       "      <th>2</th>\n",
       "      <td>Certificate of Teaching Award</td>\n",
       "      <td>Pamplin College of Business</td>\n",
       "    </tr>\n",
       "    <tr>\n",
       "      <th>3</th>\n",
       "      <td>Best Paper Award</td>\n",
       "      <td>ENTER 2017 eTourism Conference</td>\n",
       "    </tr>\n",
       "    <tr>\n",
       "      <th>4</th>\n",
       "      <td>Best Paper of the Year Award</td>\n",
       "      <td>Electronic Markets</td>\n",
       "    </tr>\n",
       "    <tr>\n",
       "      <th>5</th>\n",
       "      <td>Junior Faculty Research Excellence Award</td>\n",
       "      <td>Pamplin College of Business</td>\n",
       "    </tr>\n",
       "    <tr>\n",
       "      <th>6</th>\n",
       "      <td>W. Bradford Wiley Memorial Best Research Paper...</td>\n",
       "      <td>ICHRIE Conference</td>\n",
       "    </tr>\n",
       "    <tr>\n",
       "      <th>7</th>\n",
       "      <td>Best Paper Award</td>\n",
       "      <td>IFITT ENTER 2012 Conference</td>\n",
       "    </tr>\n",
       "    <tr>\n",
       "      <th>8</th>\n",
       "      <td>Charles R. Goeldner Article of Excellence Award</td>\n",
       "      <td>Journal of Travel Research</td>\n",
       "    </tr>\n",
       "  </tbody>\n",
       "</table>\n",
       "</div>"
      ],
      "text/plain": [
       "                                                name  \\\n",
       "0                    Emerging Scholar of Distinction   \n",
       "1              Best Research Paper of the Year Award   \n",
       "2                      Certificate of Teaching Award   \n",
       "3                                   Best Paper Award   \n",
       "4                       Best Paper of the Year Award   \n",
       "5           Junior Faculty Research Excellence Award   \n",
       "6  W. Bradford Wiley Memorial Best Research Paper...   \n",
       "7                                   Best Paper Award   \n",
       "8    Charles R. Goeldner Article of Excellence Award   \n",
       "\n",
       "                                     organization  \n",
       "0  International Academy for the Study of Tourism  \n",
       "1                               ICHRIE Conference  \n",
       "2                     Pamplin College of Business  \n",
       "3                  ENTER 2017 eTourism Conference  \n",
       "4                              Electronic Markets  \n",
       "5                     Pamplin College of Business  \n",
       "6                               ICHRIE Conference  \n",
       "7                     IFITT ENTER 2012 Conference  \n",
       "8                      Journal of Travel Research  "
      ]
     },
     "execution_count": 15,
     "metadata": {},
     "output_type": "execute_result"
    }
   ],
   "source": [
    "pd.DataFrame(results1['awards'])"
   ]
  },
  {
   "cell_type": "code",
   "execution_count": null,
   "metadata": {},
   "outputs": [],
   "source": []
  }
 ],
 "metadata": {
  "kernelspec": {
   "display_name": "env",
   "language": "python",
   "name": "python3"
  },
  "language_info": {
   "codemirror_mode": {
    "name": "ipython",
    "version": 3
   },
   "file_extension": ".py",
   "mimetype": "text/x-python",
   "name": "python",
   "nbconvert_exporter": "python",
   "pygments_lexer": "ipython3",
   "version": "3.9.12"
  },
  "orig_nbformat": 4
 },
 "nbformat": 4,
 "nbformat_minor": 2
}
