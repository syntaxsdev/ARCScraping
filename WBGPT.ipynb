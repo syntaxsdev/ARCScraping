{
 "cells": [
  {
   "cell_type": "code",
   "execution_count": 1,
   "metadata": {},
   "outputs": [
    {
     "ename": "ModuleNotFoundError",
     "evalue": "No module named 'tiktoken'",
     "output_type": "error",
     "traceback": [
      "\u001b[0;31m---------------------------------------------------------------------------\u001b[0m",
      "\u001b[0;31mModuleNotFoundError\u001b[0m                       Traceback (most recent call last)",
      "Cell \u001b[0;32mIn[1], line 1\u001b[0m\n\u001b[0;32m----> 1\u001b[0m \u001b[39mimport\u001b[39;00m \u001b[39mopenai\u001b[39;00m\u001b[39m,\u001b[39m \u001b[39mjson\u001b[39;00m\u001b[39m,\u001b[39m \u001b[39mos\u001b[39;00m\u001b[39m,\u001b[39m \u001b[39mpandas\u001b[39;00m \u001b[39mas\u001b[39;00m \u001b[39mpd\u001b[39;00m\u001b[39m,\u001b[39m \u001b[39mtiktoken\u001b[39;00m\n\u001b[1;32m      2\u001b[0m \u001b[39mfrom\u001b[39;00m \u001b[39mWebScraping\u001b[39;00m \u001b[39mimport\u001b[39;00m WebScraping\n\u001b[1;32m      3\u001b[0m \u001b[39mfrom\u001b[39;00m \u001b[39mUser\u001b[39;00m \u001b[39mimport\u001b[39;00m User\n",
      "\u001b[0;31mModuleNotFoundError\u001b[0m: No module named 'tiktoken'"
     ]
    }
   ],
   "source": [
    "import openai, json, os, pandas as pd, tiktoken\n",
    "from WebScraping import WebScraping\n",
    "from User import User\n",
    "from pprint import pprint\n",
    "from dotenv import load_dotenv\n",
    "import Universities\n",
    "\n",
    "def connectOpenAI():\n",
    "    load_dotenv()\n",
    "    openai.api_key = os.getenv(\"API_KEY\")\n",
    "connectOpenAI()\n"
   ]
  },
  {
   "cell_type": "code",
   "execution_count": 38,
   "metadata": {},
   "outputs": [],
   "source": [
    "def GetDataFromGPT(page):\n",
    "    connectOpenAI()\n",
    "    response = openai.ChatCompletion.create(\n",
    "        model=\"gpt-3.5-turbo\",\n",
    "        messages=[{\"role\": \"system\", \"content\": os.getenv(\"prompt2\")},\n",
    "                  {\"role\": \"user\", \"content\": page}],\n",
    "        temperature=0\n",
    "    )\n",
    "\n",
    "    data = response.choices[0].message.content\n",
    "    return data\n",
    "\n"
   ]
  },
  {
   "cell_type": "code",
   "execution_count": 3,
   "metadata": {},
   "outputs": [],
   "source": [
    "#Create the WebScraping class\n",
    "ws = WebScraping()"
   ]
  },
  {
   "cell_type": "code",
   "execution_count": 4,
   "metadata": {},
   "outputs": [
    {
     "name": "stdout",
     "output_type": "stream",
     "text": [
      "True 3 Instituion found | Researcher name found | University website verified\n",
      "True 3 Instituion found | Researcher name found | University website verified\n"
     ]
    }
   ],
   "source": [
    "#Create the Test Researchers\n",
    "zheng = User(\"Zheng Xiang\", \"Virginia Tech\")\n",
    "sean = User(\"Sean Agnew\", \"University of Virginia\")\n",
    "\n",
    "ws.initial_search(zheng)\n",
    "ws.initial_search(sean)\n",
    "\n",
    "#Scrape links\n",
    "w1 = ws.scrape_webpage(zheng.initial_search_links[0], zheng)\n",
    "w2 = ws.scrape_webpage(sean.initial_search_links[0], sean)\n"
   ]
  },
  {
   "cell_type": "code",
   "execution_count": 5,
   "metadata": {},
   "outputs": [
    {
     "data": {
      "text/plain": [
       "'{\\n    \"research_fields\": [\"Travel behavior\", \"e-Tourism\", \"Information technology\", \"Tourism analytics\"],\\n    \"research_focus\": [\"Travel information search\", \"Social media marketing\", \"Business analytics\"],\\n    \"expertise\": \"Hospitality and Tourism Management\",\\n    \"emails\": [\"philxz@vt.edu\"],\\n    \"appointments\": [\\n        {\\n            \"department\": \"Howard Feiertag Department of Hospitality and Tourism Management\",\\n            \"institution\": \"Virginia Polytechnic Institute and State University\"\\n        }\\n    ],\\n    \"awards\": [\\n        \"Emerging Scholar of Distinction award by the International Academy for the Study of Tourism\",\\n        \"Best Research Paper of the Year Award at the ICHRIE Conference in New Orleans, LA in July 2019\",\\n        \"Certificate of Teaching Award for the department by Pamplin College of Business, 2017-2018\",\\n        \"Best Paper Award (1st Place) at ENTER 2017 eTourism Conference in Rome, Italy\",\\n        \"Best Paper of the Year Award (2016) in Electronic Markets\",\\n        \"Pamplin College of Business’ Junior Faculty Research Excellence Award of 2015\",\\n        \"W. Bradford Wiley Memorial Best Research Paper of the Year Award at the ICHRIE Conference in Orlando, FL in July 2015\",\\n        \"Best Paper Award (2nd Place) at the IFITT ENTER 2012 Conference in Helsingborg, Sweden\",\\n        \"Charles R. Goeldner Article of Excellence Award in Journal of Travel Research in 2008\"\\n    ],\\n    \"gender\": \"Male\",\\n    \"domain\": \"Academia\",\\n    \"additional_websites\": [\\n        \"https://scholar.google.com/citations?user=JZJjJLwAAAAJ&hl=en\",\\n        \"https://www.linkedin.com/in/zheng-phil-xiang-7a5a5a5/\",\\n        \"https://twitter.com/philxiang\"\\n    ]\\n}'"
      ]
     },
     "execution_count": 5,
     "metadata": {},
     "output_type": "execute_result"
    }
   ],
   "source": [
    "GetDataFromGPT(w1)"
   ]
  },
  {
   "cell_type": "code",
   "execution_count": 6,
   "metadata": {},
   "outputs": [],
   "source": [
    "results1 = json.loads(GetDataFromGPT(w1))\n",
    "results2 = json.loads(GetDataFromGPT(w2))"
   ]
  },
  {
   "cell_type": "code",
   "execution_count": 7,
   "metadata": {},
   "outputs": [
    {
     "data": {
      "text/plain": [
       "{'research_fields': ['Travel behavior',\n",
       "  'e-Tourism',\n",
       "  'Information technology',\n",
       "  'Tourism analytics'],\n",
       " 'research_focus': ['Travel information search',\n",
       "  'Social media marketing',\n",
       "  'Business analytics'],\n",
       " 'expertise': 'Hospitality and Tourism Management',\n",
       " 'emails': ['philxz@vt.edu'],\n",
       " 'appointments': [{'department': 'Howard Feiertag Department of Hospitality and Tourism Management',\n",
       "   'institution': 'Virginia Polytechnic Institute and State University'}],\n",
       " 'awards': ['Emerging Scholar of Distinction award by the International Academy for the Study of Tourism',\n",
       "  'Best Research Paper of the Year Award at the ICHRIE Conference in New Orleans, LA in July 2019',\n",
       "  'Certificate of Teaching Award for the department by Pamplin College of Business, 2017-2018',\n",
       "  'Best Paper Award (1st Place) at ENTER 2017 eTourism Conference in Rome, Italy',\n",
       "  'Best Paper of the Year Award (2016) in Electronic Markets',\n",
       "  'Pamplin College of Business’ Junior Faculty Research Excellence Award of 2015',\n",
       "  'W. Bradford Wiley Memorial Best Research Paper of the Year Award at the ICHRIE Conference in Orlando, FL in July 2015',\n",
       "  'Best Paper Award (2nd Place) at the IFITT ENTER 2012 Conference in Helsingborg, Sweden',\n",
       "  'Charles R. Goeldner Article of Excellence Award in Journal of Travel Research in 2008'],\n",
       " 'gender': 'Male',\n",
       " 'domain': 'Academia',\n",
       " 'additional_websites': ['https://scholar.google.com/citations?user=JZJjJLwAAAAJ&hl=en',\n",
       "  'https://www.linkedin.com/in/zheng-phil-xiang-7a1a5a7/',\n",
       "  'https://twitter.com/philxiang']}"
      ]
     },
     "execution_count": 7,
     "metadata": {},
     "output_type": "execute_result"
    }
   ],
   "source": [
    "results1"
   ]
  },
  {
   "cell_type": "code",
   "execution_count": 8,
   "metadata": {},
   "outputs": [
    {
     "data": {
      "text/plain": [
       "{'research_fields': ['Surface and Interface Science and Engineering',\n",
       "  'Metallurgy',\n",
       "  'Materials Characterization',\n",
       "  'Nanomaterials and nanomanufacturing',\n",
       "  'Advanced materials for transportation applications'],\n",
       " 'research_focus': 'Metals analysis, including magnesium alloy formability, intermetallic behaviors, and aluminum alloy fatigue',\n",
       " 'expertise': 'Materials Science and Engineering',\n",
       " 'emails': ['sra4p@virginia.edu'],\n",
       " 'appointments': ['William G. Reynolds Professor of Materials Science',\n",
       "  'Professor of Materials Science and Engineering'],\n",
       " 'awards': ['N/A'],\n",
       " 'gender': 'Male',\n",
       " 'domain': 'Academia',\n",
       " 'additional_websites': ['https://scholar.google.com/citations?user=JZJZJLsAAAAJ&hl=en']}"
      ]
     },
     "execution_count": 8,
     "metadata": {},
     "output_type": "execute_result"
    }
   ],
   "source": [
    "results2"
   ]
  },
  {
   "cell_type": "code",
   "execution_count": 9,
   "metadata": {},
   "outputs": [
    {
     "data": {
      "text/html": [
       "<div>\n",
       "<style scoped>\n",
       "    .dataframe tbody tr th:only-of-type {\n",
       "        vertical-align: middle;\n",
       "    }\n",
       "\n",
       "    .dataframe tbody tr th {\n",
       "        vertical-align: top;\n",
       "    }\n",
       "\n",
       "    .dataframe thead th {\n",
       "        text-align: right;\n",
       "    }\n",
       "</style>\n",
       "<table border=\"1\" class=\"dataframe\">\n",
       "  <thead>\n",
       "    <tr style=\"text-align: right;\">\n",
       "      <th></th>\n",
       "      <th>research_fields</th>\n",
       "      <th>research_focus</th>\n",
       "      <th>expertise</th>\n",
       "      <th>emails</th>\n",
       "      <th>appointments</th>\n",
       "      <th>awards</th>\n",
       "      <th>gender</th>\n",
       "      <th>domain</th>\n",
       "      <th>additional_websites</th>\n",
       "    </tr>\n",
       "  </thead>\n",
       "  <tbody>\n",
       "    <tr>\n",
       "      <th>0</th>\n",
       "      <td>[Travel behavior, e-Tourism, Information techn...</td>\n",
       "      <td>[Travel information search, Social media marke...</td>\n",
       "      <td>Hospitality and Tourism Management</td>\n",
       "      <td>[philxz@vt.edu]</td>\n",
       "      <td>[{'department': 'Howard Feiertag Department of...</td>\n",
       "      <td>[Emerging Scholar of Distinction award by the ...</td>\n",
       "      <td>Male</td>\n",
       "      <td>Academia</td>\n",
       "      <td>[https://scholar.google.com/citations?user=JZJ...</td>\n",
       "    </tr>\n",
       "    <tr>\n",
       "      <th>1</th>\n",
       "      <td>[Surface and Interface Science and Engineering...</td>\n",
       "      <td>Metals analysis, including magnesium alloy for...</td>\n",
       "      <td>Materials Science and Engineering</td>\n",
       "      <td>[sra4p@virginia.edu]</td>\n",
       "      <td>[William G. Reynolds Professor of Materials Sc...</td>\n",
       "      <td>[N/A]</td>\n",
       "      <td>Male</td>\n",
       "      <td>Academia</td>\n",
       "      <td>[https://scholar.google.com/citations?user=JZJ...</td>\n",
       "    </tr>\n",
       "  </tbody>\n",
       "</table>\n",
       "</div>"
      ],
      "text/plain": [
       "                                     research_fields  \\\n",
       "0  [Travel behavior, e-Tourism, Information techn...   \n",
       "1  [Surface and Interface Science and Engineering...   \n",
       "\n",
       "                                      research_focus  \\\n",
       "0  [Travel information search, Social media marke...   \n",
       "1  Metals analysis, including magnesium alloy for...   \n",
       "\n",
       "                            expertise                emails  \\\n",
       "0  Hospitality and Tourism Management       [philxz@vt.edu]   \n",
       "1   Materials Science and Engineering  [sra4p@virginia.edu]   \n",
       "\n",
       "                                        appointments  \\\n",
       "0  [{'department': 'Howard Feiertag Department of...   \n",
       "1  [William G. Reynolds Professor of Materials Sc...   \n",
       "\n",
       "                                              awards gender    domain  \\\n",
       "0  [Emerging Scholar of Distinction award by the ...   Male  Academia   \n",
       "1                                              [N/A]   Male  Academia   \n",
       "\n",
       "                                 additional_websites  \n",
       "0  [https://scholar.google.com/citations?user=JZJ...  \n",
       "1  [https://scholar.google.com/citations?user=JZJ...  "
      ]
     },
     "execution_count": 9,
     "metadata": {},
     "output_type": "execute_result"
    }
   ],
   "source": [
    "df = pd.DataFrame([results1, results2])\n",
    "df\n",
    "# df.to_csv('test.csv', index=False)\n"
   ]
  },
  {
   "cell_type": "code",
   "execution_count": 10,
   "metadata": {},
   "outputs": [
    {
     "name": "stdout",
     "output_type": "stream",
     "text": [
      "True 3 Instituion found | Researcher name found | University website verified\n",
      "True 3 Instituion found | Researcher name found | University website verified\n",
      "True 3 Instituion found | Researcher name found | University website verified\n"
     ]
    }
   ],
   "source": [
    "# Testing accuracy on web scrape data given to us on 3/13\n",
    "#alexellery = User(\"Alex Ellery\", \"Carleton College\")\n",
    "zheyuz = User(\"Zheyu Zhang\", \"Clemson University\")\n",
    "yurygogotsi = User(\"Yury Gogotsi\", \"Drexel University\")\n",
    "douglasb = User(\"Douglas A. Bristow\", \"Missouri University of Science and Technology\")\n",
    "\n",
    "#ws.initial_search(alexellery)\n",
    "ws.initial_search(zheyuz)\n",
    "ws.initial_search(yurygogotsi)\n",
    "ws.initial_search(douglasb)\n",
    "\n",
    "#w1 = ws.scrape_webpage(alexellery.initial_search_links[0], alexellery)\n",
    "w2 = ws.scrape_webpage(zheyuz.initial_search_links[0], zheyuz)\n",
    "w3 = ws.scrape_webpage(yurygogotsi.initial_search_links[0], yurygogotsi)\n",
    "w4 = ws.scrape_webpage(douglasb.initial_search_links[0], douglasb)\n"
   ]
  },
  {
   "cell_type": "code",
   "execution_count": 12,
   "metadata": {},
   "outputs": [],
   "source": [
    "results2 = json.loads(GetDataFromGPT(w2))\n",
    "#results3 = json.loads(GetDataFromGPT(w3))\n",
    "results4 = json.loads(GetDataFromGPT(w4))"
   ]
  },
  {
   "cell_type": "code",
   "execution_count": 15,
   "metadata": {},
   "outputs": [
    {
     "data": {
      "text/plain": [
       "{'research_fields': 'Dynamic modeling and control of micro- and nano-positioning systems, atomic force microscopes and additive manufacturing systems, volumetric error compensation, iterative learning control, multi-dimensional control, and signal processing.',\n",
       " 'research_focus': 'Improving measurement sensitivity in Atomic Force Microscopy, High bandwidth control of precision motion instrumentation, Optimizing learning convergence speed and converged error for precision motion control, Monotonic convergence of iterative learning control for uncertain systems using a time-varying filter, A high precision motion control system with application to microscale robotic deposition',\n",
       " 'expertise': 'Mechanical Engineering, Aerospace Manufacturing Technologies, Intelligent Systems',\n",
       " 'emails': 'dbristow@mst.edu',\n",
       " 'appointments': [{'position': 'Associate Professor of Mechanical Engineering',\n",
       "   'affiliation': 'Missouri S&T',\n",
       "   'start_year': 2014,\n",
       "   'end_year': 'present'},\n",
       "  {'position': 'Assistant Professor of Mechanical Engineering',\n",
       "   'affiliation': 'Missouri S&T',\n",
       "   'start_year': 2008,\n",
       "   'end_year': 2014},\n",
       "  {'position': 'Postdoctoral Researcher',\n",
       "   'affiliation': 'Nano-CEMMS Center, University of Illinois',\n",
       "   'start_year': 2007,\n",
       "   'end_year': 2008}],\n",
       " 'awards': ['Teachers Ranked as Excellent by Students UIUC (Sp 2006, Fa 2006)',\n",
       "  'ASME Graduate Teaching Fellowship (2005-2007)',\n",
       "  'Best Presentation in Session American Control Conference (2003, 2005)',\n",
       "  'National Science Foundation Graduate Research Fellowship (2002-2005)'],\n",
       " 'gender': 'male',\n",
       " 'domain': 'Academia',\n",
       " 'additional_websites': 'N/A'}"
      ]
     },
     "execution_count": 15,
     "metadata": {},
     "output_type": "execute_result"
    }
   ],
   "source": [
    "results4"
   ]
  },
  {
   "cell_type": "code",
   "execution_count": 13,
   "metadata": {},
   "outputs": [
    {
     "data": {
      "text/html": [
       "<div>\n",
       "<style scoped>\n",
       "    .dataframe tbody tr th:only-of-type {\n",
       "        vertical-align: middle;\n",
       "    }\n",
       "\n",
       "    .dataframe tbody tr th {\n",
       "        vertical-align: top;\n",
       "    }\n",
       "\n",
       "    .dataframe thead th {\n",
       "        text-align: right;\n",
       "    }\n",
       "</style>\n",
       "<table border=\"1\" class=\"dataframe\">\n",
       "  <thead>\n",
       "    <tr style=\"text-align: right;\">\n",
       "      <th></th>\n",
       "      <th>research_fields</th>\n",
       "      <th>research_focus</th>\n",
       "      <th>expertise</th>\n",
       "      <th>emails</th>\n",
       "      <th>appointments</th>\n",
       "      <th>awards</th>\n",
       "      <th>gender</th>\n",
       "      <th>domain</th>\n",
       "      <th>additional_websites</th>\n",
       "    </tr>\n",
       "  </thead>\n",
       "  <tbody>\n",
       "    <tr>\n",
       "      <th>0</th>\n",
       "      <td>Power Electronics</td>\n",
       "      <td>Wide band-gap based power electronics, modular...</td>\n",
       "      <td>Power Electronics, Electric Propulsion, Electr...</td>\n",
       "      <td>zheyuz@clemson.edu</td>\n",
       "      <td>Warren H. Owen - Duke Energy Assistant Profess...</td>\n",
       "      <td>Two prize paper awards from the IEEE Industry ...</td>\n",
       "      <td>Male</td>\n",
       "      <td>Academia</td>\n",
       "      <td>N/A</td>\n",
       "    </tr>\n",
       "    <tr>\n",
       "      <th>1</th>\n",
       "      <td>Dynamic modeling and control of micro- and nan...</td>\n",
       "      <td>Improving measurement sensitivity in Atomic Fo...</td>\n",
       "      <td>Mechanical Engineering, Aerospace Manufacturin...</td>\n",
       "      <td>dbristow@mst.edu</td>\n",
       "      <td>[{'position': 'Associate Professor of Mechanic...</td>\n",
       "      <td>[Teachers Ranked as Excellent by Students UIUC...</td>\n",
       "      <td>male</td>\n",
       "      <td>Academia</td>\n",
       "      <td>N/A</td>\n",
       "    </tr>\n",
       "  </tbody>\n",
       "</table>\n",
       "</div>"
      ],
      "text/plain": [
       "                                     research_fields  \\\n",
       "0                                  Power Electronics   \n",
       "1  Dynamic modeling and control of micro- and nan...   \n",
       "\n",
       "                                      research_focus  \\\n",
       "0  Wide band-gap based power electronics, modular...   \n",
       "1  Improving measurement sensitivity in Atomic Fo...   \n",
       "\n",
       "                                           expertise              emails  \\\n",
       "0  Power Electronics, Electric Propulsion, Electr...  zheyuz@clemson.edu   \n",
       "1  Mechanical Engineering, Aerospace Manufacturin...    dbristow@mst.edu   \n",
       "\n",
       "                                        appointments  \\\n",
       "0  Warren H. Owen - Duke Energy Assistant Profess...   \n",
       "1  [{'position': 'Associate Professor of Mechanic...   \n",
       "\n",
       "                                              awards gender    domain  \\\n",
       "0  Two prize paper awards from the IEEE Industry ...   Male  Academia   \n",
       "1  [Teachers Ranked as Excellent by Students UIUC...   male  Academia   \n",
       "\n",
       "  additional_websites  \n",
       "0                 N/A  \n",
       "1                 N/A  "
      ]
     },
     "execution_count": 13,
     "metadata": {},
     "output_type": "execute_result"
    }
   ],
   "source": [
    "df = pd.DataFrame([results2, results4])\n",
    "df"
   ]
  },
  {
   "cell_type": "code",
   "execution_count": 16,
   "metadata": {},
   "outputs": [
    {
     "ename": "JSONDecodeError",
     "evalue": "Unterminated string starting at: line 15 column 9 (char 994)",
     "output_type": "error",
     "traceback": [
      "\u001b[0;31m---------------------------------------------------------------------------\u001b[0m",
      "\u001b[0;31mJSONDecodeError\u001b[0m                           Traceback (most recent call last)",
      "Cell \u001b[0;32mIn[16], line 1\u001b[0m\n\u001b[0;32m----> 1\u001b[0m results3 \u001b[39m=\u001b[39m json\u001b[39m.\u001b[39;49mloads(GetDataFromGPT(w3))\n",
      "File \u001b[0;32m~/opt/anaconda3/lib/python3.9/json/__init__.py:346\u001b[0m, in \u001b[0;36mloads\u001b[0;34m(s, cls, object_hook, parse_float, parse_int, parse_constant, object_pairs_hook, **kw)\u001b[0m\n\u001b[1;32m    341\u001b[0m     s \u001b[39m=\u001b[39m s\u001b[39m.\u001b[39mdecode(detect_encoding(s), \u001b[39m'\u001b[39m\u001b[39msurrogatepass\u001b[39m\u001b[39m'\u001b[39m)\n\u001b[1;32m    343\u001b[0m \u001b[39mif\u001b[39;00m (\u001b[39mcls\u001b[39m \u001b[39mis\u001b[39;00m \u001b[39mNone\u001b[39;00m \u001b[39mand\u001b[39;00m object_hook \u001b[39mis\u001b[39;00m \u001b[39mNone\u001b[39;00m \u001b[39mand\u001b[39;00m\n\u001b[1;32m    344\u001b[0m         parse_int \u001b[39mis\u001b[39;00m \u001b[39mNone\u001b[39;00m \u001b[39mand\u001b[39;00m parse_float \u001b[39mis\u001b[39;00m \u001b[39mNone\u001b[39;00m \u001b[39mand\u001b[39;00m\n\u001b[1;32m    345\u001b[0m         parse_constant \u001b[39mis\u001b[39;00m \u001b[39mNone\u001b[39;00m \u001b[39mand\u001b[39;00m object_pairs_hook \u001b[39mis\u001b[39;00m \u001b[39mNone\u001b[39;00m \u001b[39mand\u001b[39;00m \u001b[39mnot\u001b[39;00m kw):\n\u001b[0;32m--> 346\u001b[0m     \u001b[39mreturn\u001b[39;00m _default_decoder\u001b[39m.\u001b[39;49mdecode(s)\n\u001b[1;32m    347\u001b[0m \u001b[39mif\u001b[39;00m \u001b[39mcls\u001b[39m \u001b[39mis\u001b[39;00m \u001b[39mNone\u001b[39;00m:\n\u001b[1;32m    348\u001b[0m     \u001b[39mcls\u001b[39m \u001b[39m=\u001b[39m JSONDecoder\n",
      "File \u001b[0;32m~/opt/anaconda3/lib/python3.9/json/decoder.py:337\u001b[0m, in \u001b[0;36mJSONDecoder.decode\u001b[0;34m(self, s, _w)\u001b[0m\n\u001b[1;32m    332\u001b[0m \u001b[39mdef\u001b[39;00m \u001b[39mdecode\u001b[39m(\u001b[39mself\u001b[39m, s, _w\u001b[39m=\u001b[39mWHITESPACE\u001b[39m.\u001b[39mmatch):\n\u001b[1;32m    333\u001b[0m \u001b[39m    \u001b[39m\u001b[39m\"\"\"Return the Python representation of ``s`` (a ``str`` instance\u001b[39;00m\n\u001b[1;32m    334\u001b[0m \u001b[39m    containing a JSON document).\u001b[39;00m\n\u001b[1;32m    335\u001b[0m \n\u001b[1;32m    336\u001b[0m \u001b[39m    \"\"\"\u001b[39;00m\n\u001b[0;32m--> 337\u001b[0m     obj, end \u001b[39m=\u001b[39m \u001b[39mself\u001b[39;49m\u001b[39m.\u001b[39;49mraw_decode(s, idx\u001b[39m=\u001b[39;49m_w(s, \u001b[39m0\u001b[39;49m)\u001b[39m.\u001b[39;49mend())\n\u001b[1;32m    338\u001b[0m     end \u001b[39m=\u001b[39m _w(s, end)\u001b[39m.\u001b[39mend()\n\u001b[1;32m    339\u001b[0m     \u001b[39mif\u001b[39;00m end \u001b[39m!=\u001b[39m \u001b[39mlen\u001b[39m(s):\n",
      "File \u001b[0;32m~/opt/anaconda3/lib/python3.9/json/decoder.py:353\u001b[0m, in \u001b[0;36mJSONDecoder.raw_decode\u001b[0;34m(self, s, idx)\u001b[0m\n\u001b[1;32m    344\u001b[0m \u001b[39m\u001b[39m\u001b[39m\"\"\"Decode a JSON document from ``s`` (a ``str`` beginning with\u001b[39;00m\n\u001b[1;32m    345\u001b[0m \u001b[39ma JSON document) and return a 2-tuple of the Python\u001b[39;00m\n\u001b[1;32m    346\u001b[0m \u001b[39mrepresentation and the index in ``s`` where the document ended.\u001b[39;00m\n\u001b[0;32m   (...)\u001b[0m\n\u001b[1;32m    350\u001b[0m \n\u001b[1;32m    351\u001b[0m \u001b[39m\"\"\"\u001b[39;00m\n\u001b[1;32m    352\u001b[0m \u001b[39mtry\u001b[39;00m:\n\u001b[0;32m--> 353\u001b[0m     obj, end \u001b[39m=\u001b[39m \u001b[39mself\u001b[39;49m\u001b[39m.\u001b[39;49mscan_once(s, idx)\n\u001b[1;32m    354\u001b[0m \u001b[39mexcept\u001b[39;00m \u001b[39mStopIteration\u001b[39;00m \u001b[39mas\u001b[39;00m err:\n\u001b[1;32m    355\u001b[0m     \u001b[39mraise\u001b[39;00m JSONDecodeError(\u001b[39m\"\u001b[39m\u001b[39mExpecting value\u001b[39m\u001b[39m\"\u001b[39m, s, err\u001b[39m.\u001b[39mvalue) \u001b[39mfrom\u001b[39;00m \u001b[39mNone\u001b[39m\n",
      "\u001b[0;31mJSONDecodeError\u001b[0m: Unterminated string starting at: line 15 column 9 (char 994)"
     ]
    }
   ],
   "source": [
    "results3 = json.loads(GetDataFromGPT(w3))"
   ]
  },
  {
   "cell_type": "code",
   "execution_count": 26,
   "metadata": {},
   "outputs": [],
   "source": [
    "gw3 = GetDataFromGPT(w3)"
   ]
  },
  {
   "cell_type": "code",
   "execution_count": 28,
   "metadata": {},
   "outputs": [
    {
     "name": "stdout",
     "output_type": "stream",
     "text": [
      "('{\\n'\n",
      " '    \"research_fields\": \"Materials Science and Engineering, Nanomaterials\",\\n'\n",
      " '    \"research_focus\": \"Synthesis and surface modification of inorganic '\n",
      " 'nanomaterials, energy related and other applications of materials\",\\n'\n",
      " '    \"expertise\": \"Materials Science and Engineering\",\\n'\n",
      " '    \"emails\": \"gogotsi@drexel.edu\",\\n'\n",
      " '    \"appointments\": \"Distinguished University and Charles T. and Ruth M. '\n",
      " 'Bach Professor, Director, A.J. Drexel Nanomaterials Institute, Materials '\n",
      " 'Science and Engineering\",\\n'\n",
      " '    \"awards\": [\\n'\n",
      " '        \"2021 — MRS Medal, Materials Research Society\",\\n'\n",
      " '        \"2021 — Materials Today Innovation Award, Elsevier\",\\n'\n",
      " '        \"2021 — Horizon Prize, Royal Society of Chemistry (RSC)\",\\n'\n",
      " '        \"2021 — Honorary Doctorate, Sumy State University, Ukraine\",\\n'\n",
      " '        \"2021 — American Chemical Society (ACS) Award in the Chemistry of '\n",
      " 'Materials\",\\n'\n",
      " '        \"2020 — World Academy of Ceramics International Ceramics Prize\",\\n'\n",
      " '        \"2020 — Russian-American Science Association (RASA) George Gamow '\n",
      " 'Award\",\\n'\n",
      " '        \"2020 — American Chemical Society (ACS) Philadelphia Section')\n"
     ]
    }
   ],
   "source": [
    "pprint(gw3)"
   ]
  },
  {
   "cell_type": "code",
   "execution_count": 35,
   "metadata": {},
   "outputs": [
    {
     "data": {
      "text/plain": [
       "APIError(message=None, http_status=None, request_id=None)"
      ]
     },
     "execution_count": 35,
     "metadata": {},
     "output_type": "execute_result"
    }
   ],
   "source": [
    "openai.APIError()"
   ]
  },
  {
   "cell_type": "code",
   "execution_count": 37,
   "metadata": {},
   "outputs": [
    {
     "data": {
      "text/plain": [
       "12705"
      ]
     },
     "execution_count": 37,
     "metadata": {},
     "output_type": "execute_result"
    }
   ],
   "source": [
    "len(w3)"
   ]
  },
  {
   "cell_type": "code",
   "execution_count": null,
   "metadata": {},
   "outputs": [],
   "source": [
    "def num_tokens_from_messages(messages, model=\"gpt-3.5-turbo-0301\"):\n",
    "  \"\"\"Returns the number of tokens used by a list of messages.\"\"\"\n",
    "  try:\n",
    "      encoding = tiktoken.encoding_for_model(model)\n",
    "  except KeyError:\n",
    "      encoding = tiktoken.get_encoding(\"cl100k_base\")\n",
    "  if model == \"gpt-3.5-turbo-0301\":  # note: future models may deviate from this\n",
    "      num_tokens = 0\n",
    "      for message in messages:\n",
    "          num_tokens += 4  # every message follows <im_start>{role/name}\\n{content}<im_end>\\n\n",
    "          for key, value in message.items():\n",
    "              num_tokens += len(encoding.encode(value))\n",
    "              if key == \"name\":  # if there's a name, the role is omitted\n",
    "                  num_tokens += -1  # role is always required and always 1 token\n",
    "      num_tokens += 2  # every reply is primed with <im_start>assistant\n",
    "      return num_tokens\n",
    "  else:\n",
    "      raise NotImplementedError(f\"\"\"num_tokens_from_messages() is not presently implemented for model {model}.\n",
    "  See https://github.com/openai/openai-python/blob/main/chatml.md for information on how messages are converted to tokens.\"\"\")"
   ]
  }
 ],
 "metadata": {
  "kernelspec": {
   "display_name": "env",
   "language": "python",
   "name": "python3"
  },
  "language_info": {
   "codemirror_mode": {
    "name": "ipython",
    "version": 3
   },
   "file_extension": ".py",
   "mimetype": "text/x-python",
   "name": "python",
   "nbconvert_exporter": "python",
   "pygments_lexer": "ipython3",
   "version": "3.9.12"
  },
  "orig_nbformat": 4
 },
 "nbformat": 4,
 "nbformat_minor": 2
}
