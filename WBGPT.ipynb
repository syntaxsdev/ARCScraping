{
 "cells": [
  {
   "cell_type": "code",
   "execution_count": 1,
   "metadata": {},
   "outputs": [],
   "source": [
    "import openai, json, os, pandas as pd, tiktoken\n",
    "from WebScraping import WebScraping\n",
    "from User import User\n",
    "from pprint import pprint\n",
    "from dotenv import load_dotenv\n",
    "import Universities\n",
    "\n",
    "def connectOpenAI():\n",
    "    load_dotenv()\n",
    "    openai.api_key = os.getenv(\"API_KEY\")\n",
    "connectOpenAI()\n"
   ]
  },
  {
   "cell_type": "code",
   "execution_count": 2,
   "metadata": {},
   "outputs": [],
   "source": [
    "def GetDataFromGPT(page):\n",
    "    connectOpenAI()\n",
    "    response = openai.ChatCompletion.create(\n",
    "        model=\"gpt-3.5-turbo\",\n",
    "        messages=[{\"role\": \"system\", \"content\": os.getenv(\"prompt2\")},\n",
    "                  {\"role\": \"user\", \"content\": page}],\n",
    "        temperature=0\n",
    "    )\n",
    "\n",
    "    data = response.choices[0].message.content\n",
    "    return data\n",
    "\n"
   ]
  },
  {
   "cell_type": "code",
   "execution_count": 3,
   "metadata": {},
   "outputs": [],
   "source": [
    "#Create the WebScraping class\n",
    "ws = WebScraping()"
   ]
  },
  {
   "cell_type": "code",
   "execution_count": 4,
   "metadata": {},
   "outputs": [
    {
     "name": "stdout",
     "output_type": "stream",
     "text": [
      "True 3 Instituion found | Researcher name found | University website verified\n",
      "True 3 Instituion found | Researcher name found | University website verified\n"
     ]
    }
   ],
   "source": [
    "#Create the Test Researchers\n",
    "zheng = User(\"Zheng Xiang\", \"Virginia Tech\")\n",
    "sean = User(\"Sean Agnew\", \"University of Virginia\")\n",
    "\n",
    "ws.initial_search(zheng)\n",
    "ws.initial_search(sean)\n",
    "\n",
    "#Scrape links\n",
    "w1 = ws.scrape_webpage(zheng.initial_search_links[0], zheng)\n",
    "w2 = ws.scrape_webpage(sean.initial_search_links[0], sean)\n"
   ]
  },
  {
   "cell_type": "code",
   "execution_count": 5,
   "metadata": {},
   "outputs": [
    {
     "data": {
      "text/plain": [
       "'{\\n    \"research_fields\": [\"Travel behavior\", \"e-Tourism\", \"Information technology\", \"Tourism analytics\"],\\n    \"research_focus\": [\"Travel information search\", \"Social media marketing\", \"Business analytics\"],\\n    \"expertise\": \"Hospitality and Tourism Management\",\\n    \"emails\": [\"philxz@vt.edu\"],\\n    \"appointments\": [\\n        {\\n            \"department\": \"Howard Feiertag Department of Hospitality and Tourism Management\",\\n            \"institution\": \"Virginia Polytechnic Institute and State University\"\\n        }\\n    ],\\n    \"awards\": [\\n        \"Emerging Scholar of Distinction award by the International Academy for the Study of Tourism\",\\n        \"Best Research Paper of the Year Award at the ICHRIE Conference in New Orleans, LA in July 2019\",\\n        \"Certificate of Teaching Award for the department by Pamplin College of Business, 2017-2018\",\\n        \"Best Paper Award (1st Place) at ENTER 2017 eTourism Conference in Rome, Italy\",\\n        \"Best Paper of the Year Award (2016) in Electronic Markets\",\\n        \"Pamplin College of Business’ Junior Faculty Research Excellence Award of 2015\",\\n        \"W. Bradford Wiley Memorial Best Research Paper of the Year Award at the ICHRIE Conference in Orlando, FL in July 2015\",\\n        \"Best Paper Award (2nd Place) at the IFITT ENTER 2012 Conference in Helsingborg, Sweden\",\\n        \"Charles R. Goeldner Article of Excellence Award in Journal of Travel Research in 2008\"\\n    ],\\n    \"gender\": \"Male\",\\n    \"domain\": \"Academia\",\\n    \"additional_websites\": [\\n        \"https://scholar.google.com/citations?user=JZJjJLwAAAAJ&hl=en\",\\n        \"https://www.linkedin.com/in/zheng-phil-xiang-7a5a5a5/\",\\n        \"https://twitter.com/philxiang\"\\n    ]\\n}'"
      ]
     },
     "execution_count": 5,
     "metadata": {},
     "output_type": "execute_result"
    }
   ],
   "source": [
    "GetDataFromGPT(w1)"
   ]
  },
  {
   "cell_type": "code",
   "execution_count": 6,
   "metadata": {},
   "outputs": [],
   "source": [
    "results1 = json.loads(GetDataFromGPT(w1))\n",
    "results2 = json.loads(GetDataFromGPT(w2))"
   ]
  },
  {
   "cell_type": "code",
   "execution_count": 7,
   "metadata": {},
   "outputs": [
    {
     "data": {
      "text/plain": [
       "{'research_fields': ['Travel behavior',\n",
       "  'e-Tourism',\n",
       "  'Information technology',\n",
       "  'Tourism analytics'],\n",
       " 'research_focus': ['Travel information search',\n",
       "  'Social media marketing',\n",
       "  'Business analytics'],\n",
       " 'expertise': 'Hospitality and Tourism Management',\n",
       " 'emails': ['philxz@vt.edu'],\n",
       " 'appointments': [{'department': 'Howard Feiertag Department of Hospitality and Tourism Management',\n",
       "   'institution': 'Virginia Polytechnic Institute and State University'}],\n",
       " 'awards': ['Emerging Scholar of Distinction award by the International Academy for the Study of Tourism',\n",
       "  'Best Research Paper of the Year Award at the ICHRIE Conference in New Orleans, LA in July 2019',\n",
       "  'Certificate of Teaching Award for the department by Pamplin College of Business, 2017-2018',\n",
       "  'Best Paper Award (1st Place) at ENTER 2017 eTourism Conference in Rome, Italy',\n",
       "  'Best Paper of the Year Award (2016) in Electronic Markets',\n",
       "  'Pamplin College of Business’ Junior Faculty Research Excellence Award of 2015',\n",
       "  'W. Bradford Wiley Memorial Best Research Paper of the Year Award at the ICHRIE Conference in Orlando, FL in July 2015',\n",
       "  'Best Paper Award (2nd Place) at the IFITT ENTER 2012 Conference in Helsingborg, Sweden',\n",
       "  'Charles R. Goeldner Article of Excellence Award in Journal of Travel Research in 2008'],\n",
       " 'gender': 'Male',\n",
       " 'domain': 'Academia',\n",
       " 'additional_websites': ['https://scholar.google.com/citations?user=JZJjJLwAAAAJ&hl=en',\n",
       "  'https://www.linkedin.com/in/zheng-phil-xiang-7a1a5a7/',\n",
       "  'https://twitter.com/philxiang']}"
      ]
     },
     "execution_count": 7,
     "metadata": {},
     "output_type": "execute_result"
    }
   ],
   "source": [
    "results1"
   ]
  },
  {
   "cell_type": "code",
   "execution_count": 8,
   "metadata": {},
   "outputs": [
    {
     "data": {
      "text/plain": [
       "{'research_fields': ['Surface and Interface Science and Engineering',\n",
       "  'Metallurgy',\n",
       "  'Materials Characterization',\n",
       "  'Nanomaterials and nanomanufacturing',\n",
       "  'Advanced materials for transportation applications'],\n",
       " 'research_focus': 'Metals analysis, including magnesium alloy formability, intermetallic behaviors, and aluminum alloy fatigue',\n",
       " 'expertise': 'Materials Science and Engineering',\n",
       " 'emails': ['sra4p@virginia.edu'],\n",
       " 'appointments': ['William G. Reynolds Professor of Materials Science',\n",
       "  'Professor of Materials Science and Engineering'],\n",
       " 'awards': ['N/A'],\n",
       " 'gender': 'Male',\n",
       " 'domain': 'Academia',\n",
       " 'additional_websites': ['https://scholar.google.com/citations?user=JZJZJLsAAAAJ&hl=en']}"
      ]
     },
     "execution_count": 8,
     "metadata": {},
     "output_type": "execute_result"
    }
   ],
   "source": [
    "results2"
   ]
  },
  {
   "cell_type": "code",
   "execution_count": 9,
   "metadata": {},
   "outputs": [
    {
     "data": {
      "text/html": [
       "<div>\n",
       "<style scoped>\n",
       "    .dataframe tbody tr th:only-of-type {\n",
       "        vertical-align: middle;\n",
       "    }\n",
       "\n",
       "    .dataframe tbody tr th {\n",
       "        vertical-align: top;\n",
       "    }\n",
       "\n",
       "    .dataframe thead th {\n",
       "        text-align: right;\n",
       "    }\n",
       "</style>\n",
       "<table border=\"1\" class=\"dataframe\">\n",
       "  <thead>\n",
       "    <tr style=\"text-align: right;\">\n",
       "      <th></th>\n",
       "      <th>research_fields</th>\n",
       "      <th>research_focus</th>\n",
       "      <th>expertise</th>\n",
       "      <th>emails</th>\n",
       "      <th>appointments</th>\n",
       "      <th>awards</th>\n",
       "      <th>gender</th>\n",
       "      <th>domain</th>\n",
       "      <th>additional_websites</th>\n",
       "    </tr>\n",
       "  </thead>\n",
       "  <tbody>\n",
       "    <tr>\n",
       "      <th>0</th>\n",
       "      <td>[Travel behavior, e-Tourism, Information techn...</td>\n",
       "      <td>[Travel information search, Social media marke...</td>\n",
       "      <td>Hospitality and Tourism Management</td>\n",
       "      <td>[philxz@vt.edu]</td>\n",
       "      <td>[{'department': 'Howard Feiertag Department of...</td>\n",
       "      <td>[Emerging Scholar of Distinction award by the ...</td>\n",
       "      <td>Male</td>\n",
       "      <td>Academia</td>\n",
       "      <td>[https://scholar.google.com/citations?user=JZJ...</td>\n",
       "    </tr>\n",
       "    <tr>\n",
       "      <th>1</th>\n",
       "      <td>[Surface and Interface Science and Engineering...</td>\n",
       "      <td>Metals analysis, including magnesium alloy for...</td>\n",
       "      <td>Materials Science and Engineering</td>\n",
       "      <td>[sra4p@virginia.edu]</td>\n",
       "      <td>[William G. Reynolds Professor of Materials Sc...</td>\n",
       "      <td>[N/A]</td>\n",
       "      <td>Male</td>\n",
       "      <td>Academia</td>\n",
       "      <td>[https://scholar.google.com/citations?user=JZJ...</td>\n",
       "    </tr>\n",
       "  </tbody>\n",
       "</table>\n",
       "</div>"
      ],
      "text/plain": [
       "                                     research_fields  \\\n",
       "0  [Travel behavior, e-Tourism, Information techn...   \n",
       "1  [Surface and Interface Science and Engineering...   \n",
       "\n",
       "                                      research_focus  \\\n",
       "0  [Travel information search, Social media marke...   \n",
       "1  Metals analysis, including magnesium alloy for...   \n",
       "\n",
       "                            expertise                emails  \\\n",
       "0  Hospitality and Tourism Management       [philxz@vt.edu]   \n",
       "1   Materials Science and Engineering  [sra4p@virginia.edu]   \n",
       "\n",
       "                                        appointments  \\\n",
       "0  [{'department': 'Howard Feiertag Department of...   \n",
       "1  [William G. Reynolds Professor of Materials Sc...   \n",
       "\n",
       "                                              awards gender    domain  \\\n",
       "0  [Emerging Scholar of Distinction award by the ...   Male  Academia   \n",
       "1                                              [N/A]   Male  Academia   \n",
       "\n",
       "                                 additional_websites  \n",
       "0  [https://scholar.google.com/citations?user=JZJ...  \n",
       "1  [https://scholar.google.com/citations?user=JZJ...  "
      ]
     },
     "execution_count": 9,
     "metadata": {},
     "output_type": "execute_result"
    }
   ],
   "source": [
    "df = pd.DataFrame([results1, results2])\n",
    "df\n",
    "# df.to_csv('test.csv', index=False)\n"
   ]
  },
  {
   "cell_type": "code",
   "execution_count": 4,
   "metadata": {},
   "outputs": [
    {
     "name": "stdout",
     "output_type": "stream",
     "text": [
      "True 3 Instituion found | Researcher name found | University website verified\n",
      "True 3 Instituion found | Researcher name found | University website verified\n",
      "True 3 Instituion found | Researcher name found | University website verified\n"
     ]
    }
   ],
   "source": [
    "# Testing accuracy on web scrape data given to us on 3/13\n",
    "#alexellery = User(\"Alex Ellery\", \"Carleton College\")\n",
    "zheyuz = User(\"Zheyu Zhang\", \"Clemson University\")\n",
    "yurygogotsi = User(\"Yury Gogotsi\", \"Drexel University\")\n",
    "douglasb = User(\"Douglas A. Bristow\", \"Missouri University of Science and Technology\")\n",
    "\n",
    "#ws.initial_search(alexellery)\n",
    "ws.initial_search(zheyuz)\n",
    "ws.initial_search(yurygogotsi)\n",
    "ws.initial_search(douglasb)\n",
    "\n",
    "#w1 = ws.scrape_webpage(alexellery.initial_search_links[0], alexellery)\n",
    "w2 = ws.scrape_webpage(zheyuz.initial_search_links[0], zheyuz)\n",
    "w3 = ws.scrape_webpage(yurygogotsi.initial_search_links[0], yurygogotsi)\n",
    "w4 = ws.scrape_webpage(douglasb.initial_search_links[0], douglasb)\n"
   ]
  },
  {
   "cell_type": "code",
   "execution_count": 12,
   "metadata": {},
   "outputs": [],
   "source": [
    "results2 = json.loads(GetDataFromGPT(w2))\n",
    "#results3 = json.loads(GetDataFromGPT(w3))\n",
    "results4 = json.loads(GetDataFromGPT(w4))"
   ]
  },
  {
   "cell_type": "code",
   "execution_count": 15,
   "metadata": {},
   "outputs": [
    {
     "data": {
      "text/plain": [
       "{'research_fields': 'Dynamic modeling and control of micro- and nano-positioning systems, atomic force microscopes and additive manufacturing systems, volumetric error compensation, iterative learning control, multi-dimensional control, and signal processing.',\n",
       " 'research_focus': 'Improving measurement sensitivity in Atomic Force Microscopy, High bandwidth control of precision motion instrumentation, Optimizing learning convergence speed and converged error for precision motion control, Monotonic convergence of iterative learning control for uncertain systems using a time-varying filter, A high precision motion control system with application to microscale robotic deposition',\n",
       " 'expertise': 'Mechanical Engineering, Aerospace Manufacturing Technologies, Intelligent Systems',\n",
       " 'emails': 'dbristow@mst.edu',\n",
       " 'appointments': [{'position': 'Associate Professor of Mechanical Engineering',\n",
       "   'affiliation': 'Missouri S&T',\n",
       "   'start_year': 2014,\n",
       "   'end_year': 'present'},\n",
       "  {'position': 'Assistant Professor of Mechanical Engineering',\n",
       "   'affiliation': 'Missouri S&T',\n",
       "   'start_year': 2008,\n",
       "   'end_year': 2014},\n",
       "  {'position': 'Postdoctoral Researcher',\n",
       "   'affiliation': 'Nano-CEMMS Center, University of Illinois',\n",
       "   'start_year': 2007,\n",
       "   'end_year': 2008}],\n",
       " 'awards': ['Teachers Ranked as Excellent by Students UIUC (Sp 2006, Fa 2006)',\n",
       "  'ASME Graduate Teaching Fellowship (2005-2007)',\n",
       "  'Best Presentation in Session American Control Conference (2003, 2005)',\n",
       "  'National Science Foundation Graduate Research Fellowship (2002-2005)'],\n",
       " 'gender': 'male',\n",
       " 'domain': 'Academia',\n",
       " 'additional_websites': 'N/A'}"
      ]
     },
     "execution_count": 15,
     "metadata": {},
     "output_type": "execute_result"
    }
   ],
   "source": [
    "results4"
   ]
  },
  {
   "cell_type": "code",
   "execution_count": 13,
   "metadata": {},
   "outputs": [
    {
     "data": {
      "text/html": [
       "<div>\n",
       "<style scoped>\n",
       "    .dataframe tbody tr th:only-of-type {\n",
       "        vertical-align: middle;\n",
       "    }\n",
       "\n",
       "    .dataframe tbody tr th {\n",
       "        vertical-align: top;\n",
       "    }\n",
       "\n",
       "    .dataframe thead th {\n",
       "        text-align: right;\n",
       "    }\n",
       "</style>\n",
       "<table border=\"1\" class=\"dataframe\">\n",
       "  <thead>\n",
       "    <tr style=\"text-align: right;\">\n",
       "      <th></th>\n",
       "      <th>research_fields</th>\n",
       "      <th>research_focus</th>\n",
       "      <th>expertise</th>\n",
       "      <th>emails</th>\n",
       "      <th>appointments</th>\n",
       "      <th>awards</th>\n",
       "      <th>gender</th>\n",
       "      <th>domain</th>\n",
       "      <th>additional_websites</th>\n",
       "    </tr>\n",
       "  </thead>\n",
       "  <tbody>\n",
       "    <tr>\n",
       "      <th>0</th>\n",
       "      <td>Power Electronics</td>\n",
       "      <td>Wide band-gap based power electronics, modular...</td>\n",
       "      <td>Power Electronics, Electric Propulsion, Electr...</td>\n",
       "      <td>zheyuz@clemson.edu</td>\n",
       "      <td>Warren H. Owen - Duke Energy Assistant Profess...</td>\n",
       "      <td>Two prize paper awards from the IEEE Industry ...</td>\n",
       "      <td>Male</td>\n",
       "      <td>Academia</td>\n",
       "      <td>N/A</td>\n",
       "    </tr>\n",
       "    <tr>\n",
       "      <th>1</th>\n",
       "      <td>Dynamic modeling and control of micro- and nan...</td>\n",
       "      <td>Improving measurement sensitivity in Atomic Fo...</td>\n",
       "      <td>Mechanical Engineering, Aerospace Manufacturin...</td>\n",
       "      <td>dbristow@mst.edu</td>\n",
       "      <td>[{'position': 'Associate Professor of Mechanic...</td>\n",
       "      <td>[Teachers Ranked as Excellent by Students UIUC...</td>\n",
       "      <td>male</td>\n",
       "      <td>Academia</td>\n",
       "      <td>N/A</td>\n",
       "    </tr>\n",
       "  </tbody>\n",
       "</table>\n",
       "</div>"
      ],
      "text/plain": [
       "                                     research_fields  \\\n",
       "0                                  Power Electronics   \n",
       "1  Dynamic modeling and control of micro- and nan...   \n",
       "\n",
       "                                      research_focus  \\\n",
       "0  Wide band-gap based power electronics, modular...   \n",
       "1  Improving measurement sensitivity in Atomic Fo...   \n",
       "\n",
       "                                           expertise              emails  \\\n",
       "0  Power Electronics, Electric Propulsion, Electr...  zheyuz@clemson.edu   \n",
       "1  Mechanical Engineering, Aerospace Manufacturin...    dbristow@mst.edu   \n",
       "\n",
       "                                        appointments  \\\n",
       "0  Warren H. Owen - Duke Energy Assistant Profess...   \n",
       "1  [{'position': 'Associate Professor of Mechanic...   \n",
       "\n",
       "                                              awards gender    domain  \\\n",
       "0  Two prize paper awards from the IEEE Industry ...   Male  Academia   \n",
       "1  [Teachers Ranked as Excellent by Students UIUC...   male  Academia   \n",
       "\n",
       "  additional_websites  \n",
       "0                 N/A  \n",
       "1                 N/A  "
      ]
     },
     "execution_count": 13,
     "metadata": {},
     "output_type": "execute_result"
    }
   ],
   "source": [
    "df = pd.DataFrame([results2, results4])\n",
    "df"
   ]
  },
  {
   "cell_type": "code",
   "execution_count": 11,
   "metadata": {},
   "outputs": [
    {
     "ename": "KeyboardInterrupt",
     "evalue": "",
     "output_type": "error",
     "traceback": [
      "\u001b[0;31m---------------------------------------------------------------------------\u001b[0m",
      "\u001b[0;31mKeyboardInterrupt\u001b[0m                         Traceback (most recent call last)",
      "\u001b[1;32m/Users/cordero/Documents/Capstone/ARCScraping/WBGPT.ipynb Cell 14\u001b[0m in \u001b[0;36m<cell line: 1>\u001b[0;34m()\u001b[0m\n\u001b[0;32m----> <a href='vscode-notebook-cell:/Users/cordero/Documents/Capstone/ARCScraping/WBGPT.ipynb#X16sZmlsZQ%3D%3D?line=0'>1</a>\u001b[0m results3 \u001b[39m=\u001b[39m json\u001b[39m.\u001b[39mloads(GetDataFromGPT(w3))\n",
      "\u001b[1;32m/Users/cordero/Documents/Capstone/ARCScraping/WBGPT.ipynb Cell 14\u001b[0m in \u001b[0;36mGetDataFromGPT\u001b[0;34m(page)\u001b[0m\n\u001b[1;32m      <a href='vscode-notebook-cell:/Users/cordero/Documents/Capstone/ARCScraping/WBGPT.ipynb#X16sZmlsZQ%3D%3D?line=0'>1</a>\u001b[0m \u001b[39mdef\u001b[39;00m \u001b[39mGetDataFromGPT\u001b[39m(page):\n\u001b[1;32m      <a href='vscode-notebook-cell:/Users/cordero/Documents/Capstone/ARCScraping/WBGPT.ipynb#X16sZmlsZQ%3D%3D?line=1'>2</a>\u001b[0m     connectOpenAI()\n\u001b[0;32m----> <a href='vscode-notebook-cell:/Users/cordero/Documents/Capstone/ARCScraping/WBGPT.ipynb#X16sZmlsZQ%3D%3D?line=2'>3</a>\u001b[0m     response \u001b[39m=\u001b[39m openai\u001b[39m.\u001b[39;49mChatCompletion\u001b[39m.\u001b[39;49mcreate(\n\u001b[1;32m      <a href='vscode-notebook-cell:/Users/cordero/Documents/Capstone/ARCScraping/WBGPT.ipynb#X16sZmlsZQ%3D%3D?line=3'>4</a>\u001b[0m         model\u001b[39m=\u001b[39;49m\u001b[39m\"\u001b[39;49m\u001b[39mgpt-3.5-turbo\u001b[39;49m\u001b[39m\"\u001b[39;49m,\n\u001b[1;32m      <a href='vscode-notebook-cell:/Users/cordero/Documents/Capstone/ARCScraping/WBGPT.ipynb#X16sZmlsZQ%3D%3D?line=4'>5</a>\u001b[0m         messages\u001b[39m=\u001b[39;49m[{\u001b[39m\"\u001b[39;49m\u001b[39mrole\u001b[39;49m\u001b[39m\"\u001b[39;49m: \u001b[39m\"\u001b[39;49m\u001b[39msystem\u001b[39;49m\u001b[39m\"\u001b[39;49m, \u001b[39m\"\u001b[39;49m\u001b[39mcontent\u001b[39;49m\u001b[39m\"\u001b[39;49m: os\u001b[39m.\u001b[39;49mgetenv(\u001b[39m\"\u001b[39;49m\u001b[39mprompt2\u001b[39;49m\u001b[39m\"\u001b[39;49m)},\n\u001b[1;32m      <a href='vscode-notebook-cell:/Users/cordero/Documents/Capstone/ARCScraping/WBGPT.ipynb#X16sZmlsZQ%3D%3D?line=5'>6</a>\u001b[0m                   {\u001b[39m\"\u001b[39;49m\u001b[39mrole\u001b[39;49m\u001b[39m\"\u001b[39;49m: \u001b[39m\"\u001b[39;49m\u001b[39muser\u001b[39;49m\u001b[39m\"\u001b[39;49m, \u001b[39m\"\u001b[39;49m\u001b[39mcontent\u001b[39;49m\u001b[39m\"\u001b[39;49m: page}],\n\u001b[1;32m      <a href='vscode-notebook-cell:/Users/cordero/Documents/Capstone/ARCScraping/WBGPT.ipynb#X16sZmlsZQ%3D%3D?line=6'>7</a>\u001b[0m         temperature\u001b[39m=\u001b[39;49m\u001b[39m0\u001b[39;49m\n\u001b[1;32m      <a href='vscode-notebook-cell:/Users/cordero/Documents/Capstone/ARCScraping/WBGPT.ipynb#X16sZmlsZQ%3D%3D?line=7'>8</a>\u001b[0m     )\n\u001b[1;32m     <a href='vscode-notebook-cell:/Users/cordero/Documents/Capstone/ARCScraping/WBGPT.ipynb#X16sZmlsZQ%3D%3D?line=9'>10</a>\u001b[0m     data \u001b[39m=\u001b[39m response\u001b[39m.\u001b[39mchoices[\u001b[39m0\u001b[39m]\u001b[39m.\u001b[39mmessage\u001b[39m.\u001b[39mcontent\n\u001b[1;32m     <a href='vscode-notebook-cell:/Users/cordero/Documents/Capstone/ARCScraping/WBGPT.ipynb#X16sZmlsZQ%3D%3D?line=10'>11</a>\u001b[0m     \u001b[39mreturn\u001b[39;00m data\n",
      "File \u001b[0;32m~/opt/anaconda3/lib/python3.9/site-packages/openai/api_resources/chat_completion.py:25\u001b[0m, in \u001b[0;36mChatCompletion.create\u001b[0;34m(cls, *args, **kwargs)\u001b[0m\n\u001b[1;32m     23\u001b[0m \u001b[39mwhile\u001b[39;00m \u001b[39mTrue\u001b[39;00m:\n\u001b[1;32m     24\u001b[0m     \u001b[39mtry\u001b[39;00m:\n\u001b[0;32m---> 25\u001b[0m         \u001b[39mreturn\u001b[39;00m \u001b[39msuper\u001b[39;49m()\u001b[39m.\u001b[39;49mcreate(\u001b[39m*\u001b[39;49margs, \u001b[39m*\u001b[39;49m\u001b[39m*\u001b[39;49mkwargs)\n\u001b[1;32m     26\u001b[0m     \u001b[39mexcept\u001b[39;00m TryAgain \u001b[39mas\u001b[39;00m e:\n\u001b[1;32m     27\u001b[0m         \u001b[39mif\u001b[39;00m timeout \u001b[39mis\u001b[39;00m \u001b[39mnot\u001b[39;00m \u001b[39mNone\u001b[39;00m \u001b[39mand\u001b[39;00m time\u001b[39m.\u001b[39mtime() \u001b[39m>\u001b[39m start \u001b[39m+\u001b[39m timeout:\n",
      "File \u001b[0;32m~/opt/anaconda3/lib/python3.9/site-packages/openai/api_resources/abstract/engine_api_resource.py:153\u001b[0m, in \u001b[0;36mEngineAPIResource.create\u001b[0;34m(cls, api_key, api_base, api_type, request_id, api_version, organization, **params)\u001b[0m\n\u001b[1;32m    127\u001b[0m \u001b[39m@classmethod\u001b[39m\n\u001b[1;32m    128\u001b[0m \u001b[39mdef\u001b[39;00m \u001b[39mcreate\u001b[39m(\n\u001b[1;32m    129\u001b[0m     \u001b[39mcls\u001b[39m,\n\u001b[0;32m   (...)\u001b[0m\n\u001b[1;32m    136\u001b[0m     \u001b[39m*\u001b[39m\u001b[39m*\u001b[39mparams,\n\u001b[1;32m    137\u001b[0m ):\n\u001b[1;32m    138\u001b[0m     (\n\u001b[1;32m    139\u001b[0m         deployment_id,\n\u001b[1;32m    140\u001b[0m         engine,\n\u001b[0;32m   (...)\u001b[0m\n\u001b[1;32m    150\u001b[0m         api_key, api_base, api_type, api_version, organization, \u001b[39m*\u001b[39m\u001b[39m*\u001b[39mparams\n\u001b[1;32m    151\u001b[0m     )\n\u001b[0;32m--> 153\u001b[0m     response, _, api_key \u001b[39m=\u001b[39m requestor\u001b[39m.\u001b[39;49mrequest(\n\u001b[1;32m    154\u001b[0m         \u001b[39m\"\u001b[39;49m\u001b[39mpost\u001b[39;49m\u001b[39m\"\u001b[39;49m,\n\u001b[1;32m    155\u001b[0m         url,\n\u001b[1;32m    156\u001b[0m         params\u001b[39m=\u001b[39;49mparams,\n\u001b[1;32m    157\u001b[0m         headers\u001b[39m=\u001b[39;49mheaders,\n\u001b[1;32m    158\u001b[0m         stream\u001b[39m=\u001b[39;49mstream,\n\u001b[1;32m    159\u001b[0m         request_id\u001b[39m=\u001b[39;49mrequest_id,\n\u001b[1;32m    160\u001b[0m         request_timeout\u001b[39m=\u001b[39;49mrequest_timeout,\n\u001b[1;32m    161\u001b[0m     )\n\u001b[1;32m    163\u001b[0m     \u001b[39mif\u001b[39;00m stream:\n\u001b[1;32m    164\u001b[0m         \u001b[39m# must be an iterator\u001b[39;00m\n\u001b[1;32m    165\u001b[0m         \u001b[39massert\u001b[39;00m \u001b[39mnot\u001b[39;00m \u001b[39misinstance\u001b[39m(response, OpenAIResponse)\n",
      "File \u001b[0;32m~/opt/anaconda3/lib/python3.9/site-packages/openai/api_requestor.py:216\u001b[0m, in \u001b[0;36mAPIRequestor.request\u001b[0;34m(self, method, url, params, headers, files, stream, request_id, request_timeout)\u001b[0m\n\u001b[1;32m    205\u001b[0m \u001b[39mdef\u001b[39;00m \u001b[39mrequest\u001b[39m(\n\u001b[1;32m    206\u001b[0m     \u001b[39mself\u001b[39m,\n\u001b[1;32m    207\u001b[0m     method,\n\u001b[0;32m   (...)\u001b[0m\n\u001b[1;32m    214\u001b[0m     request_timeout: Optional[Union[\u001b[39mfloat\u001b[39m, Tuple[\u001b[39mfloat\u001b[39m, \u001b[39mfloat\u001b[39m]]] \u001b[39m=\u001b[39m \u001b[39mNone\u001b[39;00m,\n\u001b[1;32m    215\u001b[0m ) \u001b[39m-\u001b[39m\u001b[39m>\u001b[39m Tuple[Union[OpenAIResponse, Iterator[OpenAIResponse]], \u001b[39mbool\u001b[39m, \u001b[39mstr\u001b[39m]:\n\u001b[0;32m--> 216\u001b[0m     result \u001b[39m=\u001b[39m \u001b[39mself\u001b[39;49m\u001b[39m.\u001b[39;49mrequest_raw(\n\u001b[1;32m    217\u001b[0m         method\u001b[39m.\u001b[39;49mlower(),\n\u001b[1;32m    218\u001b[0m         url,\n\u001b[1;32m    219\u001b[0m         params\u001b[39m=\u001b[39;49mparams,\n\u001b[1;32m    220\u001b[0m         supplied_headers\u001b[39m=\u001b[39;49mheaders,\n\u001b[1;32m    221\u001b[0m         files\u001b[39m=\u001b[39;49mfiles,\n\u001b[1;32m    222\u001b[0m         stream\u001b[39m=\u001b[39;49mstream,\n\u001b[1;32m    223\u001b[0m         request_id\u001b[39m=\u001b[39;49mrequest_id,\n\u001b[1;32m    224\u001b[0m         request_timeout\u001b[39m=\u001b[39;49mrequest_timeout,\n\u001b[1;32m    225\u001b[0m     )\n\u001b[1;32m    226\u001b[0m     resp, got_stream \u001b[39m=\u001b[39m \u001b[39mself\u001b[39m\u001b[39m.\u001b[39m_interpret_response(result, stream)\n\u001b[1;32m    227\u001b[0m     \u001b[39mreturn\u001b[39;00m resp, got_stream, \u001b[39mself\u001b[39m\u001b[39m.\u001b[39mapi_key\n",
      "File \u001b[0;32m~/opt/anaconda3/lib/python3.9/site-packages/openai/api_requestor.py:516\u001b[0m, in \u001b[0;36mAPIRequestor.request_raw\u001b[0;34m(self, method, url, params, supplied_headers, files, stream, request_id, request_timeout)\u001b[0m\n\u001b[1;32m    514\u001b[0m     _thread_context\u001b[39m.\u001b[39msession \u001b[39m=\u001b[39m _make_session()\n\u001b[1;32m    515\u001b[0m \u001b[39mtry\u001b[39;00m:\n\u001b[0;32m--> 516\u001b[0m     result \u001b[39m=\u001b[39m _thread_context\u001b[39m.\u001b[39;49msession\u001b[39m.\u001b[39;49mrequest(\n\u001b[1;32m    517\u001b[0m         method,\n\u001b[1;32m    518\u001b[0m         abs_url,\n\u001b[1;32m    519\u001b[0m         headers\u001b[39m=\u001b[39;49mheaders,\n\u001b[1;32m    520\u001b[0m         data\u001b[39m=\u001b[39;49mdata,\n\u001b[1;32m    521\u001b[0m         files\u001b[39m=\u001b[39;49mfiles,\n\u001b[1;32m    522\u001b[0m         stream\u001b[39m=\u001b[39;49mstream,\n\u001b[1;32m    523\u001b[0m         timeout\u001b[39m=\u001b[39;49mrequest_timeout \u001b[39mif\u001b[39;49;00m request_timeout \u001b[39melse\u001b[39;49;00m TIMEOUT_SECS,\n\u001b[1;32m    524\u001b[0m     )\n\u001b[1;32m    525\u001b[0m \u001b[39mexcept\u001b[39;00m requests\u001b[39m.\u001b[39mexceptions\u001b[39m.\u001b[39mTimeout \u001b[39mas\u001b[39;00m e:\n\u001b[1;32m    526\u001b[0m     \u001b[39mraise\u001b[39;00m error\u001b[39m.\u001b[39mTimeout(\u001b[39m\"\u001b[39m\u001b[39mRequest timed out: \u001b[39m\u001b[39m{}\u001b[39;00m\u001b[39m\"\u001b[39m\u001b[39m.\u001b[39mformat(e)) \u001b[39mfrom\u001b[39;00m \u001b[39me\u001b[39;00m\n",
      "File \u001b[0;32m~/opt/anaconda3/lib/python3.9/site-packages/requests/sessions.py:529\u001b[0m, in \u001b[0;36mSession.request\u001b[0;34m(self, method, url, params, data, headers, cookies, files, auth, timeout, allow_redirects, proxies, hooks, stream, verify, cert, json)\u001b[0m\n\u001b[1;32m    524\u001b[0m send_kwargs \u001b[39m=\u001b[39m {\n\u001b[1;32m    525\u001b[0m     \u001b[39m'\u001b[39m\u001b[39mtimeout\u001b[39m\u001b[39m'\u001b[39m: timeout,\n\u001b[1;32m    526\u001b[0m     \u001b[39m'\u001b[39m\u001b[39mallow_redirects\u001b[39m\u001b[39m'\u001b[39m: allow_redirects,\n\u001b[1;32m    527\u001b[0m }\n\u001b[1;32m    528\u001b[0m send_kwargs\u001b[39m.\u001b[39mupdate(settings)\n\u001b[0;32m--> 529\u001b[0m resp \u001b[39m=\u001b[39m \u001b[39mself\u001b[39;49m\u001b[39m.\u001b[39;49msend(prep, \u001b[39m*\u001b[39;49m\u001b[39m*\u001b[39;49msend_kwargs)\n\u001b[1;32m    531\u001b[0m \u001b[39mreturn\u001b[39;00m resp\n",
      "File \u001b[0;32m~/opt/anaconda3/lib/python3.9/site-packages/requests/sessions.py:645\u001b[0m, in \u001b[0;36mSession.send\u001b[0;34m(self, request, **kwargs)\u001b[0m\n\u001b[1;32m    642\u001b[0m start \u001b[39m=\u001b[39m preferred_clock()\n\u001b[1;32m    644\u001b[0m \u001b[39m# Send the request\u001b[39;00m\n\u001b[0;32m--> 645\u001b[0m r \u001b[39m=\u001b[39m adapter\u001b[39m.\u001b[39;49msend(request, \u001b[39m*\u001b[39;49m\u001b[39m*\u001b[39;49mkwargs)\n\u001b[1;32m    647\u001b[0m \u001b[39m# Total elapsed time of the request (approximately)\u001b[39;00m\n\u001b[1;32m    648\u001b[0m elapsed \u001b[39m=\u001b[39m preferred_clock() \u001b[39m-\u001b[39m start\n",
      "File \u001b[0;32m~/opt/anaconda3/lib/python3.9/site-packages/requests/adapters.py:440\u001b[0m, in \u001b[0;36mHTTPAdapter.send\u001b[0;34m(self, request, stream, timeout, verify, cert, proxies)\u001b[0m\n\u001b[1;32m    438\u001b[0m \u001b[39mtry\u001b[39;00m:\n\u001b[1;32m    439\u001b[0m     \u001b[39mif\u001b[39;00m \u001b[39mnot\u001b[39;00m chunked:\n\u001b[0;32m--> 440\u001b[0m         resp \u001b[39m=\u001b[39m conn\u001b[39m.\u001b[39;49murlopen(\n\u001b[1;32m    441\u001b[0m             method\u001b[39m=\u001b[39;49mrequest\u001b[39m.\u001b[39;49mmethod,\n\u001b[1;32m    442\u001b[0m             url\u001b[39m=\u001b[39;49murl,\n\u001b[1;32m    443\u001b[0m             body\u001b[39m=\u001b[39;49mrequest\u001b[39m.\u001b[39;49mbody,\n\u001b[1;32m    444\u001b[0m             headers\u001b[39m=\u001b[39;49mrequest\u001b[39m.\u001b[39;49mheaders,\n\u001b[1;32m    445\u001b[0m             redirect\u001b[39m=\u001b[39;49m\u001b[39mFalse\u001b[39;49;00m,\n\u001b[1;32m    446\u001b[0m             assert_same_host\u001b[39m=\u001b[39;49m\u001b[39mFalse\u001b[39;49;00m,\n\u001b[1;32m    447\u001b[0m             preload_content\u001b[39m=\u001b[39;49m\u001b[39mFalse\u001b[39;49;00m,\n\u001b[1;32m    448\u001b[0m             decode_content\u001b[39m=\u001b[39;49m\u001b[39mFalse\u001b[39;49;00m,\n\u001b[1;32m    449\u001b[0m             retries\u001b[39m=\u001b[39;49m\u001b[39mself\u001b[39;49m\u001b[39m.\u001b[39;49mmax_retries,\n\u001b[1;32m    450\u001b[0m             timeout\u001b[39m=\u001b[39;49mtimeout\n\u001b[1;32m    451\u001b[0m         )\n\u001b[1;32m    453\u001b[0m     \u001b[39m# Send the request.\u001b[39;00m\n\u001b[1;32m    454\u001b[0m     \u001b[39melse\u001b[39;00m:\n\u001b[1;32m    455\u001b[0m         \u001b[39mif\u001b[39;00m \u001b[39mhasattr\u001b[39m(conn, \u001b[39m'\u001b[39m\u001b[39mproxy_pool\u001b[39m\u001b[39m'\u001b[39m):\n",
      "File \u001b[0;32m~/opt/anaconda3/lib/python3.9/site-packages/urllib3/connectionpool.py:703\u001b[0m, in \u001b[0;36mHTTPConnectionPool.urlopen\u001b[0;34m(self, method, url, body, headers, retries, redirect, assert_same_host, timeout, pool_timeout, release_conn, chunked, body_pos, **response_kw)\u001b[0m\n\u001b[1;32m    700\u001b[0m     \u001b[39mself\u001b[39m\u001b[39m.\u001b[39m_prepare_proxy(conn)\n\u001b[1;32m    702\u001b[0m \u001b[39m# Make the request on the httplib connection object.\u001b[39;00m\n\u001b[0;32m--> 703\u001b[0m httplib_response \u001b[39m=\u001b[39m \u001b[39mself\u001b[39;49m\u001b[39m.\u001b[39;49m_make_request(\n\u001b[1;32m    704\u001b[0m     conn,\n\u001b[1;32m    705\u001b[0m     method,\n\u001b[1;32m    706\u001b[0m     url,\n\u001b[1;32m    707\u001b[0m     timeout\u001b[39m=\u001b[39;49mtimeout_obj,\n\u001b[1;32m    708\u001b[0m     body\u001b[39m=\u001b[39;49mbody,\n\u001b[1;32m    709\u001b[0m     headers\u001b[39m=\u001b[39;49mheaders,\n\u001b[1;32m    710\u001b[0m     chunked\u001b[39m=\u001b[39;49mchunked,\n\u001b[1;32m    711\u001b[0m )\n\u001b[1;32m    713\u001b[0m \u001b[39m# If we're going to release the connection in ``finally:``, then\u001b[39;00m\n\u001b[1;32m    714\u001b[0m \u001b[39m# the response doesn't need to know about the connection. Otherwise\u001b[39;00m\n\u001b[1;32m    715\u001b[0m \u001b[39m# it will also try to release it and we'll have a double-release\u001b[39;00m\n\u001b[1;32m    716\u001b[0m \u001b[39m# mess.\u001b[39;00m\n\u001b[1;32m    717\u001b[0m response_conn \u001b[39m=\u001b[39m conn \u001b[39mif\u001b[39;00m \u001b[39mnot\u001b[39;00m release_conn \u001b[39melse\u001b[39;00m \u001b[39mNone\u001b[39;00m\n",
      "File \u001b[0;32m~/opt/anaconda3/lib/python3.9/site-packages/urllib3/connectionpool.py:449\u001b[0m, in \u001b[0;36mHTTPConnectionPool._make_request\u001b[0;34m(self, conn, method, url, timeout, chunked, **httplib_request_kw)\u001b[0m\n\u001b[1;32m    444\u001b[0m             httplib_response \u001b[39m=\u001b[39m conn\u001b[39m.\u001b[39mgetresponse()\n\u001b[1;32m    445\u001b[0m         \u001b[39mexcept\u001b[39;00m \u001b[39mBaseException\u001b[39;00m \u001b[39mas\u001b[39;00m e:\n\u001b[1;32m    446\u001b[0m             \u001b[39m# Remove the TypeError from the exception chain in\u001b[39;00m\n\u001b[1;32m    447\u001b[0m             \u001b[39m# Python 3 (including for exceptions like SystemExit).\u001b[39;00m\n\u001b[1;32m    448\u001b[0m             \u001b[39m# Otherwise it looks like a bug in the code.\u001b[39;00m\n\u001b[0;32m--> 449\u001b[0m             six\u001b[39m.\u001b[39;49mraise_from(e, \u001b[39mNone\u001b[39;49;00m)\n\u001b[1;32m    450\u001b[0m \u001b[39mexcept\u001b[39;00m (SocketTimeout, BaseSSLError, SocketError) \u001b[39mas\u001b[39;00m e:\n\u001b[1;32m    451\u001b[0m     \u001b[39mself\u001b[39m\u001b[39m.\u001b[39m_raise_timeout(err\u001b[39m=\u001b[39me, url\u001b[39m=\u001b[39murl, timeout_value\u001b[39m=\u001b[39mread_timeout)\n",
      "File \u001b[0;32m<string>:3\u001b[0m, in \u001b[0;36mraise_from\u001b[0;34m(value, from_value)\u001b[0m\n",
      "File \u001b[0;32m~/opt/anaconda3/lib/python3.9/site-packages/urllib3/connectionpool.py:444\u001b[0m, in \u001b[0;36mHTTPConnectionPool._make_request\u001b[0;34m(self, conn, method, url, timeout, chunked, **httplib_request_kw)\u001b[0m\n\u001b[1;32m    441\u001b[0m \u001b[39mexcept\u001b[39;00m \u001b[39mTypeError\u001b[39;00m:\n\u001b[1;32m    442\u001b[0m     \u001b[39m# Python 3\u001b[39;00m\n\u001b[1;32m    443\u001b[0m     \u001b[39mtry\u001b[39;00m:\n\u001b[0;32m--> 444\u001b[0m         httplib_response \u001b[39m=\u001b[39m conn\u001b[39m.\u001b[39;49mgetresponse()\n\u001b[1;32m    445\u001b[0m     \u001b[39mexcept\u001b[39;00m \u001b[39mBaseException\u001b[39;00m \u001b[39mas\u001b[39;00m e:\n\u001b[1;32m    446\u001b[0m         \u001b[39m# Remove the TypeError from the exception chain in\u001b[39;00m\n\u001b[1;32m    447\u001b[0m         \u001b[39m# Python 3 (including for exceptions like SystemExit).\u001b[39;00m\n\u001b[1;32m    448\u001b[0m         \u001b[39m# Otherwise it looks like a bug in the code.\u001b[39;00m\n\u001b[1;32m    449\u001b[0m         six\u001b[39m.\u001b[39mraise_from(e, \u001b[39mNone\u001b[39;00m)\n",
      "File \u001b[0;32m~/opt/anaconda3/lib/python3.9/http/client.py:1377\u001b[0m, in \u001b[0;36mHTTPConnection.getresponse\u001b[0;34m(self)\u001b[0m\n\u001b[1;32m   1375\u001b[0m \u001b[39mtry\u001b[39;00m:\n\u001b[1;32m   1376\u001b[0m     \u001b[39mtry\u001b[39;00m:\n\u001b[0;32m-> 1377\u001b[0m         response\u001b[39m.\u001b[39;49mbegin()\n\u001b[1;32m   1378\u001b[0m     \u001b[39mexcept\u001b[39;00m \u001b[39mConnectionError\u001b[39;00m:\n\u001b[1;32m   1379\u001b[0m         \u001b[39mself\u001b[39m\u001b[39m.\u001b[39mclose()\n",
      "File \u001b[0;32m~/opt/anaconda3/lib/python3.9/http/client.py:320\u001b[0m, in \u001b[0;36mHTTPResponse.begin\u001b[0;34m(self)\u001b[0m\n\u001b[1;32m    318\u001b[0m \u001b[39m# read until we get a non-100 response\u001b[39;00m\n\u001b[1;32m    319\u001b[0m \u001b[39mwhile\u001b[39;00m \u001b[39mTrue\u001b[39;00m:\n\u001b[0;32m--> 320\u001b[0m     version, status, reason \u001b[39m=\u001b[39m \u001b[39mself\u001b[39;49m\u001b[39m.\u001b[39;49m_read_status()\n\u001b[1;32m    321\u001b[0m     \u001b[39mif\u001b[39;00m status \u001b[39m!=\u001b[39m CONTINUE:\n\u001b[1;32m    322\u001b[0m         \u001b[39mbreak\u001b[39;00m\n",
      "File \u001b[0;32m~/opt/anaconda3/lib/python3.9/http/client.py:281\u001b[0m, in \u001b[0;36mHTTPResponse._read_status\u001b[0;34m(self)\u001b[0m\n\u001b[1;32m    280\u001b[0m \u001b[39mdef\u001b[39;00m \u001b[39m_read_status\u001b[39m(\u001b[39mself\u001b[39m):\n\u001b[0;32m--> 281\u001b[0m     line \u001b[39m=\u001b[39m \u001b[39mstr\u001b[39m(\u001b[39mself\u001b[39;49m\u001b[39m.\u001b[39;49mfp\u001b[39m.\u001b[39;49mreadline(_MAXLINE \u001b[39m+\u001b[39;49m \u001b[39m1\u001b[39;49m), \u001b[39m\"\u001b[39m\u001b[39miso-8859-1\u001b[39m\u001b[39m\"\u001b[39m)\n\u001b[1;32m    282\u001b[0m     \u001b[39mif\u001b[39;00m \u001b[39mlen\u001b[39m(line) \u001b[39m>\u001b[39m _MAXLINE:\n\u001b[1;32m    283\u001b[0m         \u001b[39mraise\u001b[39;00m LineTooLong(\u001b[39m\"\u001b[39m\u001b[39mstatus line\u001b[39m\u001b[39m\"\u001b[39m)\n",
      "File \u001b[0;32m~/opt/anaconda3/lib/python3.9/socket.py:704\u001b[0m, in \u001b[0;36mSocketIO.readinto\u001b[0;34m(self, b)\u001b[0m\n\u001b[1;32m    702\u001b[0m \u001b[39mwhile\u001b[39;00m \u001b[39mTrue\u001b[39;00m:\n\u001b[1;32m    703\u001b[0m     \u001b[39mtry\u001b[39;00m:\n\u001b[0;32m--> 704\u001b[0m         \u001b[39mreturn\u001b[39;00m \u001b[39mself\u001b[39;49m\u001b[39m.\u001b[39;49m_sock\u001b[39m.\u001b[39;49mrecv_into(b)\n\u001b[1;32m    705\u001b[0m     \u001b[39mexcept\u001b[39;00m timeout:\n\u001b[1;32m    706\u001b[0m         \u001b[39mself\u001b[39m\u001b[39m.\u001b[39m_timeout_occurred \u001b[39m=\u001b[39m \u001b[39mTrue\u001b[39;00m\n",
      "File \u001b[0;32m~/opt/anaconda3/lib/python3.9/ssl.py:1241\u001b[0m, in \u001b[0;36mSSLSocket.recv_into\u001b[0;34m(self, buffer, nbytes, flags)\u001b[0m\n\u001b[1;32m   1237\u001b[0m     \u001b[39mif\u001b[39;00m flags \u001b[39m!=\u001b[39m \u001b[39m0\u001b[39m:\n\u001b[1;32m   1238\u001b[0m         \u001b[39mraise\u001b[39;00m \u001b[39mValueError\u001b[39;00m(\n\u001b[1;32m   1239\u001b[0m           \u001b[39m\"\u001b[39m\u001b[39mnon-zero flags not allowed in calls to recv_into() on \u001b[39m\u001b[39m%s\u001b[39;00m\u001b[39m\"\u001b[39m \u001b[39m%\u001b[39m\n\u001b[1;32m   1240\u001b[0m           \u001b[39mself\u001b[39m\u001b[39m.\u001b[39m\u001b[39m__class__\u001b[39m)\n\u001b[0;32m-> 1241\u001b[0m     \u001b[39mreturn\u001b[39;00m \u001b[39mself\u001b[39;49m\u001b[39m.\u001b[39;49mread(nbytes, buffer)\n\u001b[1;32m   1242\u001b[0m \u001b[39melse\u001b[39;00m:\n\u001b[1;32m   1243\u001b[0m     \u001b[39mreturn\u001b[39;00m \u001b[39msuper\u001b[39m()\u001b[39m.\u001b[39mrecv_into(buffer, nbytes, flags)\n",
      "File \u001b[0;32m~/opt/anaconda3/lib/python3.9/ssl.py:1099\u001b[0m, in \u001b[0;36mSSLSocket.read\u001b[0;34m(self, len, buffer)\u001b[0m\n\u001b[1;32m   1097\u001b[0m \u001b[39mtry\u001b[39;00m:\n\u001b[1;32m   1098\u001b[0m     \u001b[39mif\u001b[39;00m buffer \u001b[39mis\u001b[39;00m \u001b[39mnot\u001b[39;00m \u001b[39mNone\u001b[39;00m:\n\u001b[0;32m-> 1099\u001b[0m         \u001b[39mreturn\u001b[39;00m \u001b[39mself\u001b[39;49m\u001b[39m.\u001b[39;49m_sslobj\u001b[39m.\u001b[39;49mread(\u001b[39mlen\u001b[39;49m, buffer)\n\u001b[1;32m   1100\u001b[0m     \u001b[39melse\u001b[39;00m:\n\u001b[1;32m   1101\u001b[0m         \u001b[39mreturn\u001b[39;00m \u001b[39mself\u001b[39m\u001b[39m.\u001b[39m_sslobj\u001b[39m.\u001b[39mread(\u001b[39mlen\u001b[39m)\n",
      "\u001b[0;31mKeyboardInterrupt\u001b[0m: "
     ]
    }
   ],
   "source": [
    "results3 = json.loads(GetDataFromGPT(w3))"
   ]
  },
  {
   "cell_type": "code",
   "execution_count": 12,
   "metadata": {},
   "outputs": [],
   "source": [
    "gw3 = GetDataFromGPT(w3)"
   ]
  },
  {
   "cell_type": "code",
   "execution_count": 28,
   "metadata": {},
   "outputs": [
    {
     "name": "stdout",
     "output_type": "stream",
     "text": [
      "('{\\n'\n",
      " '    \"research_fields\": \"Materials Science and Engineering, Nanomaterials\",\\n'\n",
      " '    \"research_focus\": \"Synthesis and surface modification of inorganic '\n",
      " 'nanomaterials, energy related and other applications of materials\",\\n'\n",
      " '    \"expertise\": \"Materials Science and Engineering\",\\n'\n",
      " '    \"emails\": \"gogotsi@drexel.edu\",\\n'\n",
      " '    \"appointments\": \"Distinguished University and Charles T. and Ruth M. '\n",
      " 'Bach Professor, Director, A.J. Drexel Nanomaterials Institute, Materials '\n",
      " 'Science and Engineering\",\\n'\n",
      " '    \"awards\": [\\n'\n",
      " '        \"2021 — MRS Medal, Materials Research Society\",\\n'\n",
      " '        \"2021 — Materials Today Innovation Award, Elsevier\",\\n'\n",
      " '        \"2021 — Horizon Prize, Royal Society of Chemistry (RSC)\",\\n'\n",
      " '        \"2021 — Honorary Doctorate, Sumy State University, Ukraine\",\\n'\n",
      " '        \"2021 — American Chemical Society (ACS) Award in the Chemistry of '\n",
      " 'Materials\",\\n'\n",
      " '        \"2020 — World Academy of Ceramics International Ceramics Prize\",\\n'\n",
      " '        \"2020 — Russian-American Science Association (RASA) George Gamow '\n",
      " 'Award\",\\n'\n",
      " '        \"2020 — American Chemical Society (ACS) Philadelphia Section')\n"
     ]
    }
   ],
   "source": [
    "pprint(gw3)"
   ]
  },
  {
   "cell_type": "code",
   "execution_count": 35,
   "metadata": {},
   "outputs": [
    {
     "data": {
      "text/plain": [
       "APIError(message=None, http_status=None, request_id=None)"
      ]
     },
     "execution_count": 35,
     "metadata": {},
     "output_type": "execute_result"
    }
   ],
   "source": [
    "openai.APIError()"
   ]
  },
  {
   "cell_type": "code",
   "execution_count": 37,
   "metadata": {},
   "outputs": [
    {
     "data": {
      "text/plain": [
       "12705"
      ]
     },
     "execution_count": 37,
     "metadata": {},
     "output_type": "execute_result"
    }
   ],
   "source": [
    "len(w3)"
   ]
  },
  {
   "cell_type": "code",
   "execution_count": 5,
   "metadata": {},
   "outputs": [],
   "source": [
    "def num_tokens_from_messages(messages, model=\"gpt-3.5-turbo-0301\"):\n",
    "  \"\"\"Returns the number of tokens used by a list of messages.\"\"\"\n",
    "  try:\n",
    "      encoding = tiktoken.encoding_for_model(model)\n",
    "  except KeyError:\n",
    "      encoding = tiktoken.get_encoding(\"cl100k_base\")\n",
    "  if model == \"gpt-3.5-turbo-0301\":  # note: future models may deviate from this\n",
    "      num_tokens = 0\n",
    "      for message in messages:\n",
    "          num_tokens += 4  # every message follows <im_start>{role/name}\\n{content}<im_end>\\n\n",
    "          for key, value in message.items():\n",
    "              num_tokens += len(encoding.encode(value))\n",
    "              if key == \"name\":  # if there's a name, the role is omitted\n",
    "                  num_tokens += -1  # role is always required and always 1 token\n",
    "      num_tokens += 2  # every reply is primed with <im_start>assistant\n",
    "      return num_tokens\n",
    "  else:\n",
    "      raise NotImplementedError(f\"\"\"num_tokens_from_messages() is not presently implemented for model {model}.\n",
    "  See https://github.com/openai/openai-python/blob/main/chatml.md for information on how messages are converted to tokens.\"\"\")"
   ]
  },
  {
   "cell_type": "code",
   "execution_count": 19,
   "metadata": {},
   "outputs": [
    {
     "data": {
      "text/plain": [
       "4101"
      ]
     },
     "execution_count": 19,
     "metadata": {},
     "output_type": "execute_result"
    }
   ],
   "source": [
    "messages=[{\"role\": \"system\", \"content\": os.getenv(\"prompt2\")},\n",
    "            {\"role\": \"user\", \"content\": w3},\n",
    "            {\"role\": \"assistant\", \"content\": gw3}]\n",
    "num_tokens_from_messages(messages=msgs)"
   ]
  },
  {
   "cell_type": "code",
   "execution_count": 24,
   "metadata": {},
   "outputs": [
    {
     "data": {
      "text/plain": [
       "\"Yury Gogotsi | Drexel Engineering\\rSkip to main contentContact and DirectoriesStudent and Faculty ResourcesNews and EventsAlumniDrexel HomeOpen Drexel searchSearch Drexel\\r\\t\\t\\t\\t\\t\\r\\t\\t\\t\\t\\tSubmit Search\\r\\t\\t\\t\\t\\tMenuCloseAcademicsOverviewUndergraduateGraduateCo-Op ProgramAdvisingStudy AbroadDepartmentsHigh School ProgramsAdmissionsOverviewUndergraduateGraduateVisit CampusGet More InformationStudent ExperienceOverviewCampus LifeLearning CommunityPhiladelphiaLeadership and Research ProgramsStudent OrganizationsStudent StoriesResearch and DesignOverviewResearch AreasCenters & InstitutesPatents & CommercializationFunding OpportunitiesResearch StoriesIndustry PartnershipsOverviewAcademic PartnershipsRecruitingConsultingResearch InnovationAlumni Industry BoardContact UsAboutOverviewMission & VisionCollege LeadershipStrategic PlanFaculty & StaffEmployment OpportunitiesContact and DirectoriesStudent and Faculty ResourcesNews and EventsAlumniDrexel HomeOpen Drexel searchSearch Drexel\\r\\t\\t\\t\\t\\t\\r\\t\\t\\t\\t\\tSubmit Search\\r\\t\\t\\t\\t\\tHomeAboutFaculty & StaffGYury GogotsiYury GogotsiDistinguished University and Charles T. and Ruth M. Bach ProfessorDirector, A.J. Drexel Nanomaterials InstituteMaterials Science and EngineeringOfficeCAT 383Phone215.895.6446Emailgogotsi@drexel.eduWebsite(s)Nanomaterials GroupCurriculum VitaeDownload PDFYury GogotsiDistinguished University and Charles T. and Ruth M. Bach ProfessorDirector, A.J. Drexel Nanomaterials InstituteMaterials Science and EngineeringDegrees / EducationDSc — Materials Engineering, National Academy of Sciences, Ukraine, 1995PhD — Physical Chemistry, Kiev Polytechnic, Ukraine, 1986MS — Metallurgy, Kiev Polytechnic, Ukraine, 1984 (with Honors, 5.0 perfect GPA)Research AreasMaterialsResearch InterestsGogotsi works on synthesis and surface modification of inorganic nanomaterials, such as nanodiamond, carbide-derived carbons, nanotubes, and two-dimensional carbides and nitrides (MXenes). His group also explores energy related and other applications of materials discovered and developed in Gogotsi Lab. His work on carbon and carbide nanomaterials with tunable structure and porosity had a major impact on the field of capacitive energy storage.Areas of StudyMaterials Science and EngineeringNanomaterialsAcademic Distinctions2021 — MRS Medal, Materials Research Society2021 — Materials Today Innovation Award, Elsevier\\xa02021 — Horizon Prize, Royal Society of Chemistry (RSC)2021 — Honorary Doctorate, Sumy State University, Ukraine2021 — American Chemical Society (ACS) Award in the Chemistry of Materials2020 — World Academy of Ceramics International Ceramics Prize2020 — Russian-American Science Association (RASA) George Gamow Award2020 — American Chemical Society (ACS) Philadelphia Section Award2019 — Fellow of the European Academy of Sciences2018 — Clarivate Analytics Citation Laureate2018 — Honorary Doctorate from National Technical University of Ukraine Igor Sikorsky Kyiv Polytechnic Institute (NTUU KPI”)2018 — Fellow, The International Society of Electrochemistry2018 — Tis Lahiri Memorial Lecture, Vanderbilt University2017 — Energy Storage Materials Award (Elsevier)2017 — Honorary Doctorate, Frantsevich Institute for Problems of Materials Science, National Academy of Sciences, Ukraine2016 — Nano Energy Award (Elsevier)2016 — Drexel Award for Outstanding Career Scholarly Achievement2015 — RUSNANOPRIZE 2015 (International Nanotechnology Prize)2015 — Fellow, Royal Society of Chemistry2015 — Lee Hsun Award Lecture, Institute of Metal Research, CAS, China2014 — Doctor Honoris Causa, Paul Sabatier University, Toulouse, France2014 — Highly Cited Researcher, Thomson-Reuters (again in 2015)2014 — Fred Kavli Distinguished Lectureship in Nanotechnology, MRS Spring Meeting2014 — ASM Liberty Bell Chapter’s Delaware Valley Materials Person of the Year2014 — Research Achievement Award, Department of Materials Science, Drexel University2013 — Ross Coffin Purdy Award from the American Ceramic Society2012\\xa0— European Carbon Association Award2011 — NANOSMAT Prize at the 6th NANOSMAT Conference2011 — ASM International Philadelphia Chapter Albert Sauveur Lecture Award2011 — Fellow, Materials Research Society2010 — Chang Jiang Scholar Award, Ministry of Education of P.R. China2009 — Fellow, American Association for Advancement of Science (AAAS)2008 — Fellow, The Electrochemical Society2006 — Nano 50 Awards from NASA Tech Briefs Magazine, in Innovator and Technology categories2006 — Best Paper Award, American Society for Composites2005 — Fellow, American Ceramic Society2005 — Fellow, The World Innovation Foundation2005 — Drexel University College of Engineering Outstanding Research Award2004 — Academician, World Academy of Ceramics2003 — R&D 100 Award from R&D Magazine2003 — Roland B. Snow Award from the American Ceramic Society (also in 2005 and 2007)2002 — S. Somiya Award from the International Union of Materials Research Societies (IUMRS)2002 — G.C. Kuczynski Prize from the International Institute for the Science of Sintering2002 — Full Member, International Institute for the Science of Sintering2002 — Research Achievement Award from Drexel University2002-2004 — 106 Club of Drexel University (more than $1M external funding per year)2001 — Winner of the Collegiate Inventors Competition (student advisor)1999 — UIC College of Engineering Faculty Research Award1998 — NSF CAREER Award1993 — I.N. Frantsevich Prize from the Ukrainian Academy of SciencesSelect PublicationsK. R. G. Lim, M. Shekhirev, B. C. Wyatt, B. Anasori, Y. Gogotsi, Z. W. Seh, Principles of MXenes synthesis, Nature Synthesis, 1 (8) 601-614 (2022)A. VahidMohammadi, J. Rosen, Y. Gogotsi, The World of Two-Dimensional Carbides and Nitrides (MXenes), Science, 372, eabf1581 (2021)P. Simon, Y. Gogotsi, Perspectives for electrochemical capacitors and related devices, Nature Materials, 19 (11), 1151–1163 (2020)X. Wang, M. Salari, D.-e. Jiang, J. Chapman Varela, B. Anasori, D. J. Wesolowski, S. Dai, M. W. Grinstaff, Y. Gogotsi, Electrode Material-Ionic Liquid Coupling for Electrochemical Energy Storage, Nature Reviews Materials, 5 (11), 787–808 (2020)Q. Zhao, M. Seredych, E. Precetti, C. E. Shuck, M. Harhay, R. Pang, C.-X. Shan, Y. Gogotsi, Adsorption of uremic toxins using Ti3C2Tx MXene for Dialysate Regeneration, ACS Nano, 14 (9), 11787−11798 (2020)E. Pomerantseva, F. Bonaccorso, X. Feng, Y. Cui, Y. Gogotsi, Energy storage: the future enabled by nanomaterials, Science, 366 (6468), eaan8285 (2019)K. Rasool, R.P. Pandey, P.A. Rasheed, S. Buczek, Y. Gogotsi, K.A. Mahmoud, Water treatment and environmental remediation applications of two-dimensional metal carbides (MXenes), Materials Today, 30 (11) 80-102 (2019)K. Hantanasirisakul, Y. Gogotsi, Electronic and Optical Properties of 2D Transition Metal Carbides and Nitrides (MXenes), Advanced Materials, 30 (52) 1804779 (2018)A. Sarycheva, A. Polemi, Y. Liu, K. Dandekar, B. Anasori, Y. Gogotsi, 2D Titanium Carbide (MXene) for Wireless Communication, Science Advances, 4, eaau0920 (2018)Y. Xia, T. Mathis, M.-Q. Zhao, B. Anasori, A. Dang, Z. Zhou, H. Cho, Y. Gogotsi, S. Yang, Thickness Independent Capacitance of Vertically Aligned Liquid Crystalline MXenes, Nature, 557, 409–412 (2018) X.-B. Cheng, M.-Q. Zhao, C. Chen, A. Pentecost, K. Maleski, T. Mathis, X.-Q. Zhang, Q. Zhang, J. Jiang, Y. Gogotsi, Nanodiamonds Suppress the Growth of Lithium Dendrites, Nature Communications, 8, 336 (2017) E. Pomerantseva, Y. Gogotsi, Two-dimensional Heterostructures for Energy Storage, Nature Energy, 2, 17089 (2017) M. R. Lukatskaya, S. Kota, Z. Lin, M.-Q. Zhao, N. Shpigel, M. D. Levi, J. Halim, P.-L. Taberna, M. W. Barsoum, P. Simon, Y. Gogotsi, Ultra-high-rate pseudocapacitive energy storage in two-dimensional transition metal carbides, Nature Energy, 2, 17105 (2017) B. Anasori, M. R. Lukatskaya, Y. Gogotsi, 2D metal carbides and nitrides (MXenes) for energy storage, Nature Reviews Materials, 2, 16098 (2017) F. Shahzad, M. Alhabeb, C.B. Hatter, B. Anasori, S.M. Hong, C.M. Koo, Y. Gogotsi, Electromagnetic Interference Shielding with 2D Transition Metal Carbides (MXenes), Science, 353, 1137-1140 (2016)M.R. Lukatskaya, B. Dunn, Y. Gogotsi, Multidimensional Material and Device Architectures for Hybrid Energy Storage, Nature Communications, 7, 12647 (2016)X. Xiao, H. Song, S. Lin, Y. Zhou, X. Zhan, Z. Hu, Q. Zhang, J. Sun, B. Yang, T. Li, L. Jiao, J. Zhou, J. Tang, Y. Gogotsi, Scalable Salt-Templated Synthesis of 2D Transition Metal Oxides, Nature Communications, 7, 11296 (2016)F. Shahzad, M. Alhabeb, C.B. Hatter, B. Anasori, S.M. Hong, C.M. Koo, Y. Gogotsi, Electromagnetic Interference Shielding with 2D Transition Metal Carbides (MXenes), Science, 353 (6304) 1137-1140 (2016)Huang, C. Lethien, S. Pinaud, K. Brousse, R. Laloo, V. Turq, M. Respaud, A. Demortière, B. Daffos, P. L. Taberna, B. Chaudret, Y. Gogotsi, P. Simon, On-chip and freestanding elastic carbon films for micro-supercapacitors, Science, (2016), Vol. 351, Issue 6274, pp. 691-695Y. Gogotsi, Chemical Vapour Deposition: Transition Metal Carbides Go 2D, Nature Materials, 14 (11) 1079-1080 (2015)W. Lei, V.N. Mochalin, D. Liu,S. Qin, Y. Gogotsi, Y. Chen, Boron Nitride Colloidal Solutions, Ultralight Aerogels and Freestanding Membranes, Through One-step Exfoliation and Functionalization, Nature Communications, 6, 8849 (2015)M. Ghidiu, M. R. Lukatskaya, M.-Q. Zhao, Y. Gogotsi, M. W. Barsoum, Conductive MXene Clay with High Volumetric Capacitance, Nature, (2014). Y. Gogotsi, Energy storage wrapped up, Nature, 509, 568-570 (2014)P. Simon, Y. Gogotsi, B. Dunn, Where do batteries end and supercapacitors begin? Science, 343, 1210-1211 (2014)K. Jost, B. Anasori, M. Beidaghi, G. Dion, Y. Gogotsi, Wearable Power, Science, 343, 602-603 (2014)M. R. Lukatskaya, O. Mashtalir, C. E. Ren, Y. Dall’Agnese, P. Rozier, P. Louis Taberna, M. Naguib, P. Simon, M. W. Barsoum, Y. Gogotsi, Cation Intercalation and High Volumetric Capacitance of Two-dimensional Titanium Carbide, Science, 341(6153), 1502-1505 (2013)P. Simon,Y. Gogotsi, Capacitive Energy Storage in Nanostructured Carbon-Electrolyte Systems,Accounts Chem. Res.46(5) 1094–1103 (2013) (invited review)H. Hu, Z. Zhao, W. Wan, Y. Gogotsi, J. Qiu, Ultralight and highly compressible graphene aerogels, Advanced Materials, 25(15)2219–2223 (2013)V. Mochalin, O. Shenderova, D. Ho, Y. Gogotsi, The properties and applications of nanodiamonds, Nature Nanotechnology, 7(1) 11-23 (2012) (review)J.K. McDonough, Y. Gogotsi, Carbon Onions: Synthesis and Electrochemical Applications, Interface, Fall 2013, 61-66 (2013) (invited review)M. Naguib, O. Mashtalir, J. Carle, V. Presser, J. Lu, L. Hultman, Y. Gogotsi, M.W. Barsoum, Two-Dimensional Transition Metal Carbides, ACSNano, 6(2) 1322–1331 (2012)Y. Gogotsi, P. Simon, True Performance Metrics in Electrochemical Energy Storage, Science, 334, 917-918 (2011) (Perspective)R. Singhal, Z. Orynbayeva, R.V.K. Sundaram, J.J. Niu, S. Bhattacharyya, E.A. Vitol, M.G. Schrlau, E.S. Papazoglou, G. Friedman, Y. Gogotsi, Multifunctional carbon-nanotube cellular endoscopes, Nature Nanotechnology, 6, 57-64 (2011)V. Presser, M. Heon, Y. Gogotsi, Carbide-Derived Carbons - From Porous Networks to Nanotubes and Graphene, Advanced Functional Materials, 21 (5) 810-833 (2011) (Feature and Cover article)Featured Books EditedB. Anasori, Y. Gogotsi (Ed.) 2D Metal Carbides and Nitrides (MXenes): Structure, Properties and Applications (Springer) 2019Y. Gogotsi, V. Presser (Eds.),Carbon Nanomaterials(CRC Press / Taylor & Francis) 2013, 2nd\\xa0edition,\\xa0529 pp.Y. Gogotsi (Ed.), Nanomaterials Handbook (CRC Press, Boca Raton) 2006, 800 pp.Y. Gogotsi, V. Domnich (Eds.), High Pressure Surface Science and Engineering (Institute of Physics Publ., Bristol, UK, 2003) 648 pp.\\r            Related News\\r\\r            View All12.19Gogotsi Named as National Academy of Inventors FellowMembership is this highest professional distinction for academic inventors....11.21Barsoum, Gogotsi, and Alumni Among 2022 Highly Cited ResearchersSeveral Drexel Materials faculty and alumni have been named to Clarivate's 2022 most frequently cited researchers, identified as the top 0.1% by citatio...11.1Gogotsi Awarded DOE Grant for Clean Energy SolutionsThe funds will support research into renewable energy and “low-carbon manufacturing” to cut emissions and improve existing technologies....AcademicsAdmissionsStudent ExperienceResearch and DesignIndustry PartnershipsAboutContact and DirectoriesStudent and Faculty ResourcesNews and EventsAlumniA-Z IndexFor MediaCareersPrivacy & LegalDirectoriesDirections & MapsEmergency InformationFollow College of Engineering:Drexel University, 3141 Chestnut Street, Philadelphia, PA 19104, 215.895.2000, © All Rights Reserved\""
      ]
     },
     "execution_count": 24,
     "metadata": {},
     "output_type": "execute_result"
    }
   ],
   "source": [
    "w3"
   ]
  },
  {
   "cell_type": "markdown",
   "metadata": {},
   "source": []
  }
 ],
 "metadata": {
  "kernelspec": {
   "display_name": "env",
   "language": "python",
   "name": "python3"
  },
  "language_info": {
   "codemirror_mode": {
    "name": "ipython",
    "version": 3
   },
   "file_extension": ".py",
   "mimetype": "text/x-python",
   "name": "python",
   "nbconvert_exporter": "python",
   "pygments_lexer": "ipython3",
   "version": "3.9.12"
  },
  "orig_nbformat": 4
 },
 "nbformat": 4,
 "nbformat_minor": 2
}
