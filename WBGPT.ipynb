{
 "cells": [
  {
   "cell_type": "code",
   "execution_count": 1,
   "metadata": {},
   "outputs": [],
   "source": [
    "import openai, json, os, json, pandas as pd\n",
    "from WebScraping import WebScraping\n",
    "from User import User\n",
    "from pprint import pprint\n",
    "from dotenv import load_dotenv\n",
    "\n",
    "def connectOpenAI():\n",
    "    load_dotenv()\n",
    "    openai.api_key = os.getenv(\"API_KEY\")\n",
    "connectOpenAI()"
   ]
  },
  {
   "cell_type": "code",
   "execution_count": 2,
   "metadata": {},
   "outputs": [],
   "source": [
    "def GetDataFromGPT(page):\n",
    "    connectOpenAI()\n",
    "    response = openai.ChatCompletion.create(\n",
    "        model=\"gpt-3.5-turbo\",\n",
    "        messages=[{\"role\": \"system\", \"content\": os.getenv(\"prompt\")},\n",
    "                {\"role\": \"user\", \"content\": page}],\n",
    "        temperature=0\n",
    "    )\n",
    "    data = response.choices[0].message.content\n",
    "    return data\n",
    "\n"
   ]
  },
  {
   "cell_type": "code",
   "execution_count": 3,
   "metadata": {},
   "outputs": [
    {
     "name": "stdout",
     "output_type": "stream",
     "text": [
      "True 3 Instituion found | Researcher name found | University website verified\n",
      "True 3 Instituion found | Researcher name found | University website verified\n"
     ]
    }
   ],
   "source": [
    "#Create the WebScraping class\n",
    "ws = WebScraping()\n",
    "\n",
    "#Create the Test Researchers\n",
    "zheng = User(\"Zheng Xiang\", \"Virginia Tech\")\n",
    "sean = User(\"Sean Agnew\", \"University of Virginia\")\n",
    "\n",
    "ws.initial_search(zheng)\n",
    "ws.initial_search(sean)\n",
    "\n",
    "#Scrape links\n",
    "w1 = ws.scrape_webpage(zheng.initial_search_links[0], zheng)\n",
    "w2 = ws.scrape_webpage(sean.initial_search_links[0], sean)\n"
   ]
  },
  {
   "cell_type": "code",
   "execution_count": 5,
   "metadata": {},
   "outputs": [],
   "source": [
    "results1 = json.loads(GetDataFromGPT(w1))\n",
    "results2 = json.loads(GetDataFromGPT(w2))"
   ]
  },
  {
   "cell_type": "code",
   "execution_count": 17,
   "metadata": {},
   "outputs": [
    {
     "data": {
      "text/plain": [
       "{'name': 'Zheng (Phil) Xiang',\n",
       " 'department': 'Howard Feiertag Department of Hospitality & Tourism Management',\n",
       " 'university': 'Virginia Tech',\n",
       " 'email': 'philxz@vt.edu',\n",
       " 'appointments': [{'title': 'Department Head'},\n",
       "  {'title': 'Associate Professor'}],\n",
       " 'awards': [{'name': 'Emerging Scholar of Distinction',\n",
       "   'organization': 'International Academy for the Study of Tourism'},\n",
       "  {'name': 'Best Research Paper of the Year Award',\n",
       "   'organization': 'ICHRIE Conference'},\n",
       "  {'name': 'Certificate of Teaching Award',\n",
       "   'organization': 'Pamplin College of Business'},\n",
       "  {'name': 'Best Paper Award',\n",
       "   'organization': 'ENTER 2017 eTourism Conference'},\n",
       "  {'name': 'Best Paper of the Year Award',\n",
       "   'organization': 'Electronic Markets'},\n",
       "  {'name': 'Junior Faculty Research Excellence Award',\n",
       "   'organization': 'Pamplin College of Business'},\n",
       "  {'name': 'W. Bradford Wiley Memorial Best Research Paper of the Year Award',\n",
       "   'organization': 'ICHRIE Conference'},\n",
       "  {'name': 'Best Paper Award', 'organization': 'IFITT ENTER 2012 Conference'},\n",
       "  {'name': 'Charles R. Goeldner Article of Excellence Award',\n",
       "   'organization': 'Journal of Travel Research'}],\n",
       " 'gender': 'male',\n",
       " 'domain': 'Academia',\n",
       " 'personal_website': 'N/A',\n",
       " 'research_fields': ['Travel behavior',\n",
       "  'e-Tourism',\n",
       "  'Information technology',\n",
       "  'Tourism analytics'],\n",
       " 'research_focus': ['Travel information search',\n",
       "  'Social media marketing',\n",
       "  'Business analytics for the tourism and hospitality industries'],\n",
       " 'expertise': ['Text analytics', 'Machine learning']}"
      ]
     },
     "execution_count": 17,
     "metadata": {},
     "output_type": "execute_result"
    }
   ],
   "source": [
    "results1"
   ]
  },
  {
   "cell_type": "code",
   "execution_count": 15,
   "metadata": {},
   "outputs": [
    {
     "data": {
      "text/html": [
       "<div>\n",
       "<style scoped>\n",
       "    .dataframe tbody tr th:only-of-type {\n",
       "        vertical-align: middle;\n",
       "    }\n",
       "\n",
       "    .dataframe tbody tr th {\n",
       "        vertical-align: top;\n",
       "    }\n",
       "\n",
       "    .dataframe thead th {\n",
       "        text-align: right;\n",
       "    }\n",
       "</style>\n",
       "<table border=\"1\" class=\"dataframe\">\n",
       "  <thead>\n",
       "    <tr style=\"text-align: right;\">\n",
       "      <th></th>\n",
       "      <th>name</th>\n",
       "      <th>organization</th>\n",
       "    </tr>\n",
       "  </thead>\n",
       "  <tbody>\n",
       "    <tr>\n",
       "      <th>0</th>\n",
       "      <td>Emerging Scholar of Distinction</td>\n",
       "      <td>International Academy for the Study of Tourism</td>\n",
       "    </tr>\n",
       "    <tr>\n",
       "      <th>1</th>\n",
       "      <td>Best Research Paper of the Year Award</td>\n",
       "      <td>ICHRIE Conference</td>\n",
       "    </tr>\n",
       "    <tr>\n",
       "      <th>2</th>\n",
       "      <td>Certificate of Teaching Award</td>\n",
       "      <td>Pamplin College of Business</td>\n",
       "    </tr>\n",
       "    <tr>\n",
       "      <th>3</th>\n",
       "      <td>Best Paper Award</td>\n",
       "      <td>ENTER 2017 eTourism Conference</td>\n",
       "    </tr>\n",
       "    <tr>\n",
       "      <th>4</th>\n",
       "      <td>Best Paper of the Year Award</td>\n",
       "      <td>Electronic Markets</td>\n",
       "    </tr>\n",
       "    <tr>\n",
       "      <th>5</th>\n",
       "      <td>Junior Faculty Research Excellence Award</td>\n",
       "      <td>Pamplin College of Business</td>\n",
       "    </tr>\n",
       "    <tr>\n",
       "      <th>6</th>\n",
       "      <td>W. Bradford Wiley Memorial Best Research Paper...</td>\n",
       "      <td>ICHRIE Conference</td>\n",
       "    </tr>\n",
       "    <tr>\n",
       "      <th>7</th>\n",
       "      <td>Best Paper Award</td>\n",
       "      <td>IFITT ENTER 2012 Conference</td>\n",
       "    </tr>\n",
       "    <tr>\n",
       "      <th>8</th>\n",
       "      <td>Charles R. Goeldner Article of Excellence Award</td>\n",
       "      <td>Journal of Travel Research</td>\n",
       "    </tr>\n",
       "  </tbody>\n",
       "</table>\n",
       "</div>"
      ],
      "text/plain": [
       "                                                name  \\\n",
       "0                    Emerging Scholar of Distinction   \n",
       "1              Best Research Paper of the Year Award   \n",
       "2                      Certificate of Teaching Award   \n",
       "3                                   Best Paper Award   \n",
       "4                       Best Paper of the Year Award   \n",
       "5           Junior Faculty Research Excellence Award   \n",
       "6  W. Bradford Wiley Memorial Best Research Paper...   \n",
       "7                                   Best Paper Award   \n",
       "8    Charles R. Goeldner Article of Excellence Award   \n",
       "\n",
       "                                     organization  \n",
       "0  International Academy for the Study of Tourism  \n",
       "1                               ICHRIE Conference  \n",
       "2                     Pamplin College of Business  \n",
       "3                  ENTER 2017 eTourism Conference  \n",
       "4                              Electronic Markets  \n",
       "5                     Pamplin College of Business  \n",
       "6                               ICHRIE Conference  \n",
       "7                     IFITT ENTER 2012 Conference  \n",
       "8                      Journal of Travel Research  "
      ]
     },
     "execution_count": 15,
     "metadata": {},
     "output_type": "execute_result"
    }
   ],
   "source": [
    "pd.DataFrame(results1['awards'])"
   ]
  },
  {
   "cell_type": "code",
   "execution_count": null,
   "metadata": {},
   "outputs": [],
   "source": []
  }
 ],
 "metadata": {
  "kernelspec": {
   "display_name": "env",
   "language": "python",
   "name": "python3"
  },
  "language_info": {
   "codemirror_mode": {
    "name": "ipython",
    "version": 3
   },
   "file_extension": ".py",
   "mimetype": "text/x-python",
   "name": "python",
   "nbconvert_exporter": "python",
   "pygments_lexer": "ipython3",
   "version": "3.9.12"
  },
  "orig_nbformat": 4
 },
 "nbformat": 4,
 "nbformat_minor": 2
}
