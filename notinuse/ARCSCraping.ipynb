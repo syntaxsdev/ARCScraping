{
 "cells": [
  {
   "cell_type": "code",
   "execution_count": 1,
   "metadata": {},
   "outputs": [
    {
     "name": "stdout",
     "output_type": "stream",
     "text": [
      "Time: 0.0019257068634033203\n"
     ]
    }
   ],
   "source": [
    "from ARCScraping import ARCScraping\n",
    "import time\n",
    "s = time.time()\n",
    "arc = ARCScraping('data/sample.csv')\n",
    "print(\"Time:\",time.time() - s)"
   ]
  },
  {
   "cell_type": "code",
   "execution_count": 2,
   "metadata": {},
   "outputs": [
    {
     "name": "stdout",
     "output_type": "stream",
     "text": [
      "Begin full scrape\n",
      "Researcher [['Alex', 'Ellery']] done with initial search.\n",
      "Scraping researcher method\n",
      "PAGE SCRAPED: https://carleton.ca/mae/profile/alex-ellery/\n",
      "PAGE SCRAPED:PAGE SCRAPED: https://carleton.ca/mae/profile/alex-ellery/\n",
      " https://carleton.ca/auto/people/alex-ellery/\n",
      "PAGE SCRAPED: https://www.researchgate.net/profile/Alex-Ellery\n",
      "PAGE SCRAPED:PAGE SCRAPED:PAGE SCRAPED: https://ieeexplore.ieee.org/author/37944917800\n",
      " https://dl.acm.org/profile/81100540706\n",
      "PAGE SCRAPED: https://carleton-ca.academia.edu/AEllery\n",
      "PAGE SCRAPED: https://theconversation.com/profiles/alex-ellery-700515\n",
      "PAGE SCRAPED: https://smartwatermagazine.com/blogs/alex-ellery\n",
      " https://us.sagepub.com/en-us/nam/author/alex-ellery\n",
      "PAGE SCRAPED: https://www.audacy.com/podcast/stories-from-space-a52c0/episodes/von-neumann-probes-with-professor-alex-ellery-stories-from-space-podcast-with-matthew-s-williams-494f6\n",
      "PAGE SCRAPED: https://climatechange.insightconferences.com/speaker/2017/alex-ellery-carleton-university-canada\n",
      "PAGE SCRAPED: https://spaceq.ca/the-nasa-artemis-ecosystem-with-alex-ellery/\n",
      "PAGE SCRAPED: https://everipedia.org/wiki/lang_en/alex-ellery\n",
      "PAGE SCRAPED: https://loop.frontiersin.org/people/454739/overview\n",
      "PAGE SCRAPED: https://loop.frontiersin.org/people/454739/publications\n",
      "PAGE SCRAPED: http://images.spaceref.com/docs/2013/CSCA2013/Alex-Elery-presentation.pdf\n",
      "PAGE SCRAPED: http://iafastro.directory/iac/paper/id/2109/abstract-pdf/IAC-08,A3,2.B,11,x2109.brief.pdf%3F2016-08-23.13:42:17\n"
     ]
    },
    {
     "name": "stderr",
     "output_type": "stream",
     "text": [
      "Some characters could not be decoded, and were replaced with REPLACEMENT CHARACTER.\n"
     ]
    },
    {
     "name": "stdout",
     "output_type": "stream",
     "text": [
      "PAGE SCRAPED: https://uk.sagepub.com/en-gb/eur/author/alex-ellery\n",
      "PAGE SCRAPED:PAGE SCRAPED: https://open.spotify.com/episode/0QkDBPucokXHlSUCpyyX9Y\n",
      " https://storiesfromspace.simplecast.com/episodes/von-neumann-probes-with-professor-alex-ellery-stories-from-space-podcast-with-matthew-s-williams\n",
      "PAGE SCRAPED: https://storiesbywilliams.com/2023/01/06/episode-twenty-three-of-stories-from-space-is-now-live/\n",
      "PAGE SCRAPED: https://www.mitacs.ca/en/impact/intern-has-his-sights-set-space\n",
      "PAGE SCRAPED: https://link.springer.com/book/10.1007/978-3-642-03259-2\n"
     ]
    },
    {
     "name": "stderr",
     "output_type": "stream",
     "text": [
      "Some characters could not be decoded, and were replaced with REPLACEMENT CHARACTER.\n"
     ]
    },
    {
     "name": "stdout",
     "output_type": "stream",
     "text": [
      "Researcher [['Alex', 'Ellery']] done with scraping..\n",
      "Done running all researchers\n"
     ]
    }
   ],
   "source": [
    "await arc.run()"
   ]
  }
 ],
 "metadata": {
  "kernelspec": {
   "display_name": "base",
   "language": "python",
   "name": "python3"
  },
  "language_info": {
   "codemirror_mode": {
    "name": "ipython",
    "version": 3
   },
   "file_extension": ".py",
   "mimetype": "text/x-python",
   "name": "python",
   "nbconvert_exporter": "python",
   "pygments_lexer": "ipython3",
   "version": "3.9.12"
  },
  "orig_nbformat": 4
 },
 "nbformat": 4,
 "nbformat_minor": 2
}
